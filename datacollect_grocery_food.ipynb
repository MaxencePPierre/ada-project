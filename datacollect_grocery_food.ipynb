{
 "cells": [
  {
   "cell_type": "markdown",
   "metadata": {},
   "source": [
    "# Grocery and Gourmet Food"
   ]
  },
  {
   "cell_type": "markdown",
   "metadata": {},
   "source": [
    "### Importing libraries"
   ]
  },
  {
   "cell_type": "code",
   "execution_count": 1,
   "metadata": {},
   "outputs": [],
   "source": [
    "import pandas as pd\n",
    "import numpy as np\n",
    "import scipy as sp\n",
    "import matplotlib.pyplot as plt\n",
    "from datetime import datetime\n",
    "\n",
    "%matplotlib inline"
   ]
  },
  {
   "cell_type": "code",
   "execution_count": 2,
   "metadata": {},
   "outputs": [],
   "source": [
    "import findspark\n",
    "findspark.init()\n",
    "import pyspark\n",
    "\n",
    "from pyspark.sql.types import DateType\n",
    "from pyspark.sql.types import TimestampType\n",
    "from pyspark.sql.functions import *\n",
    "import pyspark.sql.functions as fn\n",
    "from pyspark.sql import Window\n",
    "from pyspark.sql.types import *\n",
    "from pyspark.sql import *\n",
    "from pyspark.sql import SQLContext\n",
    "\n",
    "spark = SparkSession.builder.getOrCreate()\n",
    "sc = spark.sparkContext\n",
    "sqlContext = SQLContext(sc)"
   ]
  },
  {
   "cell_type": "markdown",
   "metadata": {},
   "source": [
    "<br>\n",
    "\n",
    "Amazon Data : Collection/Analysis of data from Amazon (Reviews and Metadata of products) associated to the thema : ecology, bio, renewable etc... (see keywords vector)\n",
    "\n",
    "__Review data__ : \n",
    "Download http://jmcauley.ucsd.edu/data/amazon/links.html go to 'Per Category Files' section and DL 'reviews' file for a \n",
    "chosen category. (Or the Complete Review Data 18GB) It is better to not take the 5-core data as it contains only 5 reviews for each products (we're missing data)\n",
    "\n",
    ">Features:\n",
    "- reviewerID - ID of the reviewer, e.g. A2SUAM1J3GNN3B\n",
    "- asin - ID of the product, e.g. 0000013714\n",
    "- reviewerName - name of the reviewer\n",
    "- helpful - helpfulness rating of the review, e.g. 2/3\n",
    "- reviewText - text of the review\n",
    "- overall - rating of the product\n",
    "- summary - summary of the review\n",
    "- unixReviewTime - time of the review (unix time)\n",
    "- reviewTime - time of the review (raw)\n",
    "\n",
    "__Metadata (Product)__ : \n",
    "Download http://jmcauley.ucsd.edu/data/amazon/links.html go to 'Per Category Files' section and DL 'metadata' file for a chosen category. (Or the Complete Review Data 18GB) It is better to not take the 5-core data as it contains only 5 reviews for each products (we're missing data)\n",
    "\n",
    "\n",
    ">Features:\n",
    "- asin - ID of the product, e.g. 0000031852\n",
    "- title - name of the product\n",
    "- price - price in US dollars (at time of crawl)\n",
    "- imUrl - url of the product image\n",
    "- related - related products (also bought, also viewed, bought together, buy after viewing)\n",
    "- salesRank - sales rank information\n",
    "- brand - brand name\n",
    "- categories - list of categories the product belongs to\n",
    "\n"
   ]
  },
  {
   "cell_type": "markdown",
   "metadata": {},
   "source": [
    "Create a folder named 'data' and store the downloaded json zip file. Then unzip in there to get the json file."
   ]
  },
  {
   "cell_type": "code",
   "execution_count": 3,
   "metadata": {},
   "outputs": [],
   "source": [
    "DATA_DIR = 'data/'"
   ]
  },
  {
   "cell_type": "markdown",
   "metadata": {},
   "source": [
    "<br>\n",
    "\n"
   ]
  },
  {
   "cell_type": "markdown",
   "metadata": {},
   "source": [
    "Need to load once the global json. You probably won't be able to store it in parquet directly because some features ('related' or 'categories' e.g) can't be written in a file as it is a specific array with weird names. \n",
    "You then to clean first the data and store it to parquet. If you want next to retrieve some deleted features ('related' for example) you better do the filtering and extraction on the cleaned dataset and then merge or filter the global dataset using the new one."
   ]
  },
  {
   "cell_type": "markdown",
   "metadata": {},
   "source": [
    "<br>\n",
    "\n",
    "### Importing meta data\n",
    "<br>"
   ]
  },
  {
   "cell_type": "code",
   "execution_count": 73,
   "metadata": {},
   "outputs": [],
   "source": [
    "meta_products = spark.read.json(DATA_DIR+\"meta_Grocery_and_Gourmet_Food.json\")"
   ]
  },
  {
   "cell_type": "code",
   "execution_count": 65,
   "metadata": {},
   "outputs": [
    {
     "data": {
      "text/plain": [
       "DataFrame[summary: string, asin: string, brand: string, description: string, imUrl: string, price: string, title: string]"
      ]
     },
     "execution_count": 65,
     "metadata": {},
     "output_type": "execute_result"
    }
   ],
   "source": [
    "meta_products.describe()"
   ]
  },
  {
   "cell_type": "code",
   "execution_count": 66,
   "metadata": {},
   "outputs": [
    {
     "name": "stdout",
     "output_type": "stream",
     "text": [
      "+----------+-----+--------------------+--------------------+--------------------+-----+-------+--------------------+--------------------+\n",
      "|      asin|brand|          categories|         description|               imUrl|price|related|           salesRank|               title|\n",
      "+----------+-----+--------------------+--------------------+--------------------+-----+-------+--------------------+--------------------+\n",
      "|      null| null|                null|                null|                null| null|   null|                null|                null|\n",
      "|0700026444| null|[[Grocery & Gourm...|Silverpot Tea, Pu...|http://ecx.images...| null|   null|[,,,,,,,, 620307,...|Pure Darjeeling T...|\n",
      "+----------+-----+--------------------+--------------------+--------------------+-----+-------+--------------------+--------------------+\n",
      "only showing top 2 rows\n",
      "\n"
     ]
    }
   ],
   "source": [
    "meta_products.show(n=2)"
   ]
  },
  {
   "cell_type": "markdown",
   "metadata": {},
   "source": [
    "<br>\n",
    "\n",
    "### Meta data preprocessing"
   ]
  },
  {
   "cell_type": "markdown",
   "metadata": {},
   "source": [
    "These are the IDs for each feature in order to extract them in some filtering/flatmap functions with spark\n",
    "\n",
    "Example: lambda r: r[0], r[1] etc...\n",
    "\n",
    "- asin 0\n",
    "- brand 1\n",
    "- categories 2\n",
    "- description 3\n",
    "- imUrl 4\n",
    "- price 5\n",
    "- related 6\n",
    "- salesRank 7\n",
    "- title 8"
   ]
  },
  {
   "cell_type": "markdown",
   "metadata": {},
   "source": [
    "> The next code will extract the relevant and writtable features. It will then store it into parquet "
   ]
  },
  {
   "cell_type": "code",
   "execution_count": 8,
   "metadata": {},
   "outputs": [],
   "source": [
    "# This will extract only the features and turn them into more readable features.\n",
    "# Filter salesRank = None because this will lead to problems for the writing in parquet\n",
    "# Features removed : corruptRecord, imURL, related\n",
    "data_cleaned = meta_products.rdd.filter(lambda r: (r[7] != None ) )  \\\n",
    "                    .flatMap(lambda r: [(r[0], r[1], r[2][0][0], r[3], r[5],r[7]['Grocery & Gourmet Food'],  r[8] )]) \\"
   ]
  },
  {
   "cell_type": "code",
   "execution_count": 9,
   "metadata": {},
   "outputs": [],
   "source": [
    "# Define the StructType to define the DataFrame that we'll create with the previously extracted rdd table\n",
    "schema = StructType([\n",
    "    StructField(\"asin\", StringType(), True),\n",
    "    StructField(\"brand\", StringType(), True),\n",
    "    StructField(\"category\", StringType(), True),\n",
    "    StructField(\"description\", StringType(), True),\n",
    "    StructField(\"price\", FloatType(), True),\n",
    "    StructField(\"salesRank\", IntegerType(), True),\n",
    "    StructField(\"title\", StringType(), True)\n",
    "])"
   ]
  },
  {
   "cell_type": "code",
   "execution_count": 10,
   "metadata": {
    "scrolled": true
   },
   "outputs": [],
   "source": [
    "# Transform the RDD data into DataFrame (we'll then be able to store it in Parquet)\n",
    "datacleaned_DF = spark.createDataFrame(data_cleaned, schema=schema)"
   ]
  },
  {
   "cell_type": "code",
   "execution_count": 67,
   "metadata": {},
   "outputs": [
    {
     "name": "stdout",
     "output_type": "stream",
     "text": [
      "+----------+-----+--------------------+--------------------+-----+---------+--------------------+\n",
      "|      asin|brand|            category|         description|price|salesRank|               title|\n",
      "+----------+-----+--------------------+--------------------+-----+---------+--------------------+\n",
      "|B001EO5U92| null|Grocery & Gourmet...|Naturally nutriti...| null|   166472|Arrowhead Mills G...|\n",
      "|B001EO5YMA| null|Grocery & Gourmet...|Cugino's Gourmet ...| null|   355714|Cugino's Gourmet ...|\n",
      "+----------+-----+--------------------+--------------------+-----+---------+--------------------+\n",
      "only showing top 2 rows\n",
      "\n"
     ]
    }
   ],
   "source": [
    "# Example of the cleaned data (and association with the created StrucType schema)\n",
    "datacleaned_DF.show(2)"
   ]
  },
  {
   "cell_type": "code",
   "execution_count": 12,
   "metadata": {
    "scrolled": false
   },
   "outputs": [],
   "source": [
    "#Save into parquet to save time in the next times\n",
    "#datacleaned_DF.write.mode('overwrite').parquet(\"meta_Grocery_and_Gourmet_Food.parquet\")"
   ]
  },
  {
   "cell_type": "code",
   "execution_count": 13,
   "metadata": {},
   "outputs": [],
   "source": [
    "# Read from the parquet data\n",
    "datacleaned_DF = spark.read.parquet(\"meta_Grocery_and_Gourmet_Food.parquet\")"
   ]
  },
  {
   "cell_type": "code",
   "execution_count": 71,
   "metadata": {
    "scrolled": true
   },
   "outputs": [
    {
     "data": {
      "text/plain": [
       "[Row(asin='B001EO5U92', brand=None, category='Grocery & Gourmet Food', description=\"Naturally nutritious. Made with organic rice flour. Wheat free. Gluten free, a special blend. For those of us on gluten free diets, this mix is ideal. Enjoy pancakes hot off the griddle or flavorful muffins from your oven whenever you choose. We're sure you'll agree that we've made it easy and satisfying! From America's heartland to your heart. Arrowhead Mills has been the pioneer and leader in organic baking mixes, grains, cereals and nut butters sine 1960. We believe in nature's abundance and treat food with respect - not chemicals! Capturing the essence if the earth with organically grown ingredients, Arrowhead Mills takes you back to the basics with the best-tasting, most diverse selection of products for home-baked goodness. Made with organic rice flour. Good source of calcium. No preservatives. Made with no genetically engineered ingredients. Certified organic by the Texas Department of Agriculture (TDA).\", price=None, salesRank=166472, title='Arrowhead Mills Gluten-Free Pancake &amp; Baking Mix,  28-Ounce Packages (Pack of 3)')]"
      ]
     },
     "execution_count": 71,
     "metadata": {},
     "output_type": "execute_result"
    }
   ],
   "source": [
    "# Example to see the structure of data (The StrucType schema is indeed there)\n",
    "datacleaned_DF.take(1)"
   ]
  },
  {
   "cell_type": "markdown",
   "metadata": {},
   "source": [
    "Now that we created the new dataset here are the features ID of this new one.\n",
    "\n",
    "These are the IDs for each feature in order to extract them in some filtering/flatmap functions with spark\n",
    "Example: lambda r: r[0], r[1] etc...\n",
    "\n",
    "- asin 0\n",
    "- brand 1\n",
    "- category 2\n",
    "- description 3\n",
    "- price 4 \n",
    "- salesRank 5\n",
    "- title 6"
   ]
  },
  {
   "cell_type": "code",
   "execution_count": 15,
   "metadata": {},
   "outputs": [
    {
     "name": "stdout",
     "output_type": "stream",
     "text": [
      "Number of data samples : 145854\n"
     ]
    }
   ],
   "source": [
    "print(\"Number of data samples : \" + str(datacleaned_DF.rdd.count()) )"
   ]
  },
  {
   "cell_type": "markdown",
   "metadata": {},
   "source": [
    "> We will now extract the data related to our thema : Ecology, Bio, Renewable etc..."
   ]
  },
  {
   "cell_type": "code",
   "execution_count": null,
   "metadata": {},
   "outputs": [],
   "source": [
    "keywords = [\" global warming\", \" solar energy\", \" recycling \", \" pollution \", \"solar power\", \" endangered species\", \"air pollution\", \\\n",
    "\" water pollution\", \" wind energy\", \" climate change\", \" wind power\", \" recycle \", \" deforestation\", \" greenhouse effect\", \"environment\", \\\n",
    "\" sustainability \", \" natural resources\", \"alternative energy\", \" climate \", \"global warming\", \"renewable energy\", \" ecology\", \"composting\", \\\n",
    "\" carbon footprint\", \" bio \", \" biosphere \", \" renewable \"]"
   ]
  },
  {
   "cell_type": "code",
   "execution_count": 16,
   "metadata": {},
   "outputs": [],
   "source": [
    "# Filter with title and description not equal to None\n",
    "# We will then be able to test if those features contains words defined in the keyword vector \n",
    "# The keyword vector represents the thema that we want : ecology, bio etc...\n",
    "filter_products_bio = datacleaned_DF.rdd.filter(lambda r: (r[6] != None) &  (r[3] != None)) \\\n",
    "                    .filter(lambda r: (any(word in r[6].lower() for word in keywords)) | (any(word in r[3].lower() for word in keywords)) ) "
   ]
  },
  {
   "cell_type": "code",
   "execution_count": 17,
   "metadata": {
    "scrolled": true
   },
   "outputs": [
    {
     "name": "stdout",
     "output_type": "stream",
     "text": [
      "Number of data samples related to ecology/bio/renewable etc... : 2187\n"
     ]
    }
   ],
   "source": [
    "print(\"Number of data samples related to ecology/bio/renewable etc... : \" + str(filter_products_bio.count()) )"
   ]
  },
  {
   "cell_type": "markdown",
   "metadata": {},
   "source": [
    "<br>\n",
    "\n",
    "Let's take a look at the proportion of extracted data compared to the full data that was available:"
   ]
  },
  {
   "cell_type": "code",
   "execution_count": 74,
   "metadata": {},
   "outputs": [
    {
     "data": {
      "image/png": "[encoded data removed]",
      "text/plain": [
       "<Figure size 432x288 with 1 Axes>"
      ]
     },
     "metadata": {},
     "output_type": "display_data"
    }
   ],
   "source": [
    "labels = 'extracted data', ''; colors_graph = ['lightcoral', 'skyblue']\n",
    "plt.pie([filter_products_bio.count(), datacleaned_DF.rdd.count()-filter_products_bio.count()], autopct='%1.1f%%', explode=(0.1, 0), labels=labels, colors=colors_graph)\n",
    "plt.title('Number of data samples related to ecology/bio/renewable etc...')\n",
    "plt.axis('equal'); plt.show()"
   ]
  },
  {
   "cell_type": "markdown",
   "metadata": {},
   "source": [
    "Let's take a look at one entry that was extracted:"
   ]
  },
  {
   "cell_type": "code",
   "execution_count": 72,
   "metadata": {
    "scrolled": true
   },
   "outputs": [
    {
     "data": {
      "text/plain": [
       "[Row(asin='B001EO602S', brand=None, category='Grocery & Gourmet Food', description='The CO2 process delivers a natural, de-caffeinated tea in the purest way possible. Carbon dioxide, acting as a solvent in a super critical state under high-pressure and low temperature, dissolves all active components from natural materials in the leaf. By varying the extraction/separation pressures and temperatures, CO2 makes it possible to selectively extract only the caffeine, leaving the flavor intact. As a solvent, carbon dioxide is non-toxic, odorless, tasteless, germicidal, food-safe and non-combustible and the process does not cause environmental harm.', price=None, salesRank=267957, title='SerendipiTea De-Caff Slim Mint, Chocolate, Vanilla, Rooiboos, Mint &amp; Organic Black Tea, 4-Ounce Boxes (Pack of 2)')]"
      ]
     },
     "execution_count": 72,
     "metadata": {},
     "output_type": "execute_result"
    }
   ],
   "source": [
    "filter_products_bio.take(1)"
   ]
  },
  {
   "cell_type": "code",
   "execution_count": 19,
   "metadata": {},
   "outputs": [],
   "source": [
    "# Transform the RDD data into DataFrame (we'll then be able work and join with review data)\n",
    "DF_filter_products_bio = spark.createDataFrame(filter_products_bio)"
   ]
  },
  {
   "cell_type": "markdown",
   "metadata": {},
   "source": [
    "<br>\n",
    "\n",
    "### Importing reviews data\n",
    "<br>"
   ]
  },
  {
   "cell_type": "code",
   "execution_count": 20,
   "metadata": {},
   "outputs": [],
   "source": [
    "reviews = spark.read.json(DATA_DIR+\"reviews_Grocery_and_Gourmet_Food.json\")"
   ]
  },
  {
   "cell_type": "code",
   "execution_count": 21,
   "metadata": {},
   "outputs": [
    {
     "data": {
      "text/plain": [
       "[Row(asin='0657745316', helpful=[0, 0], overall=5.0, reviewText=\"No sugar, no GMO garbage, no fillers that come with store bought extracts. This stuff is just amazing. I use it in everything from baking to cooking and even as suggested in my coffee which is saying a lot because I normally do not care for flavored coffee! You cannot go wrong with this. I've ordered from this merchant before, customer satisfaction is their priority and service was quick, shipped right out with tracking even! I'll be buying from GLS Goods again! I won't use any other vanilla!\", reviewTime='10 11, 2013', reviewerID='A1ZQZ8RJS1XVTX', reviewerName='gsxrgirl', summary=\"Best vanilla I've ever had\", unixReviewTime=1381449600)]"
      ]
     },
     "execution_count": 21,
     "metadata": {},
     "output_type": "execute_result"
    }
   ],
   "source": [
    "# To see an example of the data\n",
    "reviews.take(1)"
   ]
  },
  {
   "cell_type": "markdown",
   "metadata": {},
   "source": [
    "These are the IDs for each feature in order to extract them in some filtering/flatmap functions with spark\n",
    "\n",
    "Example: lambda r: r[0], r[1] etc...\n",
    "\n",
    "- asin 0\n",
    "- helpful 1\n",
    "- overall 2\n",
    "- reviewText 3\n",
    "- reviewTime 4\n",
    "- reviewerID 5\n",
    "- reviewerName 6 \n",
    "- summary 7 \n",
    "- unixReviewTime 8"
   ]
  },
  {
   "cell_type": "code",
   "execution_count": 22,
   "metadata": {},
   "outputs": [],
   "source": [
    "#Save into parquet to save time in the next times\n",
    "reviews.write.mode('overwrite').parquet(\"reviews_Grocery_and_Gourmet_Food.parquet\")"
   ]
  },
  {
   "cell_type": "code",
   "execution_count": 23,
   "metadata": {},
   "outputs": [],
   "source": [
    "# Read from the parquet data\n",
    "reviews = spark.read.parquet(\"reviews_Grocery_and_Gourmet_Food.parquet\")"
   ]
  },
  {
   "cell_type": "code",
   "execution_count": 24,
   "metadata": {},
   "outputs": [
    {
     "name": "stdout",
     "output_type": "stream",
     "text": [
      "Number of reviews : 1297156\n"
     ]
    }
   ],
   "source": [
    "print(\"Number of reviews : \" + str(reviews.rdd.count()) )"
   ]
  },
  {
   "cell_type": "markdown",
   "metadata": {},
   "source": [
    "__Join Reviews and Metadata__ \n",
    "\n",
    "We will now join the metadata and review dataset using the product ID. Then we'll have the reviews for all products concerned. Here we will join with the filtered data containing the products related to the thema 'bio,recycle,ecology' etc... \n",
    "\n",
    "Then in each row we will have the product description and the reviews associated"
   ]
  },
  {
   "cell_type": "code",
   "execution_count": 25,
   "metadata": {},
   "outputs": [],
   "source": [
    "# This way allows no duplicate\n",
    "review_product_join = DF_filter_products_bio.join(reviews, ['asin'])"
   ]
  },
  {
   "cell_type": "code",
   "execution_count": 26,
   "metadata": {},
   "outputs": [
    {
     "name": "stdout",
     "output_type": "stream",
     "text": [
      "Number of reviews related to bio/renewable/ecology etc... : 22535\n"
     ]
    }
   ],
   "source": [
    "print(\"Number of reviews related to bio/renewable/ecology etc... : \" + str(review_product_join.rdd.count()) )"
   ]
  },
  {
   "cell_type": "code",
   "execution_count": 27,
   "metadata": {
    "scrolled": true
   },
   "outputs": [
    {
     "data": {
      "text/plain": [
       "[Row(asin='B000CFJDWY', brand='Late July', category='Grocery & Gourmet Food', description='When we founded Cape Cod Potato Chips, Inc., and Chatham Village Foods, Inc., we dedicated ourselves to making the best tasting all-natural snacks in the world. Today, the greater availability of organic ingredients has allowed us to bring that dedication to a higher level with our new company: Late July Organic Snacks.The ingredients for our new snacks are a throwback to the days before modern agribusiness. Unlike conventional, pesticide-sprayed crops grown for high yields rather than flavor, organic crops are fragile and expensive, but the payoff is immense: superior flavor, peace of mind, and a cleaner, safer environment.Our recipes are inspired by a bygone era as well. Through our snacks, we hope to perpetuate the tradition of the small, local 19th-century snack maker that used to be found all across the country.', price=43.38999938964844, salesRank=6472, title='Late July Organic Classic Rich Crackers, 6-Ounce Boxes (Pack of 12)', helpful=[1, 1], overall=4.0, reviewText=\"It's hard to find an environmentally sound cracker. Late July appears to be a socially responsible corporation. They apparently did not donate to the anti-gmo labeling political campaigns. The crackers are organic and they taste great. Even though they may look like a RITZ in the picture, they taste great and are more comparable to Back To Nature's Stoneground Wheat Organic crackers in taste. These crackers wold be perfect and would get 5 stars if they did not contain PALM OIL. Palm oil production is responsible for environmental degradation in Malaysia and Indonesia. I don't know where Late July sources their palm oil. Also, palm oil is not good for your health\", reviewTime='11 21, 2013', reviewerID='A1Z9NIQKY3VLVG', reviewerName='A Writer', summary='Contains PALM OIL', unixReviewTime=1384992000)]"
      ]
     },
     "execution_count": 27,
     "metadata": {},
     "output_type": "execute_result"
    }
   ],
   "source": [
    "# Example of joined data\n",
    "review_product_join.take(1)"
   ]
  },
  {
   "cell_type": "code",
   "execution_count": 28,
   "metadata": {},
   "outputs": [],
   "source": [
    "def minUnixTime(accum, n):\n",
    "    if(accum < n):\n",
    "        return accum\n",
    "    else:\n",
    "        return n"
   ]
  },
  {
   "cell_type": "code",
   "execution_count": 29,
   "metadata": {},
   "outputs": [],
   "source": [
    "import pyspark.sql.functions as sqlf"
   ]
  },
  {
   "cell_type": "code",
   "execution_count": 30,
   "metadata": {},
   "outputs": [],
   "source": [
    "firstreview = review_product_join.groupBy(\"asin\").agg(sqlf.min(\"unixReviewTime\"))\n",
    "#.min('unixReviewTime')"
   ]
  },
  {
   "cell_type": "code",
   "execution_count": 31,
   "metadata": {},
   "outputs": [
    {
     "data": {
      "text/plain": [
       "[Row(asin='B000CFJDWY', min(unixReviewTime)=1162771200),\n",
       " Row(asin='B000F4SHBU', min(unixReviewTime)=1171238400),\n",
       " Row(asin='B000FFGQH6', min(unixReviewTime)=1163203200),\n",
       " Row(asin='B000H7D1N4', min(unixReviewTime)=1290729600),\n",
       " Row(asin='B001ELL2TM', min(unixReviewTime)=1214956800)]"
      ]
     },
     "execution_count": 31,
     "metadata": {},
     "output_type": "execute_result"
    }
   ],
   "source": [
    "firstreview.take(5)"
   ]
  },
  {
   "cell_type": "code",
   "execution_count": 32,
   "metadata": {},
   "outputs": [],
   "source": [
    "year_reviews_Pandas = firstreview.toPandas()"
   ]
  },
  {
   "cell_type": "code",
   "execution_count": 33,
   "metadata": {
    "scrolled": true
   },
   "outputs": [
    {
     "data": {
      "text/html": [
       "<div>\n",
       "<style scoped>\n",
       "    .dataframe tbody tr th:only-of-type {\n",
       "        vertical-align: middle;\n",
       "    }\n",
       "\n",
       "    .dataframe tbody tr th {\n",
       "        vertical-align: top;\n",
       "    }\n",
       "\n",
       "    .dataframe thead th {\n",
       "        text-align: right;\n",
       "    }\n",
       "</style>\n",
       "<table border=\"1\" class=\"dataframe\">\n",
       "  <thead>\n",
       "    <tr style=\"text-align: right;\">\n",
       "      <th></th>\n",
       "      <th>asin</th>\n",
       "      <th>min(unixReviewTime)</th>\n",
       "    </tr>\n",
       "  </thead>\n",
       "  <tbody>\n",
       "    <tr>\n",
       "      <th>0</th>\n",
       "      <td>B000CFJDWY</td>\n",
       "      <td>1162771200</td>\n",
       "    </tr>\n",
       "    <tr>\n",
       "      <th>1</th>\n",
       "      <td>B000F4SHBU</td>\n",
       "      <td>1171238400</td>\n",
       "    </tr>\n",
       "    <tr>\n",
       "      <th>2</th>\n",
       "      <td>B000FFGQH6</td>\n",
       "      <td>1163203200</td>\n",
       "    </tr>\n",
       "    <tr>\n",
       "      <th>3</th>\n",
       "      <td>B000H7D1N4</td>\n",
       "      <td>1290729600</td>\n",
       "    </tr>\n",
       "    <tr>\n",
       "      <th>4</th>\n",
       "      <td>B001ELL2TM</td>\n",
       "      <td>1214956800</td>\n",
       "    </tr>\n",
       "  </tbody>\n",
       "</table>\n",
       "</div>"
      ],
      "text/plain": [
       "         asin  min(unixReviewTime)\n",
       "0  B000CFJDWY           1162771200\n",
       "1  B000F4SHBU           1171238400\n",
       "2  B000FFGQH6           1163203200\n",
       "3  B000H7D1N4           1290729600\n",
       "4  B001ELL2TM           1214956800"
      ]
     },
     "execution_count": 33,
     "metadata": {},
     "output_type": "execute_result"
    }
   ],
   "source": [
    "year_reviews_Pandas.head()"
   ]
  },
  {
   "cell_type": "code",
   "execution_count": 34,
   "metadata": {},
   "outputs": [],
   "source": [
    "year_reviews_Pandas['Year'] = pd.to_datetime(year_reviews_Pandas['min(unixReviewTime)'],unit='s').map(lambda x: x.year)"
   ]
  },
  {
   "cell_type": "code",
   "execution_count": 35,
   "metadata": {
    "scrolled": false
   },
   "outputs": [
    {
     "data": {
      "text/plain": [
       "array([[<matplotlib.axes._subplots.AxesSubplot object at 0x10c6e6550>]],\n",
       "      dtype=object)"
      ]
     },
     "execution_count": 35,
     "metadata": {},
     "output_type": "execute_result"
    },
    {
     "data": {
      "image/png": "[encoded data removed]",
      "text/plain": [
       "<Figure size 432x288 with 1 Axes>"
      ]
     },
     "metadata": {},
     "output_type": "display_data"
    }
   ],
   "source": [
    "year_reviews_Pandas.hist(\"Year\", color=\"lime\", log=True,bins=14)"
   ]
  },
  {
   "cell_type": "markdown",
   "metadata": {},
   "source": [
    "Evolution of nb of reviews /year linked to products bio/renwable etc..."
   ]
  },
  {
   "cell_type": "code",
   "execution_count": 36,
   "metadata": {},
   "outputs": [],
   "source": [
    "globalfirstreview = reviews.groupBy(\"asin\").agg(sqlf.min(\"unixReviewTime\"))"
   ]
  },
  {
   "cell_type": "code",
   "execution_count": 37,
   "metadata": {},
   "outputs": [
    {
     "data": {
      "text/plain": [
       "[Row(asin='B0000D1699', min(unixReviewTime)=1341532800),\n",
       " Row(asin='B0000D17HO', min(unixReviewTime)=1405036800),\n",
       " Row(asin='B0000D89E8', min(unixReviewTime)=1322092800),\n",
       " Row(asin='B0000D94PL', min(unixReviewTime)=1367107200),\n",
       " Row(asin='B0000DC3QJ', min(unixReviewTime)=1154995200)]"
      ]
     },
     "execution_count": 37,
     "metadata": {},
     "output_type": "execute_result"
    }
   ],
   "source": [
    "globalfirstreview.take(5)"
   ]
  },
  {
   "cell_type": "code",
   "execution_count": 38,
   "metadata": {},
   "outputs": [],
   "source": [
    "globalyear_reviews_Pandas = globalfirstreview.toPandas()"
   ]
  },
  {
   "cell_type": "code",
   "execution_count": 39,
   "metadata": {},
   "outputs": [],
   "source": [
    "globalyear_reviews_Pandas['Year'] = pd.to_datetime(globalyear_reviews_Pandas['min(unixReviewTime)'],unit='s').map(lambda x: x.year)"
   ]
  },
  {
   "cell_type": "code",
   "execution_count": 40,
   "metadata": {},
   "outputs": [
    {
     "data": {
      "text/plain": [
       "array([[<matplotlib.axes._subplots.AxesSubplot object at 0x117dab048>]],\n",
       "      dtype=object)"
      ]
     },
     "execution_count": 40,
     "metadata": {},
     "output_type": "execute_result"
    },
    {
     "data": {
      "image/png": "[encoded data removed]",
      "text/plain": [
       "<Figure size 432x288 with 1 Axes>"
      ]
     },
     "metadata": {},
     "output_type": "display_data"
    }
   ],
   "source": [
    "globalyear_reviews_Pandas.hist(\"Year\", log=True, color=\"sienna\", bins = 14)"
   ]
  },
  {
   "cell_type": "markdown",
   "metadata": {},
   "source": [
    "We can see in the merged dataframe that there is the features from metadata about the products, and the features about the reviews. We will then describe the features ID : \n",
    "\n",
    "Example: lambda r: r[0], r[1] etc...\n",
    "\n",
    "- asin 0\n",
    "- brand 1\n",
    "- category 2\n",
    "- description 3\n",
    "- price 4\n",
    "- salesRank 5\n",
    "- title 6\n",
    "- helpful 7 \n",
    "- overall 8\n",
    "- reviewText 9\n",
    "- reviewTime 10\n",
    "- reviewerID 11\n",
    "- reviewerName 12\n",
    "- summary 13\n",
    "- unixReviewTime 14\n",
    "\n"
   ]
  },
  {
   "cell_type": "code",
   "execution_count": 41,
   "metadata": {},
   "outputs": [],
   "source": [
    "nbreviews_perproduct=  review_product_join.rdd.map(lambda r: [r[0],1]) \\\n",
    "            .reduceByKey(lambda a,b: a+b)"
   ]
  },
  {
   "cell_type": "code",
   "execution_count": 42,
   "metadata": {},
   "outputs": [],
   "source": [
    "nbreviews_DF = spark.createDataFrame(nbreviews_perproduct, ['productID','freq'])"
   ]
  },
  {
   "cell_type": "code",
   "execution_count": 43,
   "metadata": {},
   "outputs": [],
   "source": [
    "nbreviews_Pandas = nbreviews_DF.toPandas()"
   ]
  },
  {
   "cell_type": "code",
   "execution_count": 44,
   "metadata": {},
   "outputs": [
    {
     "data": {
      "text/plain": [
       "Text(0.5,1,'Nb of reviews/ Product Distribution Associated to Ecology/Bio etc..')"
      ]
     },
     "execution_count": 44,
     "metadata": {},
     "output_type": "execute_result"
    },
    {
     "data": {
      "image/png": "[encoded data removed]",
      "text/plain": [
       "<Figure size 1152x288 with 1 Axes>"
      ]
     },
     "metadata": {},
     "output_type": "display_data"
    }
   ],
   "source": [
    "fig, axes = plt.subplots(nrows=1, ncols=1, sharex=True, sharey=True)\n",
    "fig.set_size_inches(16,4)\n",
    "\n",
    "nbreviews_Pandas.hist(log=True, bins = 100, color=\"coral\", cumulative=-1,figsize =(16,4), ax=axes)\n",
    "\n",
    "axes.set_xlabel(\"Nb of reviews/ Product\")\n",
    "axes.set_ylabel(\"Frequency\")\n",
    "axes.set_title(\"Nb of reviews/ Product Distribution Associated to Ecology/Bio etc..\")"
   ]
  }
 ],
 "metadata": {
  "kernelspec": {
   "display_name": "Python 3",
   "language": "python",
   "name": "python3"
  },
  "language_info": {
   "codemirror_mode": {
    "name": "ipython",
    "version": 3
   },
   "file_extension": ".py",
   "mimetype": "text/x-python",
   "name": "python",
   "nbconvert_exporter": "python",
   "pygments_lexer": "ipython3",
   "version": "3.6.5"
  }
 },
 "nbformat": 4,
 "nbformat_minor": 2
}
