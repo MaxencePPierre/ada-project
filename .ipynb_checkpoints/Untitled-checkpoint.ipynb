{
 "cells": [
  {
   "cell_type": "markdown",
   "metadata": {},
   "source": [
    "<h1>Handling data text</h1>"
   ]
  },
  {
   "cell_type": "markdown",
   "metadata": {},
   "source": [
    "For the first milestone, we first pre processed the data by filtering the eco-friendly product from the metadata. Then for each product we gather its respective reviews.\n",
    "\n",
    "The next step is to dwell on the product ratings and reviews text analysis.\n"
   ]
  },
  {
   "cell_type": "markdown",
   "metadata": {},
   "source": [
    "**TA Feedback :**\n",
    "Observe the average rating of \"bio\" versus \"non-bio\" products. For example, you could match similar items (pairs of bio/non-bio items, think about propensity scores) with similar levels of popularity, and measure they average ratings."
   ]
  },
  {
   "cell_type": "markdown",
   "metadata": {},
   "source": [
    "**Import**"
   ]
  },
  {
   "cell_type": "code",
   "execution_count": 1,
   "metadata": {},
   "outputs": [],
   "source": [
    "import pandas as pd\n",
    "import numpy as np\n",
    "import scipy as sp\n",
    "import matplotlib.pyplot as plt\n",
    "import math\n",
    "from datetime import datetime\n",
    "\n",
    "\n",
    "%matplotlib inline"
   ]
  },
  {
   "cell_type": "code",
   "execution_count": 2,
   "metadata": {},
   "outputs": [],
   "source": [
    "import findspark\n",
    "findspark.init()\n",
    "import pyspark\n",
    "\n",
    "from pyspark.sql.types import DateType\n",
    "from pyspark.sql.types import TimestampType\n",
    "from pyspark.sql.functions import *\n",
    "from pyspark.sql import Window\n",
    "from pyspark.sql.types import *\n",
    "from pyspark.sql import *\n",
    "from pyspark.sql import SQLContext\n",
    "import pyspark.sql.functions as sqlf\n",
    "\n",
    "spark = SparkSession.builder.getOrCreate()\n",
    "sc = spark.sparkContext\n",
    "sqlContext = SQLContext(sc)"
   ]
  },
  {
   "cell_type": "markdown",
   "metadata": {},
   "source": [
    "The data set bellow loaded contains the eco-friendly patio lown garden products with their respective revies."
   ]
  },
  {
   "cell_type": "code",
   "execution_count": 3,
   "metadata": {},
   "outputs": [],
   "source": [
    "reviews = spark.read.parquet(\"PatioLawnGarden_joined.parquet\")"
   ]
  },
  {
   "cell_type": "code",
   "execution_count": 4,
   "metadata": {},
   "outputs": [],
   "source": [
    "reviews = reviews.toPandas()"
   ]
  },
  {
   "cell_type": "code",
   "execution_count": 5,
   "metadata": {},
   "outputs": [],
   "source": [
    "# Some items have NAN prices \n",
    "reviews = reviews.dropna(subset=['price'])"
   ]
  },
  {
   "cell_type": "code",
   "execution_count": 6,
   "metadata": {},
   "outputs": [
    {
     "data": {
      "text/html": [
       "<div>\n",
       "<style scoped>\n",
       "    .dataframe tbody tr th:only-of-type {\n",
       "        vertical-align: middle;\n",
       "    }\n",
       "\n",
       "    .dataframe tbody tr th {\n",
       "        vertical-align: top;\n",
       "    }\n",
       "\n",
       "    .dataframe thead th {\n",
       "        text-align: right;\n",
       "    }\n",
       "</style>\n",
       "<table border=\"1\" class=\"dataframe\">\n",
       "  <thead>\n",
       "    <tr style=\"text-align: right;\">\n",
       "      <th></th>\n",
       "      <th>asin</th>\n",
       "      <th>brand</th>\n",
       "      <th>category</th>\n",
       "      <th>description</th>\n",
       "      <th>price</th>\n",
       "      <th>salesRank</th>\n",
       "      <th>title</th>\n",
       "      <th>helpful</th>\n",
       "      <th>overall</th>\n",
       "      <th>reviewText</th>\n",
       "      <th>reviewTime</th>\n",
       "      <th>reviewerID</th>\n",
       "      <th>reviewerName</th>\n",
       "      <th>summary</th>\n",
       "      <th>unixReviewTime</th>\n",
       "    </tr>\n",
       "  </thead>\n",
       "  <tbody>\n",
       "    <tr>\n",
       "      <th>0</th>\n",
       "      <td>B00004RA3E</td>\n",
       "      <td>Scotts</td>\n",
       "      <td>Patio, Lawn &amp; Garden</td>\n",
       "      <td>Light, maneuverable, economical. The Scotts 20...</td>\n",
       "      <td>135.0</td>\n",
       "      <td>917.0</td>\n",
       "      <td>Scotts 2000-20 20-Inch Classic Push Reel Lawn ...</td>\n",
       "      <td>[0, 0]</td>\n",
       "      <td>2.0</td>\n",
       "      <td>I have a small lawn, so the purchase of a manu...</td>\n",
       "      <td>07 15, 2014</td>\n",
       "      <td>A5HJKBUBKL3CM</td>\n",
       "      <td>None</td>\n",
       "      <td>Don't purchase this mower. There have to be be...</td>\n",
       "      <td>1405382400</td>\n",
       "    </tr>\n",
       "    <tr>\n",
       "      <th>1</th>\n",
       "      <td>B00004RA3E</td>\n",
       "      <td>Scotts</td>\n",
       "      <td>Patio, Lawn &amp; Garden</td>\n",
       "      <td>Light, maneuverable, economical. The Scotts 20...</td>\n",
       "      <td>135.0</td>\n",
       "      <td>917.0</td>\n",
       "      <td>Scotts 2000-20 20-Inch Classic Push Reel Lawn ...</td>\n",
       "      <td>[0, 0]</td>\n",
       "      <td>4.0</td>\n",
       "      <td>Takes twice as long but no motor smell and you...</td>\n",
       "      <td>07 20, 2014</td>\n",
       "      <td>A2VFIXEX54UNRW</td>\n",
       "      <td>None</td>\n",
       "      <td>Takes twice as long but no motor smell and you...</td>\n",
       "      <td>1405814400</td>\n",
       "    </tr>\n",
       "    <tr>\n",
       "      <th>2</th>\n",
       "      <td>B00004RA3E</td>\n",
       "      <td>Scotts</td>\n",
       "      <td>Patio, Lawn &amp; Garden</td>\n",
       "      <td>Light, maneuverable, economical. The Scotts 20...</td>\n",
       "      <td>135.0</td>\n",
       "      <td>917.0</td>\n",
       "      <td>Scotts 2000-20 20-Inch Classic Push Reel Lawn ...</td>\n",
       "      <td>[2, 3]</td>\n",
       "      <td>5.0</td>\n",
       "      <td>I went to The Home Depot with the intention of...</td>\n",
       "      <td>12 3, 2011</td>\n",
       "      <td>A1L80HXCXIZMU7</td>\n",
       "      <td>12345</td>\n",
       "      <td>Got lucky.</td>\n",
       "      <td>1322870400</td>\n",
       "    </tr>\n",
       "  </tbody>\n",
       "</table>\n",
       "</div>"
      ],
      "text/plain": [
       "         asin   brand              category  \\\n",
       "0  B00004RA3E  Scotts  Patio, Lawn & Garden   \n",
       "1  B00004RA3E  Scotts  Patio, Lawn & Garden   \n",
       "2  B00004RA3E  Scotts  Patio, Lawn & Garden   \n",
       "\n",
       "                                         description  price  salesRank  \\\n",
       "0  Light, maneuverable, economical. The Scotts 20...  135.0      917.0   \n",
       "1  Light, maneuverable, economical. The Scotts 20...  135.0      917.0   \n",
       "2  Light, maneuverable, economical. The Scotts 20...  135.0      917.0   \n",
       "\n",
       "                                               title helpful  overall  \\\n",
       "0  Scotts 2000-20 20-Inch Classic Push Reel Lawn ...  [0, 0]      2.0   \n",
       "1  Scotts 2000-20 20-Inch Classic Push Reel Lawn ...  [0, 0]      4.0   \n",
       "2  Scotts 2000-20 20-Inch Classic Push Reel Lawn ...  [2, 3]      5.0   \n",
       "\n",
       "                                          reviewText   reviewTime  \\\n",
       "0  I have a small lawn, so the purchase of a manu...  07 15, 2014   \n",
       "1  Takes twice as long but no motor smell and you...  07 20, 2014   \n",
       "2  I went to The Home Depot with the intention of...   12 3, 2011   \n",
       "\n",
       "       reviewerID reviewerName  \\\n",
       "0   A5HJKBUBKL3CM         None   \n",
       "1  A2VFIXEX54UNRW         None   \n",
       "2  A1L80HXCXIZMU7        12345   \n",
       "\n",
       "                                             summary  unixReviewTime  \n",
       "0  Don't purchase this mower. There have to be be...      1405382400  \n",
       "1  Takes twice as long but no motor smell and you...      1405814400  \n",
       "2                                         Got lucky.      1322870400  "
      ]
     },
     "execution_count": 6,
     "metadata": {},
     "output_type": "execute_result"
    }
   ],
   "source": [
    "reviews.head(3)"
   ]
  },
  {
   "cell_type": "code",
   "execution_count": 7,
   "metadata": {},
   "outputs": [
    {
     "data": {
      "text/plain": [
       "0    2.0\n",
       "1    4.0\n",
       "2    5.0\n",
       "3    4.0\n",
       "4    1.0\n",
       "Name: overall, dtype: float64"
      ]
     },
     "execution_count": 7,
     "metadata": {},
     "output_type": "execute_result"
    }
   ],
   "source": [
    "reviews.overall.head()"
   ]
  },
  {
   "cell_type": "code",
   "execution_count": 8,
   "metadata": {},
   "outputs": [],
   "source": [
    "overall = reviews.groupby('asin').agg('mean')"
   ]
  },
  {
   "cell_type": "code",
   "execution_count": 9,
   "metadata": {
    "scrolled": true
   },
   "outputs": [
    {
     "data": {
      "text/html": [
       "<div>\n",
       "<style scoped>\n",
       "    .dataframe tbody tr th:only-of-type {\n",
       "        vertical-align: middle;\n",
       "    }\n",
       "\n",
       "    .dataframe tbody tr th {\n",
       "        vertical-align: top;\n",
       "    }\n",
       "\n",
       "    .dataframe thead th {\n",
       "        text-align: right;\n",
       "    }\n",
       "</style>\n",
       "<table border=\"1\" class=\"dataframe\">\n",
       "  <thead>\n",
       "    <tr style=\"text-align: right;\">\n",
       "      <th></th>\n",
       "      <th>price</th>\n",
       "      <th>salesRank</th>\n",
       "      <th>overall</th>\n",
       "      <th>unixReviewTime</th>\n",
       "    </tr>\n",
       "  </thead>\n",
       "  <tbody>\n",
       "    <tr>\n",
       "      <th>count</th>\n",
       "      <td>2114.000000</td>\n",
       "      <td>1947.000000</td>\n",
       "      <td>2114.000000</td>\n",
       "      <td>2.114000e+03</td>\n",
       "    </tr>\n",
       "    <tr>\n",
       "      <th>mean</th>\n",
       "      <td>93.840894</td>\n",
       "      <td>113529.397021</td>\n",
       "      <td>3.910816</td>\n",
       "      <td>1.370332e+09</td>\n",
       "    </tr>\n",
       "    <tr>\n",
       "      <th>std</th>\n",
       "      <td>145.967330</td>\n",
       "      <td>112038.007225</td>\n",
       "      <td>1.107134</td>\n",
       "      <td>3.055131e+07</td>\n",
       "    </tr>\n",
       "    <tr>\n",
       "      <th>min</th>\n",
       "      <td>0.010000</td>\n",
       "      <td>21.000000</td>\n",
       "      <td>1.000000</td>\n",
       "      <td>1.143839e+09</td>\n",
       "    </tr>\n",
       "    <tr>\n",
       "      <th>25%</th>\n",
       "      <td>16.920000</td>\n",
       "      <td>29901.500000</td>\n",
       "      <td>3.333333</td>\n",
       "      <td>1.358161e+09</td>\n",
       "    </tr>\n",
       "    <tr>\n",
       "      <th>50%</th>\n",
       "      <td>34.990002</td>\n",
       "      <td>82332.000000</td>\n",
       "      <td>4.142857</td>\n",
       "      <td>1.376192e+09</td>\n",
       "    </tr>\n",
       "    <tr>\n",
       "      <th>75%</th>\n",
       "      <td>100.705000</td>\n",
       "      <td>155172.000000</td>\n",
       "      <td>5.000000</td>\n",
       "      <td>1.391623e+09</td>\n",
       "    </tr>\n",
       "    <tr>\n",
       "      <th>max</th>\n",
       "      <td>999.989990</td>\n",
       "      <td>688148.000000</td>\n",
       "      <td>5.000000</td>\n",
       "      <td>1.405901e+09</td>\n",
       "    </tr>\n",
       "  </tbody>\n",
       "</table>\n",
       "</div>"
      ],
      "text/plain": [
       "             price      salesRank      overall  unixReviewTime\n",
       "count  2114.000000    1947.000000  2114.000000    2.114000e+03\n",
       "mean     93.840894  113529.397021     3.910816    1.370332e+09\n",
       "std     145.967330  112038.007225     1.107134    3.055131e+07\n",
       "min       0.010000      21.000000     1.000000    1.143839e+09\n",
       "25%      16.920000   29901.500000     3.333333    1.358161e+09\n",
       "50%      34.990002   82332.000000     4.142857    1.376192e+09\n",
       "75%     100.705000  155172.000000     5.000000    1.391623e+09\n",
       "max     999.989990  688148.000000     5.000000    1.405901e+09"
      ]
     },
     "execution_count": 9,
     "metadata": {},
     "output_type": "execute_result"
    }
   ],
   "source": [
    "overall.describe()"
   ]
  },
  {
   "cell_type": "code",
   "execution_count": 10,
   "metadata": {},
   "outputs": [
    {
     "data": {
      "text/plain": [
       "Text(0.5,1,'Overall')"
      ]
     },
     "execution_count": 10,
     "metadata": {},
     "output_type": "execute_result"
    },
    {
     "data": {
      "image/png": "[encoded data removed]",
      "text/plain": [
       "<Figure size 1440x720 with 3 Axes>"
      ]
     },
     "metadata": {},
     "output_type": "display_data"
    }
   ],
   "source": [
    "plt.figure(figsize=(20,10))\n",
    "\n",
    "# Price boxplot\n",
    "plt.subplot(1,3,1)\n",
    "plt.boxplot(overall['price'])\n",
    "plt.title('Price')\n",
    "\n",
    "# SalesRank plot\n",
    "plt.subplot(1,3,2)\n",
    "plt.boxplot(overall['price'],showfliers=False)\n",
    "plt.title('Price without outliers')\n",
    "\n",
    "# Overall\n",
    "plt.subplot(1,3,3)\n",
    "plt.boxplot(overall['overall'])\n",
    "plt.title('Overall')\n"
   ]
  },
  {
   "cell_type": "markdown",
   "metadata": {},
   "source": [
    "If we look at the possible values for the overall grades, it seems the value a discretes between 1 and 5. So for the next, we have to keep in mind that we are working with the continuous mean of overall from 1 to 5 and not the discrete values."
   ]
  },
  {
   "cell_type": "code",
   "execution_count": 11,
   "metadata": {},
   "outputs": [
    {
     "data": {
      "image/png": "[encoded data removed]",
      "text/plain": [
       "<Figure size 1152x432 with 2 Axes>"
      ]
     },
     "metadata": {},
     "output_type": "display_data"
    }
   ],
   "source": [
    "plt.figure(figsize=(16,6))\n",
    "\n",
    "plt.subplot(1,2,1);\n",
    "plt.scatter(overall.overall, overall.price)\n",
    "plt.xlabel('Overall');plt.ylabel('Price');\n",
    "\n",
    "plt.subplot(1,2,2);\n",
    "plt.scatter(overall.overall, overall.salesRank);\n",
    "plt.xlabel('Overall'); plt.ylabel('Rank');"
   ]
  },
  {
   "cell_type": "code",
   "execution_count": 12,
   "metadata": {},
   "outputs": [
    {
     "data": {
      "text/html": [
       "<div>\n",
       "<style scoped>\n",
       "    .dataframe tbody tr th:only-of-type {\n",
       "        vertical-align: middle;\n",
       "    }\n",
       "\n",
       "    .dataframe tbody tr th {\n",
       "        vertical-align: top;\n",
       "    }\n",
       "\n",
       "    .dataframe thead th {\n",
       "        text-align: right;\n",
       "    }\n",
       "</style>\n",
       "<table border=\"1\" class=\"dataframe\">\n",
       "  <thead>\n",
       "    <tr style=\"text-align: right;\">\n",
       "      <th></th>\n",
       "      <th>price</th>\n",
       "      <th>salesRank</th>\n",
       "      <th>overall</th>\n",
       "      <th>unixReviewTime</th>\n",
       "    </tr>\n",
       "    <tr>\n",
       "      <th>asin</th>\n",
       "      <th></th>\n",
       "      <th></th>\n",
       "      <th></th>\n",
       "      <th></th>\n",
       "    </tr>\n",
       "  </thead>\n",
       "  <tbody>\n",
       "    <tr>\n",
       "      <th>B00002N67Q</th>\n",
       "      <td>16.879999</td>\n",
       "      <td>7816.0</td>\n",
       "      <td>4.486111</td>\n",
       "      <td>1.367656e+09</td>\n",
       "    </tr>\n",
       "    <tr>\n",
       "      <th>B00002N67R</th>\n",
       "      <td>42.919998</td>\n",
       "      <td>23578.0</td>\n",
       "      <td>4.125000</td>\n",
       "      <td>1.344369e+09</td>\n",
       "    </tr>\n",
       "    <tr>\n",
       "      <th>B00002N691</th>\n",
       "      <td>103.040001</td>\n",
       "      <td>822.0</td>\n",
       "      <td>4.416185</td>\n",
       "      <td>1.369044e+09</td>\n",
       "    </tr>\n",
       "    <tr>\n",
       "      <th>B00002N8NN</th>\n",
       "      <td>17.250000</td>\n",
       "      <td>12410.0</td>\n",
       "      <td>4.312500</td>\n",
       "      <td>1.355881e+09</td>\n",
       "    </tr>\n",
       "    <tr>\n",
       "      <th>B00002N8NV</th>\n",
       "      <td>14.880000</td>\n",
       "      <td>9640.0</td>\n",
       "      <td>4.000000</td>\n",
       "      <td>1.361174e+09</td>\n",
       "    </tr>\n",
       "  </tbody>\n",
       "</table>\n",
       "</div>"
      ],
      "text/plain": [
       "                 price  salesRank   overall  unixReviewTime\n",
       "asin                                                       \n",
       "B00002N67Q   16.879999     7816.0  4.486111    1.367656e+09\n",
       "B00002N67R   42.919998    23578.0  4.125000    1.344369e+09\n",
       "B00002N691  103.040001      822.0  4.416185    1.369044e+09\n",
       "B00002N8NN   17.250000    12410.0  4.312500    1.355881e+09\n",
       "B00002N8NV   14.880000     9640.0  4.000000    1.361174e+09"
      ]
     },
     "execution_count": 12,
     "metadata": {},
     "output_type": "execute_result"
    }
   ],
   "source": [
    "overall.head()"
   ]
  },
  {
   "cell_type": "code",
   "execution_count": 13,
   "metadata": {
    "scrolled": false
   },
   "outputs": [
    {
     "data": {
      "image/png": "[encoded data removed]",
      "text/plain": [
       "<Figure size 1152x432 with 2 Axes>"
      ]
     },
     "metadata": {},
     "output_type": "display_data"
    }
   ],
   "source": [
    "plt.figure(figsize=(16,6))\n",
    "\n",
    "plt.subplot(1,2,1);\n",
    "plt.scatter(overall['overall'].apply(lambda x: math.ceil(x)) , overall.price)\n",
    "plt.xlabel('Overall');plt.ylabel('Price');\n",
    "\n",
    "plt.subplot(1,2,2);\n",
    "plt.scatter(overall['overall'].apply(lambda x: math.ceil(x)), overall.salesRank);\n",
    "plt.xlabel('Overall'); plt.ylabel('Rank');"
   ]
  },
  {
   "cell_type": "code",
   "execution_count": 14,
   "metadata": {
    "scrolled": true
   },
   "outputs": [
    {
     "data": {
      "text/html": [
       "<div>\n",
       "<style scoped>\n",
       "    .dataframe tbody tr th:only-of-type {\n",
       "        vertical-align: middle;\n",
       "    }\n",
       "\n",
       "    .dataframe tbody tr th {\n",
       "        vertical-align: top;\n",
       "    }\n",
       "\n",
       "    .dataframe thead th {\n",
       "        text-align: right;\n",
       "    }\n",
       "</style>\n",
       "<table border=\"1\" class=\"dataframe\">\n",
       "  <thead>\n",
       "    <tr style=\"text-align: right;\">\n",
       "      <th></th>\n",
       "      <th>price</th>\n",
       "      <th>salesRank</th>\n",
       "      <th>overall</th>\n",
       "      <th>unixReviewTime</th>\n",
       "    </tr>\n",
       "  </thead>\n",
       "  <tbody>\n",
       "    <tr>\n",
       "      <th>price</th>\n",
       "      <td>1.000000</td>\n",
       "      <td>0.211559</td>\n",
       "      <td>0.055003</td>\n",
       "      <td>-0.003388</td>\n",
       "    </tr>\n",
       "    <tr>\n",
       "      <th>salesRank</th>\n",
       "      <td>0.211559</td>\n",
       "      <td>1.000000</td>\n",
       "      <td>-0.153831</td>\n",
       "      <td>-0.060442</td>\n",
       "    </tr>\n",
       "    <tr>\n",
       "      <th>overall</th>\n",
       "      <td>0.055003</td>\n",
       "      <td>-0.153831</td>\n",
       "      <td>1.000000</td>\n",
       "      <td>0.133454</td>\n",
       "    </tr>\n",
       "    <tr>\n",
       "      <th>unixReviewTime</th>\n",
       "      <td>-0.003388</td>\n",
       "      <td>-0.060442</td>\n",
       "      <td>0.133454</td>\n",
       "      <td>1.000000</td>\n",
       "    </tr>\n",
       "  </tbody>\n",
       "</table>\n",
       "</div>"
      ],
      "text/plain": [
       "                   price  salesRank   overall  unixReviewTime\n",
       "price           1.000000   0.211559  0.055003       -0.003388\n",
       "salesRank       0.211559   1.000000 -0.153831       -0.060442\n",
       "overall         0.055003  -0.153831  1.000000        0.133454\n",
       "unixReviewTime -0.003388  -0.060442  0.133454        1.000000"
      ]
     },
     "execution_count": 14,
     "metadata": {},
     "output_type": "execute_result"
    }
   ],
   "source": [
    "overall.corr(method='pearson')"
   ]
  },
  {
   "cell_type": "markdown",
   "metadata": {},
   "source": [
    "Well, the plot already gave us the impression that there is no correlation between the price, sales rank and overall. We first thaught that I could be possible, because more expensive product can be high quality item thus have a better overall, and so for the sales rank.\n",
    "\n",
    "The next step is to now look deeper in the text reviews and see if we can extract sentiment analysis."
   ]
  },
  {
   "cell_type": "code",
   "execution_count": 15,
   "metadata": {},
   "outputs": [
    {
     "data": {
      "text/html": [
       "<div>\n",
       "<style scoped>\n",
       "    .dataframe tbody tr th:only-of-type {\n",
       "        vertical-align: middle;\n",
       "    }\n",
       "\n",
       "    .dataframe tbody tr th {\n",
       "        vertical-align: top;\n",
       "    }\n",
       "\n",
       "    .dataframe thead th {\n",
       "        text-align: right;\n",
       "    }\n",
       "</style>\n",
       "<table border=\"1\" class=\"dataframe\">\n",
       "  <thead>\n",
       "    <tr style=\"text-align: right;\">\n",
       "      <th></th>\n",
       "      <th>asin</th>\n",
       "      <th>brand</th>\n",
       "      <th>category</th>\n",
       "      <th>description</th>\n",
       "      <th>price</th>\n",
       "      <th>salesRank</th>\n",
       "      <th>title</th>\n",
       "      <th>helpful</th>\n",
       "      <th>overall</th>\n",
       "      <th>reviewText</th>\n",
       "      <th>reviewTime</th>\n",
       "      <th>reviewerID</th>\n",
       "      <th>reviewerName</th>\n",
       "      <th>summary</th>\n",
       "      <th>unixReviewTime</th>\n",
       "    </tr>\n",
       "  </thead>\n",
       "  <tbody>\n",
       "    <tr>\n",
       "      <th>0</th>\n",
       "      <td>B00004RA3E</td>\n",
       "      <td>Scotts</td>\n",
       "      <td>Patio, Lawn &amp; Garden</td>\n",
       "      <td>Light, maneuverable, economical. The Scotts 20...</td>\n",
       "      <td>135.0</td>\n",
       "      <td>917.0</td>\n",
       "      <td>Scotts 2000-20 20-Inch Classic Push Reel Lawn ...</td>\n",
       "      <td>[0, 0]</td>\n",
       "      <td>2.0</td>\n",
       "      <td>I have a small lawn, so the purchase of a manu...</td>\n",
       "      <td>07 15, 2014</td>\n",
       "      <td>A5HJKBUBKL3CM</td>\n",
       "      <td>None</td>\n",
       "      <td>Don't purchase this mower. There have to be be...</td>\n",
       "      <td>1405382400</td>\n",
       "    </tr>\n",
       "  </tbody>\n",
       "</table>\n",
       "</div>"
      ],
      "text/plain": [
       "         asin   brand              category  \\\n",
       "0  B00004RA3E  Scotts  Patio, Lawn & Garden   \n",
       "\n",
       "                                         description  price  salesRank  \\\n",
       "0  Light, maneuverable, economical. The Scotts 20...  135.0      917.0   \n",
       "\n",
       "                                               title helpful  overall  \\\n",
       "0  Scotts 2000-20 20-Inch Classic Push Reel Lawn ...  [0, 0]      2.0   \n",
       "\n",
       "                                          reviewText   reviewTime  \\\n",
       "0  I have a small lawn, so the purchase of a manu...  07 15, 2014   \n",
       "\n",
       "      reviewerID reviewerName  \\\n",
       "0  A5HJKBUBKL3CM         None   \n",
       "\n",
       "                                             summary  unixReviewTime  \n",
       "0  Don't purchase this mower. There have to be be...      1405382400  "
      ]
     },
     "execution_count": 15,
     "metadata": {},
     "output_type": "execute_result"
    }
   ],
   "source": [
    "reviews.head(1)"
   ]
  },
  {
   "cell_type": "code",
   "execution_count": 24,
   "metadata": {},
   "outputs": [
    {
     "data": {
      "text/html": [
       "<div>\n",
       "<style scoped>\n",
       "    .dataframe tbody tr th:only-of-type {\n",
       "        vertical-align: middle;\n",
       "    }\n",
       "\n",
       "    .dataframe tbody tr th {\n",
       "        vertical-align: top;\n",
       "    }\n",
       "\n",
       "    .dataframe thead tr th {\n",
       "        text-align: left;\n",
       "    }\n",
       "\n",
       "    .dataframe thead tr:last-of-type th {\n",
       "        text-align: right;\n",
       "    }\n",
       "</style>\n",
       "<table border=\"1\" class=\"dataframe\">\n",
       "  <thead>\n",
       "    <tr>\n",
       "      <th></th>\n",
       "      <th colspan=\"2\" halign=\"left\">price</th>\n",
       "      <th colspan=\"2\" halign=\"left\">salesRank</th>\n",
       "      <th colspan=\"2\" halign=\"left\">overall</th>\n",
       "    </tr>\n",
       "    <tr>\n",
       "      <th></th>\n",
       "      <th>count</th>\n",
       "      <th>mean</th>\n",
       "      <th>count</th>\n",
       "      <th>mean</th>\n",
       "      <th>count</th>\n",
       "      <th>mean</th>\n",
       "    </tr>\n",
       "    <tr>\n",
       "      <th>brand</th>\n",
       "      <th></th>\n",
       "      <th></th>\n",
       "      <th></th>\n",
       "      <th></th>\n",
       "      <th></th>\n",
       "      <th></th>\n",
       "    </tr>\n",
       "  </thead>\n",
       "  <tbody>\n",
       "    <tr>\n",
       "      <th></th>\n",
       "      <td>15</td>\n",
       "      <td>34.760000</td>\n",
       "      <td>12</td>\n",
       "      <td>60845.916667</td>\n",
       "      <td>15</td>\n",
       "      <td>4.266667</td>\n",
       "    </tr>\n",
       "    <tr>\n",
       "      <th>2 Pot Easy</th>\n",
       "      <td>5</td>\n",
       "      <td>89.000000</td>\n",
       "      <td>5</td>\n",
       "      <td>151824.000000</td>\n",
       "      <td>5</td>\n",
       "      <td>3.200000</td>\n",
       "    </tr>\n",
       "    <tr>\n",
       "      <th>9GreenBox</th>\n",
       "      <td>49</td>\n",
       "      <td>5.357347</td>\n",
       "      <td>49</td>\n",
       "      <td>4094.204082</td>\n",
       "      <td>49</td>\n",
       "      <td>2.836735</td>\n",
       "    </tr>\n",
       "    <tr>\n",
       "      <th>A Green Horizon</th>\n",
       "      <td>9</td>\n",
       "      <td>13.990000</td>\n",
       "      <td>9</td>\n",
       "      <td>94673.000000</td>\n",
       "      <td>9</td>\n",
       "      <td>4.333333</td>\n",
       "    </tr>\n",
       "    <tr>\n",
       "      <th>A.M. Leonard</th>\n",
       "      <td>15</td>\n",
       "      <td>29.950001</td>\n",
       "      <td>15</td>\n",
       "      <td>13862.000000</td>\n",
       "      <td>15</td>\n",
       "      <td>3.733333</td>\n",
       "    </tr>\n",
       "    <tr>\n",
       "      <th>ABC Spa Cover Removal Co. Ltd.</th>\n",
       "      <td>33</td>\n",
       "      <td>82.879997</td>\n",
       "      <td>33</td>\n",
       "      <td>15141.000000</td>\n",
       "      <td>33</td>\n",
       "      <td>4.575758</td>\n",
       "    </tr>\n",
       "    <tr>\n",
       "      <th>ALEKO</th>\n",
       "      <td>159</td>\n",
       "      <td>43.105157</td>\n",
       "      <td>159</td>\n",
       "      <td>37568.452830</td>\n",
       "      <td>159</td>\n",
       "      <td>3.798742</td>\n",
       "    </tr>\n",
       "    <tr>\n",
       "      <th>AM Leonard</th>\n",
       "      <td>13</td>\n",
       "      <td>13.190000</td>\n",
       "      <td>13</td>\n",
       "      <td>57042.000000</td>\n",
       "      <td>13</td>\n",
       "      <td>4.923077</td>\n",
       "    </tr>\n",
       "    <tr>\n",
       "      <th>AMC</th>\n",
       "      <td>2</td>\n",
       "      <td>17.980000</td>\n",
       "      <td>2</td>\n",
       "      <td>61324.000000</td>\n",
       "      <td>2</td>\n",
       "      <td>3.000000</td>\n",
       "    </tr>\n",
       "    <tr>\n",
       "      <th>AT PRO Adventure Pack</th>\n",
       "      <td>1</td>\n",
       "      <td>850.900024</td>\n",
       "      <td>1</td>\n",
       "      <td>19779.000000</td>\n",
       "      <td>1</td>\n",
       "      <td>5.000000</td>\n",
       "    </tr>\n",
       "  </tbody>\n",
       "</table>\n",
       "</div>"
      ],
      "text/plain": [
       "                               price             salesRank                 \\\n",
       "                               count        mean     count           mean   \n",
       "brand                                                                       \n",
       "                                  15   34.760000        12   60845.916667   \n",
       "2 Pot Easy                         5   89.000000         5  151824.000000   \n",
       "9GreenBox                         49    5.357347        49    4094.204082   \n",
       "A Green Horizon                    9   13.990000         9   94673.000000   \n",
       "A.M. Leonard                      15   29.950001        15   13862.000000   \n",
       "ABC Spa Cover Removal Co. Ltd.    33   82.879997        33   15141.000000   \n",
       "ALEKO                            159   43.105157       159   37568.452830   \n",
       "AM Leonard                        13   13.190000        13   57042.000000   \n",
       "AMC                                2   17.980000         2   61324.000000   \n",
       "AT PRO Adventure Pack              1  850.900024         1   19779.000000   \n",
       "\n",
       "                               overall            \n",
       "                                 count      mean  \n",
       "brand                                             \n",
       "                                    15  4.266667  \n",
       "2 Pot Easy                           5  3.200000  \n",
       "9GreenBox                           49  2.836735  \n",
       "A Green Horizon                      9  4.333333  \n",
       "A.M. Leonard                        15  3.733333  \n",
       "ABC Spa Cover Removal Co. Ltd.      33  4.575758  \n",
       "ALEKO                              159  3.798742  \n",
       "AM Leonard                          13  4.923077  \n",
       "AMC                                  2  3.000000  \n",
       "AT PRO Adventure Pack                1  5.000000  "
      ]
     },
     "execution_count": 24,
     "metadata": {},
     "output_type": "execute_result"
    }
   ],
   "source": [
    "test = reviews.groupby('brand').agg(['count','mean'])\n",
    "test = test.drop(['unixReviewTime'], axis=1)\n",
    "test.head(10)"
   ]
  },
  {
   "cell_type": "code",
   "execution_count": 17,
   "metadata": {},
   "outputs": [
    {
     "data": {
      "text/plain": [
       "Index(['', '2 Pot Easy', '9GreenBox', 'A Green Horizon', 'A.M. Leonard',\n",
       "       'ABC Spa Cover Removal Co. Ltd.', 'ALEKO', 'AM Leonard', 'AMC',\n",
       "       'AT PRO Adventure Pack',\n",
       "       ...\n",
       "       'Wooly Pocket', 'Worm Factory', 'Worx', 'Xtreme Gardening',\n",
       "       'ZJchao(TM)', 'Zareba', 'Zodiac',\n",
       "       'https://www.epestsolutions.com/pdf/jecta label.pdf', 'leisure mod',\n",
       "       'seed kingdom'],\n",
       "      dtype='object', name='brand', length=505)"
      ]
     },
     "execution_count": 17,
     "metadata": {},
     "output_type": "execute_result"
    }
   ],
   "source": [
    "test.index"
   ]
  },
  {
   "cell_type": "code",
   "execution_count": 18,
   "metadata": {},
   "outputs": [],
   "source": [
    "test = test.sort_values(by=[('overall','mean')], ascending=True)\n"
   ]
  },
  {
   "cell_type": "code",
   "execution_count": 23,
   "metadata": {},
   "outputs": [
    {
     "data": {
      "text/plain": [
       "<matplotlib.collections.PathCollection at 0x125227d68>"
      ]
     },
     "execution_count": 23,
     "metadata": {},
     "output_type": "execute_result"
    },
    {
     "data": {
      "image/png": "[encoded data removed]",
      "text/plain": [
       "<Figure size 432x288 with 1 Axes>"
      ]
     },
     "metadata": {},
     "output_type": "display_data"
    }
   ],
   "source": [
    "plt.scatter(test.index, test[('overall','mean')])\n",
    "#plt.xlabel('Brand', rotation=90)"
   ]
  }
 ],
 "metadata": {
  "kernelspec": {
   "display_name": "Python [conda env:anaconda3]",
   "language": "python",
   "name": "conda-env-anaconda3-py"
  },
  "language_info": {
   "codemirror_mode": {
    "name": "ipython",
    "version": 3
   },
   "file_extension": ".py",
   "mimetype": "text/x-python",
   "name": "python",
   "nbconvert_exporter": "python",
   "pygments_lexer": "ipython3",
   "version": "3.6.5"
  }
 },
 "nbformat": 4,
 "nbformat_minor": 2
}
