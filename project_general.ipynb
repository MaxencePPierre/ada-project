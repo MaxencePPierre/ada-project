{
 "cells": [
  {
   "cell_type": "markdown",
   "metadata": {},
   "source": [
    "# ADA PROJECT - Amazon data"
   ]
  },
  {
   "cell_type": "markdown",
   "metadata": {},
   "source": [
    "Collection/Analysis of data from Amazon (Reviews and Metadata of products) associated to the thema : ecology, bio, renewable etc... (see keywords vector)\n",
    "\n",
    "<br>\n",
    "\n",
    "__Review data__ : \n",
    "Download http://jmcauley.ucsd.edu/data/amazon/links.html go to 'Per Category Files' section and DL 'reviews' file for a \n",
    "chosen category. (Or the Complete Review Data 18GB) It is better to not take the 5-core data as it contains only 5 reviews for each products (we're missing data)\n",
    "\n",
    ">Features:\n",
    "- reviewerID - ID of the reviewer, e.g. A2SUAM1J3GNN3B\n",
    "- asin - ID of the product, e.g. 0000013714\n",
    "- reviewerName - name of the reviewer\n",
    "- helpful - helpfulness rating of the review, e.g. 2/3\n",
    "- reviewText - text of the review\n",
    "- overall - rating of the product\n",
    "- summary - summary of the review\n",
    "- unixReviewTime - time of the review (unix time)\n",
    "- reviewTime - time of the review (raw)\n",
    "\n",
    "__Metadata (Product)__ : \n",
    "Download http://jmcauley.ucsd.edu/data/amazon/links.html go to 'Per Category Files' section and DL 'metadata' file for a chosen category. (Or the Complete Review Data 18GB) It is better to not take the 5-core data as it contains only 5 reviews for each products (we're missing data)\n",
    "\n",
    "\n",
    ">Features:\n",
    "- asin - ID of the product, e.g. 0000031852\n",
    "- title - name of the product\n",
    "- price - price in US dollars (at time of crawl)\n",
    "- imUrl - url of the product image\n",
    "- related - related products (also bought, also viewed, bought together, buy after viewing)\n",
    "- salesRank - sales rank information\n",
    "- brand - brand name\n",
    "- categories - list of categories the product belongs to\n",
    "\n"
   ]
  },
  {
   "cell_type": "markdown",
   "metadata": {},
   "source": [
    "---\n",
    "\n",
    "### TO DO LIST\n",
    "\n",
    "In the followings statements, 'extracted' means filtered with the thema : products/reviews associated to bio/ecology/renewable etc...\n",
    "\n",
    "- Choose category to focus on : Books ?  / Cinema Movies / Kindle Store / Home Kitchen / Health Personal Care (K) / Tools Home Improvement (K) / Grocery Food  / Tools Home (K)\n",
    "- Show Proportion of extracted data compared to the full data (of the category)\n",
    "- Comparison of extracted data between categories (which one contains the most related products/review interest)\n",
    "- Distribution Price of extracted data (per category) --> Compare between category and with not extracted data in the same category\n",
    "- Distribution salesRank of extracted data (best per category, mean, proportion of 10% first, 20%first etc...) --> Compare between category and with not extracted data in the same category\n",
    "\n",
    "- __Keywords__ : How to efficiently implement the selection of related data ? Currently with a list of key words, can use regexp, better writing of keywords etc.. ?\n",
    "\n",
    "- Associate Metadata with Reviews : __Join__\n",
    "> - Extract year of 1st review (which will give the publication year of the product -approximately-)\n",
    "> - Histograms number of extracted products per year \n",
    "> - Histograms number of extracted reviews per year\n",
    "> - Nb of reviews per product per category --> Distribution, compare between categories and with not extracted data to see if reviewers are more inerested/active with our thema products compared to others\n",
    "> - Helplful note : Compare between categories / Overall\n",
    "> - Mean rating product : Compare with other products\n",
    "\n",
    "\n",
    "- __Prediction__\n",
    "> - Nb of products for following years (Linear Regression)\n",
    "> - Sentiment Analysis on Reviews (Experiment ?)\n",
    "> - Prediction overall on price for following years ? (LR)\n",
    "\n"
   ]
  },
  {
   "cell_type": "markdown",
   "metadata": {},
   "source": [
    "---\n",
    "### Importing libraries"
   ]
  },
  {
   "cell_type": "code",
   "execution_count": 1,
   "metadata": {},
   "outputs": [],
   "source": [
    "import pandas as pd\n",
    "import numpy as np\n",
    "import scipy as sp\n",
    "import seaborn as sns\n",
    "import matplotlib.pyplot as plt\n",
    "import matplotlib as mpl\n",
    "mpl.style.use('seaborn')\n",
    "from datetime import datetime\n",
    "from sklearn.cluster import KMeans\n",
    "import nltk\n",
    "from nltk.corpus import stopwords\n",
    "from nltk.tokenize import sent_tokenize, word_tokenize\n",
    "from nltk.tokenize.treebank import TreebankWordDetokenizer as Detok\n",
    "\n",
    "\n",
    "%matplotlib inline"
   ]
  },
  {
   "cell_type": "code",
   "execution_count": 2,
   "metadata": {},
   "outputs": [],
   "source": [
    "import findspark\n",
    "findspark.init()\n",
    "import pyspark\n",
    "\n",
    "from pyspark.sql.types import DateType\n",
    "from pyspark.sql.types import TimestampType\n",
    "from pyspark.sql.functions import *\n",
    "from pyspark.sql import Window\n",
    "from pyspark.sql.types import *\n",
    "from pyspark.sql import *\n",
    "from pyspark.sql import SQLContext\n",
    "import pyspark.sql.functions as sqlf\n",
    "\n",
    "spark = SparkSession.builder.getOrCreate()\n",
    "sc = spark.sparkContext\n",
    "sqlContext = SQLContext(sc)"
   ]
  },
  {
   "cell_type": "markdown",
   "metadata": {},
   "source": [
    "<br>\n",
    "\n"
   ]
  },
  {
   "cell_type": "markdown",
   "metadata": {},
   "source": [
    "---\n",
    "### Data collection and preprocessing\n",
    "\n",
    "<br>\n",
    "\n",
    "In this part, we will perform the whole data processing.\n",
    "\n",
    "To simplify what is presented here, we have decided to perform all these steps for each category in **separate pyton scripts**.\n",
    "\n",
    "<br>\n",
    "\n",
    "For each category, we will proceed as follows:\n",
    "- Import the meta data and reviews that have been downloaded as `json` files\n",
    "- Extract the relevant and writtable features of meta data\n",
    "- Save it as a parquet file of the form **`\\\"category\\\"_datacleaned`**\n",
    "- We then do the same with the reviews and save a parquet file of the form **`\"category\\\"_reviews`**\n",
    "- Next, we **filter the data we have to only keep articles related to ecology/bio/renewable etc...**\n",
    "- Finally, we join the metadata and review dataset using the product ID, and create a finale parquet file of the form **`\\\"category\\\"_review_product_join`**\n",
    "\n",
    "<br>\n",
    "\n",
    "Therefore, all you need to do now is execute all the scripts to automatically generate all the parquet files that will be used in tis notebook.\n",
    "\n",
    ">Note that once these files have been created, we can skip this part to gain a lot of time.\n",
    "\n",
    "<br>"
   ]
  },
  {
   "cell_type": "markdown",
   "metadata": {},
   "source": [
    "**Grocery and Gourmet Food**"
   ]
  },
  {
   "cell_type": "code",
   "execution_count": 3,
   "metadata": {},
   "outputs": [],
   "source": [
    "%run -i \"data_collection_grocery_food\"\n",
    "# Run the # Run the data_collection_grocery_food.py file .py file "
   ]
  },
  {
   "cell_type": "markdown",
   "metadata": {},
   "source": [
    "**Healthcare**"
   ]
  },
  {
   "cell_type": "code",
   "execution_count": 14,
   "metadata": {},
   "outputs": [],
   "source": [
    "%run -i \"data_collection_healthcare\""
   ]
  },
  {
   "cell_type": "markdown",
   "metadata": {},
   "source": [
    "**Patio Lawn and Garden**"
   ]
  },
  {
   "cell_type": "code",
   "execution_count": 5,
   "metadata": {},
   "outputs": [],
   "source": [
    "%run -i \"data_collection_lawn_garden\""
   ]
  },
  {
   "cell_type": "markdown",
   "metadata": {},
   "source": [
    "**Books**"
   ]
  },
  {
   "cell_type": "code",
   "execution_count": null,
   "metadata": {},
   "outputs": [],
   "source": [
    "%run -i \"data_collection_books\""
   ]
  },
  {
   "cell_type": "markdown",
   "metadata": {},
   "source": [
    "**Home and Kitchen**"
   ]
  },
  {
   "cell_type": "code",
   "execution_count": 5,
   "metadata": {},
   "outputs": [],
   "source": [
    "%run -i \"data_collection_home_kitchen\""
   ]
  },
  {
   "cell_type": "code",
   "execution_count": 15,
   "metadata": {},
   "outputs": [
    {
     "name": "stdout",
     "output_type": "stream",
     "text": [
      "[nltk_data] Downloading package stopwords to\n",
      "[nltk_data]     C:\\Users\\Kevin\\AppData\\Roaming\\nltk_data...\n",
      "[nltk_data]   Package stopwords is already up-to-date!\n"
     ]
    },
    {
     "data": {
      "text/plain": [
       "True"
      ]
     },
     "execution_count": 15,
     "metadata": {},
     "output_type": "execute_result"
    }
   ],
   "source": [
    "nltk.download('stopwords')"
   ]
  },
  {
   "cell_type": "code",
   "execution_count": 16,
   "metadata": {},
   "outputs": [],
   "source": [
    "set_stopwords =set(stopwords.words('english'))\n",
    "punctuation = ['.',',','!','?','(',')','-',\"'ll\",\"'s\",\"'\",\"'re\",'\"']\n",
    "detokenizer = Detok()\n",
    "#any(word in word2.lower() for word2 in wordsFiltered for word in keywords)"
   ]
  },
  {
   "cell_type": "code",
   "execution_count": null,
   "metadata": {},
   "outputs": [],
   "source": [
    "def remove_stopwords(text):\n",
    "    words = word_tokenize(text)\n",
    "    wordsFiltered = []\n",
    "    \n",
    "    for w in words:\n",
    "        if((w not in set_stopwords) and (w not in punctuation) ):\n",
    "            wordsFiltered.append(w)\n",
    "    text = detokenizer.detokenize(wordsFiltered)\n",
    "    \n",
    "    return text"
   ]
  },
  {
   "cell_type": "code",
   "execution_count": 3,
   "metadata": {},
   "outputs": [],
   "source": [
    "keywords = [\" global warming\", \" solar energy\", \" recycling \", \" pollution \", \"solar power\", \" endangered species\", \"air pollution\", \\\n",
    "\" water pollution\", \" wind energy\", \" climate change\", \" wind power\", \" recycle \", \" deforestation\", \" greenhouse effect\", \"environment\", \\\n",
    "\" sustainability \", \" natural resources\", \"alternative energy\", \" climate \", \"global warming\", \"renewable energy\", \" ecology\", \"composting\", \\\n",
    "\" carbon footprint\", \" bio \", \" biosphere \", \" renewable \"]"
   ]
  },
  {
   "cell_type": "markdown",
   "metadata": {},
   "source": [
    "<br>\n",
    "\n",
    "---\n",
    "### Loading data\n",
    "<br>\n",
    "\n",
    "Now that our scripts have generated the files, let's just fetch the data that will allow us to do our analysis.\n",
    "\n",
    "<br>"
   ]
  },
  {
   "cell_type": "markdown",
   "metadata": {},
   "source": [
    "**Grocery and Gourmet Food**"
   ]
  },
  {
   "cell_type": "code",
   "execution_count": 4,
   "metadata": {},
   "outputs": [],
   "source": [
    "grocery_food_datacleaned = spark.read.parquet(\"meta_Grocery_and_Gourmet_Food.parquet\")\n",
    "grocery_food_reviews = spark.read.parquet(\"reviews_Grocery_and_Gourmet_Food.parquet\")\n",
    "grocery_food_review_product_join = spark.read.parquet(\"Grocery_and_Gourmet_Food.parquet\")"
   ]
  },
  {
   "cell_type": "code",
   "execution_count": 5,
   "metadata": {},
   "outputs": [],
   "source": [
    "grocery_filter_products_bio = grocery_food_datacleaned.rdd.filter(lambda r: (r[6] != None) &  (r[3] != None)) \\\n",
    "                    .filter(lambda r: (any(word in r[6].lower() for word in keywords)) | (any(word in r[3].lower() for word in keywords)) )"
   ]
  },
  {
   "cell_type": "markdown",
   "metadata": {},
   "source": [
    "**Healthcare**"
   ]
  },
  {
   "cell_type": "code",
   "execution_count": 6,
   "metadata": {},
   "outputs": [],
   "source": [
    "healthcare_datacleaned = spark.read.parquet(\"meta_HealthPersonalCare.parquet\")\n",
    "healthcare_reviews = spark.read.parquet(\"reviews_HealthPersonalCare.parquet\")\n",
    "healthcare_review_product_join = spark.read.parquet(\"HealthPersonalCare_joined.parquet\")"
   ]
  },
  {
   "cell_type": "code",
   "execution_count": 7,
   "metadata": {},
   "outputs": [],
   "source": [
    "healthcare_filter_products_bio = healthcare_datacleaned.rdd.filter(lambda r: (r[6] != None) &  (r[3] != None)) \\\n",
    "                    .filter(lambda r: (any(word in r[6].lower() for word in keywords)) | (any(word in r[3].lower() for word in keywords)) )"
   ]
  },
  {
   "cell_type": "markdown",
   "metadata": {},
   "source": [
    "**Patio Lawn and Garden**"
   ]
  },
  {
   "cell_type": "code",
   "execution_count": 8,
   "metadata": {},
   "outputs": [],
   "source": [
    "patiolawn_garden_datacleaned = spark.read.parquet(\"meta_PatioLawnGarden.parquet\")\n",
    "patiolawn_garden_reviews = spark.read.parquet(\"reviews_PatioLawnGarden.parquet\")\n",
    "patiolawn_garden_review_product_join = spark.read.parquet(\"PatioLawnGarden_joined.parquet\")"
   ]
  },
  {
   "cell_type": "code",
   "execution_count": 9,
   "metadata": {},
   "outputs": [],
   "source": [
    "patiolawn_garden_filter_products_bio = patiolawn_garden_datacleaned.rdd.filter(lambda r: (r[6] != None) &  (r[3] != None)) \\\n",
    "                    .filter(lambda r: (any(word in r[6].lower() for word in keywords)) | (any(word in r[3].lower() for word in keywords)) )"
   ]
  },
  {
   "cell_type": "markdown",
   "metadata": {},
   "source": [
    "**Books**"
   ]
  },
  {
   "cell_type": "code",
   "execution_count": null,
   "metadata": {},
   "outputs": [],
   "source": [
    "books_datacleaned = spark.read.parquet(\"meta_Books.parquet\")\n",
    "books_reviews = spark.read.parquet(\"reviews_Books.parquet\")\n",
    "books_review_product_join = spark.read.parquet(\"joined_Books.parquet\")"
   ]
  },
  {
   "cell_type": "code",
   "execution_count": null,
   "metadata": {},
   "outputs": [],
   "source": [
    "books_filter_products_bio = books_datacleaned.rdd.filter(lambda r: (r[5] != None) &  (r[3] != None)) \\\n",
    "                    .filter(lambda r: (any(word in r[5].lower() for word in keywords)) | (any(word in r[3].lower() for word in keywords)) )"
   ]
  },
  {
   "cell_type": "markdown",
   "metadata": {},
   "source": [
    "**Home and Kitchen**"
   ]
  },
  {
   "cell_type": "code",
   "execution_count": 10,
   "metadata": {},
   "outputs": [],
   "source": [
    "home_datacleaned = spark.read.parquet(\"meta_HomeKitchen.parquet\")\n",
    "home_reviews = spark.read.parquet(\"reviews_Home_and_Kitchen.parquet\")\n",
    "home_review_product_join = spark.read.parquet(\"Home_and_Kitchen_joined.parquet\")"
   ]
  },
  {
   "cell_type": "code",
   "execution_count": 11,
   "metadata": {},
   "outputs": [],
   "source": [
    "home_filter_eco = home_datacleaned.rdd.filter(lambda r: (r[6] != None) &  (r[3] != None)) \\\n",
    "                    .filter(lambda r: (any(word in r[6].lower() for word in keywords)) | (any(word in r[3].lower() for word in keywords)) )"
   ]
  },
  {
   "cell_type": "markdown",
   "metadata": {},
   "source": [
    "<br>\n",
    "\n",
    "---\n",
    "### Analysis\n",
    "\n",
    "<br>"
   ]
  },
  {
   "cell_type": "markdown",
   "metadata": {},
   "source": [
    "Now let's start analyzing the data we extracted above.\n",
    "\n",
    "We will carry out different analyses, and each time apply it to all the categories studied to compare them with each other.\n",
    "\n",
    "<br>\n",
    "\n",
    "**1)** First, we will compute and visualize **the proportion of environmentally friendly products in each category**. This will allow us to quickly realize the importance of these products in a category. \n",
    "\n",
    "This analysis is also important because we have large differences in quantities between the different categories, which could influence the procaine analyses.\n",
    "\n",
    "<br>\n",
    "\n",
    "**2)** Then, we will extract the publication dates of each article in each category to **plot the evolution of the number of eco-friendly products**. With these curves, we will then really be able to observe the evolution of the green trend over time.\n",
    "\n",
    "Of course, we can a priori suspect that we will obtain increasing curves, but it is interesting to evaluate this growth and compare it from one product category to another.\n",
    "\n",
    "<br>\n",
    "\n",
    "**3)** Another analysis that we will carry out focuses on the comments left on each of the products. We will indeed track **the distribution of the number of comments by product**. In this way, we can assess people's interest in environmentally friendly products and compare this interest across categories.\n",
    "\n",
    "<br>\n",
    "\n",
    "\n",
    "**4)** Then, we will look at the **average prices of the products in a category, and their evolution over time**. In this way, we will be able to observe the price difference between eco-friendly and other products, and to observe the evolution of this difference over time."
   ]
  },
  {
   "cell_type": "markdown",
   "metadata": {},
   "source": [
    "<br>\n",
    "\n",
    "Useful functions:"
   ]
  },
  {
   "cell_type": "code",
   "execution_count": null,
   "metadata": {},
   "outputs": [],
   "source": [
    "books_filter_products_bio = books_datacleaned.rdd.filter(lambda r: (r[5] != None) &  (r[3] != None)) \\\n",
    "                    .filter(lambda r: (any(word in r[5].lower() for word in keywords)) | (any(word in r[3].lower() for word in keywords)) )"
   ]
  },
  {
   "cell_type": "markdown",
   "metadata": {},
   "source": [
    "<br>\n",
    "\n",
    "#### **1) Proportion of environmentally friendly products in each category**\n"
   ]
  },
  {
   "cell_type": "markdown",
   "metadata": {},
   "source": [
    "<br>\n",
    "\n",
    "**Grocery and Gourmet Food**"
   ]
  },
  {
   "cell_type": "code",
   "execution_count": 14,
   "metadata": {
    "scrolled": true
   },
   "outputs": [
    {
     "name": "stdout",
     "output_type": "stream",
     "text": [
      "GROCERY FOOD : Number of products : 145854\n",
      "GROCERY FOOD : Number of products related to ecology/bio/renewable etc... : 2187\n"
     ]
    }
   ],
   "source": [
    "print(\"GROCERY FOOD : Number of products : \" + str(grocery_food_datacleaned.rdd.count()) )\n",
    "print(\"GROCERY FOOD : Number of products related to ecology/bio/renewable etc... : \" + str(grocery_filter_products_bio.count()) )"
   ]
  },
  {
   "cell_type": "markdown",
   "metadata": {},
   "source": [
    "Proportion of extracted data related to ecology/bio/renewable compared to the full data that was available:"
   ]
  },
  {
   "cell_type": "code",
   "execution_count": 7,
   "metadata": {},
   "outputs": [
    {
     "data": {
      "image/png": "[encoded data removed]",
      "text/plain": [
       "<Figure size 432x288 with 1 Axes>"
      ]
     },
     "metadata": {},
     "output_type": "display_data"
    }
   ],
   "source": [
    "labels = 'Data samples related to ecology/bio/renewable', 'Other'; colors_graph = ['skyblue', 'lightcoral']\n",
    "plt.pie([grocery_filter_products_bio.count(), grocery_food_datacleaned.rdd.count()-grocery_filter_products_bio.count()], autopct='%1.1f%%', explode=(0.1, 0), labels=labels, colors=colors_graph)\n",
    "plt.title('Grocery and Gourmet Food data'); plt.axis('equal'); plt.show()"
   ]
  },
  {
   "cell_type": "markdown",
   "metadata": {},
   "source": [
    "Let's take a look at one entry that was extracted:"
   ]
  },
  {
   "cell_type": "code",
   "execution_count": 14,
   "metadata": {
    "scrolled": true
   },
   "outputs": [
    {
     "data": {
      "text/plain": [
       "[Row(asin='B001EO602S', brand=None, category='Grocery & Gourmet Food', description='The CO2 process delivers a natural, de-caffeinated tea in the purest way possible. Carbon dioxide, acting as a solvent in a super critical state under high-pressure and low temperature, dissolves all active components from natural materials in the leaf. By varying the extraction/separation pressures and temperatures, CO2 makes it possible to selectively extract only the caffeine, leaving the flavor intact. As a solvent, carbon dioxide is non-toxic, odorless, tasteless, germicidal, food-safe and non-combustible and the process does not cause environmental harm.', price=None, salesRank=267957, title='SerendipiTea De-Caff Slim Mint, Chocolate, Vanilla, Rooiboos, Mint &amp; Organic Black Tea, 4-Ounce Boxes (Pack of 2)')]"
      ]
     },
     "execution_count": 14,
     "metadata": {},
     "output_type": "execute_result"
    }
   ],
   "source": [
    "grocery_filter_products_bio.take(1)"
   ]
  },
  {
   "cell_type": "markdown",
   "metadata": {},
   "source": [
    "<br>\n",
    "\n",
    "**Healthcare**"
   ]
  },
  {
   "cell_type": "code",
   "execution_count": 15,
   "metadata": {},
   "outputs": [
    {
     "name": "stdout",
     "output_type": "stream",
     "text": [
      "HEALTHCARE : Number of products : 217977\n",
      "HEALTHCARE : Number of products related to ecology/bio/renewable etc... : 5390\n"
     ]
    }
   ],
   "source": [
    "print(\"HEALTHCARE : Number of products : \" + str(healthcare_datacleaned.rdd.count()) )\n",
    "print(\"HEALTHCARE : Number of products related to ecology/bio/renewable etc... : \" + str(healthcare_filter_products_bio.count()) )"
   ]
  },
  {
   "cell_type": "code",
   "execution_count": 16,
   "metadata": {},
   "outputs": [
    {
     "data": {
      "image/png": "[encoded data removed]",
      "text/plain": [
       "<Figure size 432x288 with 1 Axes>"
      ]
     },
     "metadata": {},
     "output_type": "display_data"
    }
   ],
   "source": [
    "labels = 'Data samples related to ecology/bio/renewable', 'Other'; colors_graph = ['skyblue', 'lightcoral']\n",
    "plt.pie([healthcare_filter_products_bio.count(), healthcare_datacleaned.rdd.count()-healthcare_filter_products_bio.count()], autopct='%1.1f%%', explode=(0.1, 0), labels=labels, colors=colors_graph)\n",
    "plt.title('Healthcare data'); plt.axis('equal'); plt.show()"
   ]
  },
  {
   "cell_type": "markdown",
   "metadata": {},
   "source": [
    "<br>\n",
    "\n",
    "**Patio Lawn and Garden**"
   ]
  },
  {
   "cell_type": "code",
   "execution_count": 17,
   "metadata": {},
   "outputs": [
    {
     "name": "stdout",
     "output_type": "stream",
     "text": [
      "PATIOLAWN - GARDEN : Number of products : 83455\n",
      "PATIOLAWN - GARDEN : Number of products related to ecology/bio/renewable etc... : 3026\n"
     ]
    }
   ],
   "source": [
    "print(\"PATIOLAWN - GARDEN : Number of products : \" + str(patiolawn_garden_datacleaned.rdd.count()) )\n",
    "print(\"PATIOLAWN - GARDEN : Number of products related to ecology/bio/renewable etc... : \" + str(patiolawn_garden_filter_products_bio.count()) )"
   ]
  },
  {
   "cell_type": "code",
   "execution_count": 18,
   "metadata": {},
   "outputs": [
    {
     "data": {
      "image/png": "[encoded data removed]",
      "text/plain": [
       "<Figure size 432x288 with 1 Axes>"
      ]
     },
     "metadata": {},
     "output_type": "display_data"
    }
   ],
   "source": [
    "labels = 'Data samples related to ecology/bio/renewable', 'Other'; colors_graph = ['skyblue', 'lightcoral']\n",
    "plt.pie([patiolawn_garden_filter_products_bio.count(), patiolawn_garden_datacleaned.rdd.count()-patiolawn_garden_filter_products_bio.count()], autopct='%1.1f%%', explode=(0.1, 0), labels=labels, colors=colors_graph)\n",
    "plt.title('PatioLawn Garden data'); plt.axis('equal'); plt.show()"
   ]
  },
  {
   "cell_type": "markdown",
   "metadata": {},
   "source": [
    "<br>\n",
    "\n",
    "**Books**"
   ]
  },
  {
   "cell_type": "code",
   "execution_count": 22,
   "metadata": {},
   "outputs": [
    {
     "name": "stdout",
     "output_type": "stream",
     "text": [
      "BOOKS : Number of products : 2370585\n",
      "BOOKS : Number of products related to ecology/bio/renewable etc... : 20723\n"
     ]
    }
   ],
   "source": [
    "print(\"BOOKS : Number of products : \" + str(books_datacleaned.rdd.count()) )\n",
    "print(\"BOOKS : Number of products related to ecology/bio/renewable etc... : \" + str(books_filter_products_bio.count()) )"
   ]
  },
  {
   "cell_type": "code",
   "execution_count": 23,
   "metadata": {
    "scrolled": false
   },
   "outputs": [
    {
     "data": {
      "image/png": "[encoded data removed]",
      "text/plain": [
       "<Figure size 432x288 with 1 Axes>"
      ]
     },
     "metadata": {},
     "output_type": "display_data"
    }
   ],
   "source": [
    "labels = 'Data samples related to ecology/bio/renewable', 'Other'; colors_graph = ['skyblue', 'lightcoral']\n",
    "plt.pie([books_filter_products_bio.count(), books_datacleaned.rdd.count()-books_filter_products_bio.count()], autopct='%1.1f%%', explode=(0.1, 0), labels=labels, colors=colors_graph)\n",
    "plt.title('Books data'); plt.axis('equal'); plt.show()"
   ]
  },
  {
   "cell_type": "markdown",
   "metadata": {},
   "source": [
    "**Home and Kitchen**"
   ]
  },
  {
   "cell_type": "code",
   "execution_count": 19,
   "metadata": {},
   "outputs": [
    {
     "name": "stdout",
     "output_type": "stream",
     "text": [
      "BOOKS : Number of products : 336805\n",
      "BOOKS : Number of products related to ecology/bio/renewable etc... : 7470\n"
     ]
    }
   ],
   "source": [
    "print(\"BOOKS : Number of products : \" + str(home_datacleaned.rdd.count()) )\n",
    "print(\"BOOKS : Number of products related to ecology/bio/renewable etc... : \" + str(home_filter_eco.count()) )"
   ]
  },
  {
   "cell_type": "code",
   "execution_count": 623,
   "metadata": {},
   "outputs": [
    {
     "data": {
      "image/png": "[encoded data removed]",
      "text/plain": [
       "<Figure size 576x396 with 1 Axes>"
      ]
     },
     "metadata": {},
     "output_type": "display_data"
    }
   ],
   "source": [
    "labels = 'Data samples related to ecology/bio/renewable', 'Other'; colors_graph = ['skyblue', 'lightcoral']\n",
    "plt.pie([home_filter_eco.count(), home_datacleaned.rdd.count()-home_filter_eco.count()], autopct='%1.1f%%', explode=(0.1, 0), labels=labels, colors=colors_graph)\n",
    "plt.title('Home and kitchen data'); plt.axis('equal'); plt.show()"
   ]
  },
  {
   "cell_type": "markdown",
   "metadata": {},
   "source": [
    "<br>\n",
    "\n",
    "#### **2) Evolution of the number of eco-friendly products by year.**\n",
    "\n",
    "\n",
    "\n",
    "Indeed that is something that interest us. The number of eco-friendly item released per year can be a relevant source of information concerning the supply and demand.\n",
    "But we are also aware not to draw to quick conclusion. We are actually working with Amazon's datasets. Amazon was founded in 1994 and since is in full growth. Although we are expected some special trend or increase of eco-friendly products, we stay aware that there is also a global increase of proposal products.\n",
    "\n",
    "Futhermore, the awareness in climate change (or the real involvement in it) is something quite recent can be toughly observable in some categories or behavior.\n",
    "\n",
    "**How we proceed :**\n",
    "For each category belown, we groupby the product by the id and keep only the minimum time review which correspond to the first review. Then we convert this time in year and assign it as the released year of the product.\n",
    "We do the process for all filtered eco-friendly products and also for all of them in order to see the difference.\n"
   ]
  },
  {
   "cell_type": "markdown",
   "metadata": {},
   "source": [
    "<br>\n",
    "\n",
    "**Grocery and Gourmet Food**"
   ]
  },
  {
   "cell_type": "code",
   "execution_count": 12,
   "metadata": {},
   "outputs": [],
   "source": [
    "# Compute and aggregate first review --> publication year of the product : Ecofriendly products\n",
    "grocerybio_firstrev = grocery_food_review_product_join.groupBy(\"asin\").agg(sqlf.min(\"unixReviewTime\"))\n",
    "grocerybio_firstrev_pd = grocerybio_firstrev.toPandas()\n",
    "grocerybio_firstrev_pd['Year'] = pd.to_datetime(grocerybio_firstrev_pd['min(unixReviewTime)'],unit='s').map(lambda x: x.year)\n",
    "\n",
    "# Compute and aggregate first review --> publication year of the product : All products\n",
    "groceryall_firstrev = grocery_food_reviews.groupBy(\"asin\").agg(sqlf.min(\"unixReviewTime\"))\n",
    "groceryall_firstrev_pd = groceryall_firstrev.toPandas()\n",
    "groceryall_firstrev_pd['Year'] = pd.to_datetime(groceryall_firstrev_pd['min(unixReviewTime)'],unit='s').map(lambda x: x.year)"
   ]
  },
  {
   "cell_type": "code",
   "execution_count": 46,
   "metadata": {},
   "outputs": [],
   "source": [
    "#Compute Histogram of ecofriendly products publication years\n",
    "grocerybio_firstrev_index = np.sort(grocerybio_firstrev_pd['Year'].unique())\n",
    "grocerybio_firstrev_histogram,_ = np.histogram(grocerybio_firstrev_pd['Year'], len(grocerybio_firstrev_index), density=True)\n",
    "\n",
    "grocerybio_firstrev_serie = pd.Series(grocerybio_firstrev_histogram, index=grocerybio_firstrev_index)*100\n",
    "grocerybio_firstrev_serie = grocerybio_firstrev_serie.sort_index()\n",
    "\n",
    "#Compute Histogram of all products publication years\n",
    "groceryeall_firstrev_index = np.sort(groceryall_firstrev_pd['Year'].unique())\n",
    "groceryall_firstrev_histogram,_ = np.histogram(groceryall_firstrev_pd['Year'], len(groceryeall_firstrev_index), density=True)\n",
    "\n",
    "# Merge the 2 histograms in a dataframe\n",
    "grocery_firstrev_histogram = pd.DataFrame(groceryall_firstrev_histogram, index=groceryeall_firstrev_index, columns=['All Products']) *100  \n",
    "grocery_firstrev_histogram['Ecofriendly products'] = grocerybio_firstrev_serie\n",
    "grocery_firstrev_histogram = grocery_firstrev_histogram.fillna(0)"
   ]
  },
  {
   "cell_type": "code",
   "execution_count": 50,
   "metadata": {
    "scrolled": false
   },
   "outputs": [
    {
     "data": {
      "text/plain": [
       "Text(0.5,1,'Histogram : Number of products first published per year (log scale)')"
      ]
     },
     "execution_count": 50,
     "metadata": {},
     "output_type": "execute_result"
    },
    {
     "data": {
      "image/png": "[encoded data removed]",
      "text/plain": [
       "<Figure size 1152x576 with 2 Axes>"
      ]
     },
     "metadata": {
      "needs_background": "light"
     },
     "output_type": "display_data"
    }
   ],
   "source": [
    "fig, axes = plt.subplots(2,1)\n",
    "fig.set_size_inches(16,8)\n",
    "\n",
    "ax1 = grocery_firstrev_histogram.plot(kind='bar',color=['coral','forestgreen'], ax=axes[0])\n",
    "ax1.set_title(\"Proportion (%) of products first published per year\")\n",
    "ax1.set_ylabel(\"Proportion (%) of products\")\n",
    "\n",
    "ax2 = groceryall_firstrev_pd.hist(\"Year\", log=True, color=\"coral\", edgecolor='black',bins=13,ax=axes[1])\n",
    "grocerybio_firstrev_pd.hist(\"Year\", color=\"forestgreen\", edgecolor='black',log=True,bins=11,ax = ax2)\n",
    "\n",
    "\n",
    "plt.legend(['All products',\"Eco-friendly products\"])\n",
    "plt.title('Histogram : Number of products first published per year (log scale)')"
   ]
  },
  {
   "cell_type": "markdown",
   "metadata": {},
   "source": [
    "<br>\n",
    "\n",
    "**Healthcare**"
   ]
  },
  {
   "cell_type": "code",
   "execution_count": 29,
   "metadata": {},
   "outputs": [],
   "source": [
    "# Compute and aggregate first review --> publication year of the product : Ecofriendly products\n",
    "healthcarebio_firstrev = healthcare_review_product_join.groupBy(\"asin\").agg(sqlf.min(\"unixReviewTime\"))\n",
    "healthcarebio_firstrev_pd = healthcarebio_firstrev.toPandas()\n",
    "healthcarebio_firstrev_pd['Year'] = pd.to_datetime(healthcarebio_firstrev_pd['min(unixReviewTime)'],unit='s').map(lambda x: x.year)\n",
    "healthcarebio_firstrev_pd = healthcarebio_firstrev_pd.drop('min(unixReviewTime)', axis=1)\n",
    "\n",
    "\n",
    "# Compute and aggregate first review --> publication year of the product : All products\n",
    "healthcareall_firstrev = healthcare_reviews.groupBy(\"asin\").agg(sqlf.min(\"unixReviewTime\"))\n",
    "healthcareall_firstrev_pd = healthcareall_firstrev.toPandas()\n",
    "healthcareall_firstrev_pd['Year'] = pd.to_datetime(healthcareall_firstrev_pd['min(unixReviewTime)'],unit='s').map(lambda x: x.year)\n",
    "healthcareall_firstrev_pd = healthcareall_firstrev_pd.drop('min(unixReviewTime)', axis=1)"
   ]
  },
  {
   "cell_type": "code",
   "execution_count": 30,
   "metadata": {},
   "outputs": [],
   "source": [
    "#Compute Histogram of ecofriendly products publication years\n",
    "healthcarebio_firstrev_index = np.sort(healthcarebio_firstrev_pd['Year'].unique())\n",
    "healthcarebio_firstrev_histogram,_ = np.histogram(healthcarebio_firstrev_pd['Year'], len(healthcarebio_firstrev_index), density=True)\n",
    "\n",
    "healthcarebio_firstrev_serie = pd.Series(healthcarebio_firstrev_histogram, index=healthcarebio_firstrev_index)*100\n",
    "healthcarebio_firstrev_serie = healthcarebio_firstrev_serie.sort_index()\n",
    "\n",
    "#Compute Histogram of all products publication years\n",
    "healthcareall_firstrev_index = np.sort(healthcareall_firstrev_pd['Year'].unique())\n",
    "healthcareall_firstrev_histogram,_ = np.histogram(healthcareall_firstrev_pd['Year'], len(healthcareall_firstrev_index), density=True)\n",
    "\n",
    "# Merge the 2 histograms in a dataframe\n",
    "healthcare_firstrev_histogram = pd.DataFrame(healthcareall_firstrev_histogram, index=healthcareall_firstrev_index, columns=['All Products']) *100  \n",
    "healthcare_firstrev_histogram['Ecofriendly products'] = healthcarebio_firstrev_serie\n",
    "healthcare_firstrev_histogram = healthcare_firstrev_histogram.fillna(0)"
   ]
  },
  {
   "cell_type": "code",
   "execution_count": 44,
   "metadata": {},
   "outputs": [
    {
     "data": {
      "text/plain": [
       "Text(0.5,1,'Histogram : Number of products first published per year (log scale)')"
      ]
     },
     "execution_count": 44,
     "metadata": {},
     "output_type": "execute_result"
    },
    {
     "data": {
      "image/png": "[encoded data removed]",
      "text/plain": [
       "<Figure size 1152x576 with 2 Axes>"
      ]
     },
     "metadata": {
      "needs_background": "light"
     },
     "output_type": "display_data"
    }
   ],
   "source": [
    "fig, axes = plt.subplots(2,1)\n",
    "fig.set_size_inches(16,8)\n",
    "\n",
    "ax1 = healthcare_firstrev_histogram.plot(kind='bar',color=['coral','forestgreen'], ax=axes[0])\n",
    "ax1.set_title(\"Proportion (%) of products first published per year\")\n",
    "ax1.set_ylabel(\"Proportion (%) of products\")\n",
    "\n",
    "ax2 = healthcareall_firstrev_pd.hist(\"Year\", log=True, color=\"coral\", edgecolor='black',bins=14, ax=axes[1])\n",
    "healthcarebio_firstrev_pd.hist(\"Year\", color=\"forestgreen\", edgecolor='black', log=True,bins=11,ax=ax2)\n",
    "\n",
    "plt.legend(['All products',\"Eco-friendly products\"])\n",
    "plt.title('Histogram : Number of products first published per year (log scale)')"
   ]
  },
  {
   "cell_type": "markdown",
   "metadata": {},
   "source": [
    "<br>\n",
    "\n",
    "**PatioLawn Garden**"
   ]
  },
  {
   "cell_type": "code",
   "execution_count": 19,
   "metadata": {},
   "outputs": [],
   "source": [
    "# Compute and aggregate first review --> publication year of the product : Ecofriendly products\n",
    "gardenbio_firstrev = patiolawn_garden_review_product_join.groupBy(\"asin\").agg(sqlf.min(\"unixReviewTime\"))\n",
    "gardenbio_firstrev_pd = gardenbio_firstrev.toPandas()\n",
    "gardenbio_firstrev_pd['Year'] = pd.to_datetime(gardenbio_firstrev_pd['min(unixReviewTime)'],unit='s').map(lambda x: x.year)\n",
    "gardenbio_firstrev_pd = gardenbio_firstrev_pd.drop('min(unixReviewTime)', axis=1)\n",
    "\n",
    "\n",
    "# Compute and aggregate first review --> publication year of the product : All products\n",
    "gardeneall_firstrev = patiolawn_garden_reviews.groupBy(\"asin\").agg(sqlf.min(\"unixReviewTime\"))\n",
    "gardeneall_firstrev_pd = gardeneall_firstrev.toPandas()\n",
    "gardeneall_firstrev_pd['Year'] = pd.to_datetime(gardeneall_firstrev_pd['min(unixReviewTime)'],unit='s').map(lambda x: x.year)\n",
    "gardeneall_firstrev_pd = gardeneall_firstrev_pd.drop(['min(unixReviewTime)'], axis=1)"
   ]
  },
  {
   "cell_type": "code",
   "execution_count": 42,
   "metadata": {},
   "outputs": [],
   "source": [
    "#Compute Histogram of ecofriendly products publication years\n",
    "gardenbio_firstrev_index = np.sort(gardenbio_firstrev_pd['Year'].unique())\n",
    "gardenbio_firstrev_histogram,_ = np.histogram(gardenbio_firstrev_pd['Year'], len(gardenbio_firstrev_index), density=True)\n",
    "\n",
    "gardenbio_firstrev_serie = pd.Series(gardenbio_firstrev_histogram, index=gardenbio_firstrev_index)*100\n",
    "gardenbio_firstrev_serie = gardenbio_firstrev_serie.sort_index()\n",
    "\n",
    "#Compute Histogram of all products publication years\n",
    "gardenall_firstrev_index = np.sort(gardeneall_firstrev_pd['Year'].unique())\n",
    "gardenall_firstrev_histogram,_ = np.histogram(gardeneall_firstrev_pd['Year'], len(gardenall_firstrev_index), density=True)\n",
    "\n",
    "# Merge the 2 histograms in a dataframe\n",
    "garden_firstrev_histogram = pd.DataFrame(gardenall_firstrev_histogram, index=gardenall_firstrev_index, columns=['All Products']) *100  \n",
    "garden_firstrev_histogram['Ecofriendly products'] = gardenbio_firstrev_serie\n",
    "garden_firstrev_histogram = garden_firstrev_histogram.fillna(0)"
   ]
  },
  {
   "cell_type": "code",
   "execution_count": 45,
   "metadata": {},
   "outputs": [
    {
     "data": {
      "text/plain": [
       "Text(0.5,1,'Histogram : Number of products first published per year (log scale)')"
      ]
     },
     "execution_count": 45,
     "metadata": {},
     "output_type": "execute_result"
    },
    {
     "data": {
      "image/png": "[encoded data removed]",
      "text/plain": [
       "<Figure size 1152x576 with 2 Axes>"
      ]
     },
     "metadata": {
      "needs_background": "light"
     },
     "output_type": "display_data"
    }
   ],
   "source": [
    "fig, axes = plt.subplots(2,1)\n",
    "fig.set_size_inches(16,8)\n",
    "\n",
    "ax1 = garden_firstrev_histogram.plot(kind='bar',color=['coral','forestgreen'], ax=axes[0])\n",
    "ax1.set_title(\"Proportion (%) of products first published per year\")\n",
    "ax1.set_ylabel(\"Proportion (%) of products\")\n",
    "\n",
    "ax2 = gardeneall_firstrev_pd.hist(\"Year\", log=True, color=\"coral\", edgecolor='black', bins=15, ax=axes[1])\n",
    "gardenbio_firstrev_pd.hist(\"Year\", color=\"forestgreen\", edgecolor='black', log=True,bins=14,ax=ax2)\n",
    "\n",
    "plt.legend(['All products',\"Eco-friendly products\"])\n",
    "plt.title('Histogram : Number of products first published per year (log scale)')"
   ]
  },
  {
   "cell_type": "markdown",
   "metadata": {},
   "source": [
    "<br>\n",
    "\n",
    "**Books**"
   ]
  },
  {
   "cell_type": "code",
   "execution_count": null,
   "metadata": {},
   "outputs": [],
   "source": [
    "booksbio_firstrev = books_review_product_join.groupBy(\"asin\").agg(sqlf.min(\"unixReviewTime\"))\n",
    "booksbio_firstrev_pd = booksbio_firstrev.toPandas()\n",
    "booksbio_firstrev_pd['Year'] = pd.to_datetime(booksbio_firstrev_pd['min(unixReviewTime)'],unit='s').map(lambda x: x.year)\n",
    "\n",
    "booksall_firstrev = books_reviews.groupBy(\"asin\").agg(sqlf.min(\"unixReviewTime\"))\n",
    "booksall_firstrev_pd = booksall_firstrev.toPandas()\n",
    "booksall_firstrev_pd['Year'] = pd.to_datetime(booksall_firstrev_pd['min(unixReviewTime)'],unit='s').map(lambda x: x.year)"
   ]
  },
  {
   "cell_type": "code",
   "execution_count": null,
   "metadata": {},
   "outputs": [],
   "source": [
    "fig, axes = plt.subplots(1,1)\n",
    "fig.set_size_inches(16,4)\n",
    "\n",
    "ax = booksall_firstrev_pd.hist(\"Year\", log=True, color=\"coral\", bins=18, ax=axes)\n",
    "booksbio_firstrev_pd.hist(\"Year\", color=\"green\", log=True,bins=17,ax=ax)\n",
    "\n",
    "plt.title('Number of products per year (log scale)')\n",
    "axes.legend(['All products',\"Eco-friendly products\"])\n",
    "\n",
    "plt.show()"
   ]
  },
  {
   "cell_type": "markdown",
   "metadata": {},
   "source": [
    "**Home and Kitchen**"
   ]
  },
  {
   "cell_type": "code",
   "execution_count": 52,
   "metadata": {},
   "outputs": [],
   "source": [
    "# Compute and aggregate first review --> publication year of the product : Ecofriendly products\n",
    "homebio_firstrev = home_review_product_join.groupBy(\"asin\").agg(sqlf.min(\"unixReviewTime\"))\n",
    "homebio_firstrev_pd = homebio_firstrev.toPandas()\n",
    "homebio_firstrev_pd['Year'] = pd.to_datetime(homebio_firstrev_pd['min(unixReviewTime)'],unit='s').map(lambda x: x.year)\n",
    "\n",
    "# Compute and aggregate first review --> publication year of the product : All products\n",
    "homeall_firstrev = home_reviews.groupBy(\"asin\").agg(sqlf.min(\"unixReviewTime\"))\n",
    "homeall_firstrev_pd = homeall_firstrev.toPandas()\n",
    "homeall_firstrev_pd['Year'] = pd.to_datetime(homeall_firstrev_pd['min(unixReviewTime)'],unit='s').map(lambda x: x.year)"
   ]
  },
  {
   "cell_type": "code",
   "execution_count": 53,
   "metadata": {},
   "outputs": [],
   "source": [
    "#Compute Histogram of ecofriendly products publication years\n",
    "homebio_firstrev_index = np.sort(homebio_firstrev_pd['Year'].unique())\n",
    "homebio_firstrev_histogram,_ = np.histogram(homebio_firstrev_pd['Year'], len(homebio_firstrev_index), density=True)\n",
    "\n",
    "homebio_firstrev_serie = pd.Series(homebio_firstrev_histogram, index=homebio_firstrev_index)*100\n",
    "homebio_firstrev_serie = homebio_firstrev_serie.sort_index()\n",
    "\n",
    "#Compute Histogram of all products publication years\n",
    "homeall_firstrev_index = np.sort(homeall_firstrev_pd['Year'].unique())\n",
    "homeall_firstrev_histogram,_ = np.histogram(homeall_firstrev_pd['Year'], len(homeall_firstrev_index), density=True)\n",
    "\n",
    "# Merge the 2 histograms in a dataframe\n",
    "home_firstrev_histogram = pd.DataFrame(homeall_firstrev_histogram, index=homeall_firstrev_index, columns=['All Products']) *100  \n",
    "home_firstrev_histogram['Ecofriendly products'] = homebio_firstrev_serie\n",
    "home_firstrev_histogram = home_firstrev_histogram.fillna(0)"
   ]
  },
  {
   "cell_type": "code",
   "execution_count": 54,
   "metadata": {},
   "outputs": [
    {
     "data": {
      "text/plain": [
       "Text(0.5,1,'Histogram : Number of products first published per year (log scale)')"
      ]
     },
     "execution_count": 54,
     "metadata": {},
     "output_type": "execute_result"
    },
    {
     "data": {
      "image/png": "[encoded data removed]",
      "text/plain": [
       "<Figure size 1152x576 with 2 Axes>"
      ]
     },
     "metadata": {
      "needs_background": "light"
     },
     "output_type": "display_data"
    }
   ],
   "source": [
    "fig, axes = plt.subplots(2,1)\n",
    "fig.set_size_inches(16,8)\n",
    "\n",
    "ax1 = home_firstrev_histogram.plot(kind='bar',color=['coral','forestgreen'], ax=axes[0])\n",
    "ax1.set_title(\"Proportion (%) of products first published per year\")\n",
    "ax1.set_ylabel(\"Proportion (%) of products\")\n",
    "\n",
    "\n",
    "ax2 = homeall_firstrev_pd.hist(\"Year\", log=True, color=\"coral\", edgecolor='black', bins=14, ax=axes[1])\n",
    "homebio_firstrev_pd.hist(\"Year\", color=\"forestgreen\", edgecolor='black',log=True,bins=14,ax=ax2)\n",
    "\n",
    "plt.legend(['All products',\"Eco-friendly products\"])\n",
    "plt.title('Histogram : Number of products first published per year (log scale)')"
   ]
  },
  {
   "cell_type": "markdown",
   "metadata": {},
   "source": [
    "<br>\n",
    "\n",
    "#### **3) Distribution of the number of comments by product**\n",
    "\n",
    "Now we are goin to interest in the reviews distribution over the eco-friendly items in order to find a relevant trend or behavior in those items.\n",
    "For each product, we count by id the number of reviews received and the frequency of it. This is also an indicator of how much can people be interested in."
   ]
  },
  {
   "cell_type": "markdown",
   "metadata": {},
   "source": [
    "<br>\n",
    "\n",
    "**Grocery Food**"
   ]
  },
  {
   "cell_type": "code",
   "execution_count": 29,
   "metadata": {},
   "outputs": [],
   "source": [
    "grocerybio_nbrev_perproduct=  grocery_food_review_product_join.rdd.map(lambda r: [r[0],1]) \\\n",
    "            .reduceByKey(lambda a,b: a+b)"
   ]
  },
  {
   "cell_type": "code",
   "execution_count": 30,
   "metadata": {},
   "outputs": [],
   "source": [
    "grocerybio_nbreviews_DF = spark.createDataFrame(grocerybio_nbrev_perproduct, ['productID','freq'])"
   ]
  },
  {
   "cell_type": "code",
   "execution_count": 31,
   "metadata": {},
   "outputs": [],
   "source": [
    "grocerybio_nbreviews_Pandas = grocerybio_nbreviews_DF.toPandas()"
   ]
  },
  {
   "cell_type": "code",
   "execution_count": 32,
   "metadata": {
    "scrolled": false
   },
   "outputs": [
    {
     "data": {
      "image/png": "[encoded data removed]",
      "text/plain": [
       "<Figure size 1152x360 with 1 Axes>"
      ]
     },
     "metadata": {
      "needs_background": "light"
     },
     "output_type": "display_data"
    }
   ],
   "source": [
    "fig, axes = plt.subplots(nrows=1, ncols=1, sharex=True, sharey=True); fig.set_size_inches(16,5)\n",
    "grocerybio_nbreviews_Pandas.hist(log=True, bins = 100, color=\"skyblue\", cumulative=-1, ax=axes)\n",
    "axes.set_xlabel(\"Nb of reviews/ Product\")\n",
    "axes.set_ylabel(\"Frequency\")\n",
    "axes.set_title(\"Nb of reviews/ Product Distribution Associated to Ecology/Bio etc..\")\n",
    "plt.show()"
   ]
  },
  {
   "cell_type": "markdown",
   "metadata": {},
   "source": [
    "<br>\n",
    "\n",
    "**Healthcare**"
   ]
  },
  {
   "cell_type": "code",
   "execution_count": 33,
   "metadata": {},
   "outputs": [],
   "source": [
    "healthcarebio_nbrev_perproduct=  healthcare_review_product_join.rdd.map(lambda r: [r[0],1]) \\\n",
    "            .reduceByKey(lambda a,b: a+b)"
   ]
  },
  {
   "cell_type": "code",
   "execution_count": 34,
   "metadata": {},
   "outputs": [],
   "source": [
    "healthcarebio_nbreviews_DF = spark.createDataFrame(healthcarebio_nbrev_perproduct, ['productID','freq'])"
   ]
  },
  {
   "cell_type": "code",
   "execution_count": 35,
   "metadata": {},
   "outputs": [],
   "source": [
    "healthcarebio_nbreviews_pd = healthcarebio_nbreviews_DF.toPandas()"
   ]
  },
  {
   "cell_type": "code",
   "execution_count": 36,
   "metadata": {
    "scrolled": true
   },
   "outputs": [
    {
     "data": {
      "image/png": "[encoded data removed]",
      "text/plain": [
       "<Figure size 1152x360 with 1 Axes>"
      ]
     },
     "metadata": {
      "needs_background": "light"
     },
     "output_type": "display_data"
    }
   ],
   "source": [
    "fig, axes = plt.subplots(nrows=1, ncols=1, sharex=True, sharey=True); fig.set_size_inches(16,5)\n",
    "healthcarebio_nbreviews_pd.hist(log=True, bins = 100, color=\"skyblue\", cumulative=-1, ax=axes)\n",
    "axes.set_xlabel(\"Nb of reviews/ Product\")\n",
    "axes.set_ylabel(\"Frequency\")\n",
    "axes.set_title(\"Nb of reviews/ Product Distribution Associated to Ecology/Bio etc..\")\n",
    "plt.show()"
   ]
  },
  {
   "cell_type": "markdown",
   "metadata": {},
   "source": [
    "<br>\n",
    "\n",
    "**Patio Lawn Garden**"
   ]
  },
  {
   "cell_type": "code",
   "execution_count": 37,
   "metadata": {},
   "outputs": [],
   "source": [
    "gardenbio_nbrev_perproduct=  patiolawn_garden_review_product_join.rdd.map(lambda r: [r[0],1]) \\\n",
    "            .reduceByKey(lambda a,b: a+b)"
   ]
  },
  {
   "cell_type": "code",
   "execution_count": 38,
   "metadata": {},
   "outputs": [],
   "source": [
    "gardenbio_nbreviews_DF = spark.createDataFrame(gardenbio_nbrev_perproduct, ['productID','freq'])"
   ]
  },
  {
   "cell_type": "code",
   "execution_count": 39,
   "metadata": {},
   "outputs": [],
   "source": [
    "gardenbio_nbreviews_pd = gardenbio_nbreviews_DF.toPandas()"
   ]
  },
  {
   "cell_type": "code",
   "execution_count": 40,
   "metadata": {
    "scrolled": true
   },
   "outputs": [
    {
     "data": {
      "image/png": "[encoded data removed]",
      "text/plain": [
       "<Figure size 1152x360 with 1 Axes>"
      ]
     },
     "metadata": {
      "needs_background": "light"
     },
     "output_type": "display_data"
    }
   ],
   "source": [
    "fig, axes = plt.subplots(nrows=1, ncols=1, sharex=True, sharey=True); fig.set_size_inches(16,5)\n",
    "gardenbio_nbreviews_pd.hist(log=True, bins = 100, color=\"skyblue\", cumulative=-1, ax=axes)\n",
    "axes.set_xlabel(\"Nb of reviews/ Product\")\n",
    "axes.set_ylabel(\"Frequency\")\n",
    "axes.set_title(\"Nb of reviews/ Product Distribution Associated to Ecology/Bio etc..\")\n",
    "plt.show()"
   ]
  },
  {
   "cell_type": "code",
   "execution_count": 41,
   "metadata": {},
   "outputs": [],
   "source": [
    "gardenall_nbrev_perproduct=  patiolawn_garden_reviews.rdd.map(lambda r: [r[0],1]) \\\n",
    "            .reduceByKey(lambda a,b: a+b)"
   ]
  },
  {
   "cell_type": "code",
   "execution_count": 42,
   "metadata": {},
   "outputs": [],
   "source": [
    "gardenall_nbreviews_DF = spark.createDataFrame(gardenall_nbrev_perproduct, ['productID','freq'])"
   ]
  },
  {
   "cell_type": "code",
   "execution_count": 43,
   "metadata": {},
   "outputs": [],
   "source": [
    "gardenall_nbreviews_pd = gardenall_nbreviews_DF.toPandas()"
   ]
  },
  {
   "cell_type": "code",
   "execution_count": 44,
   "metadata": {
    "scrolled": true
   },
   "outputs": [
    {
     "data": {
      "image/png": "[encoded data removed]",
      "text/plain": [
       "<Figure size 1152x360 with 1 Axes>"
      ]
     },
     "metadata": {
      "needs_background": "light"
     },
     "output_type": "display_data"
    }
   ],
   "source": [
    "fig, axes = plt.subplots(nrows=1, ncols=1, sharex=True, sharey=True); fig.set_size_inches(16,5)\n",
    "gardenall_nbreviews_pd.hist(log=True, bins = 100, color=\"skyblue\", cumulative=-1, ax=axes)\n",
    "axes.set_xlabel(\"Nb of reviews/ Product\")\n",
    "axes.set_ylabel(\"Frequency\")\n",
    "axes.set_title(\"Nb of reviews/ Product Distribution For all Products from Garden\")\n",
    "plt.show()"
   ]
  },
  {
   "cell_type": "markdown",
   "metadata": {},
   "source": [
    "<br>\n",
    "\n",
    "**Books**"
   ]
  },
  {
   "cell_type": "code",
   "execution_count": null,
   "metadata": {},
   "outputs": [],
   "source": [
    "booksbio_nbrev_perproduct=  books_review_product_join.rdd.map(lambda r: [r[0],1]) \\\n",
    "            .reduceByKey(lambda a,b: a+b)"
   ]
  },
  {
   "cell_type": "code",
   "execution_count": null,
   "metadata": {},
   "outputs": [],
   "source": [
    "booksbio_nbreviews_DF = spark.createDataFrame(booksbio_nbrev_perproduct, ['productID','freq'])"
   ]
  },
  {
   "cell_type": "code",
   "execution_count": null,
   "metadata": {},
   "outputs": [],
   "source": [
    "booksbio_nbreviews_Pandas = booksbio_nbreviews_DF.toPandas()"
   ]
  },
  {
   "cell_type": "code",
   "execution_count": null,
   "metadata": {
    "scrolled": true
   },
   "outputs": [],
   "source": [
    "fig, axes = plt.subplots(nrows=1, ncols=1, sharex=True, sharey=True); fig.set_size_inches(16,5)\n",
    "booksbio_nbreviews_Pandas.hist(log=True, bins = 100, color=\"skyblue\", cumulative=-1, ax=axes)\n",
    "axes.set_xlabel(\"Nb of reviews/ Product\")\n",
    "axes.set_ylabel(\"Frequency\")\n",
    "axes.set_title(\"Nb of reviews/ Product Distribution Associated to Ecology/Bio etc..\")\n",
    "plt.show()"
   ]
  },
  {
   "cell_type": "markdown",
   "metadata": {},
   "source": [
    "**Home and Kitchen**"
   ]
  },
  {
   "cell_type": "code",
   "execution_count": 45,
   "metadata": {},
   "outputs": [],
   "source": [
    "homebio_nbrev_perproduct = home_review_product_join.rdd.map(lambda r: [r[0],1]) \\\n",
    "            .reduceByKey(lambda a,b: a+b)"
   ]
  },
  {
   "cell_type": "code",
   "execution_count": 46,
   "metadata": {},
   "outputs": [],
   "source": [
    "homebio_nbreviews_DF = spark.createDataFrame(homebio_nbrev_perproduct, ['productID','freq'])"
   ]
  },
  {
   "cell_type": "code",
   "execution_count": 47,
   "metadata": {},
   "outputs": [],
   "source": [
    "homebio_nbreviews_Pandas = homebio_nbreviews_DF.toPandas()"
   ]
  },
  {
   "cell_type": "code",
   "execution_count": 48,
   "metadata": {},
   "outputs": [
    {
     "data": {
      "image/png": "[encoded data removed]",
      "text/plain": [
       "<Figure size 1152x360 with 1 Axes>"
      ]
     },
     "metadata": {
      "needs_background": "light"
     },
     "output_type": "display_data"
    }
   ],
   "source": [
    "fig, axes = plt.subplots(nrows=1, ncols=1, sharex=True, sharey=True); fig.set_size_inches(16,5)\n",
    "homebio_nbreviews_Pandas.hist(log=True, bins = 100, color=\"skyblue\", cumulative=-1, ax=axes)\n",
    "axes.set_xlabel(\"Nb of reviews/ Product\")\n",
    "axes.set_ylabel(\"Frequency\")\n",
    "axes.set_title(\"Nb of reviews/ Product Distribution Associated to Ecology/Bio etc..\")\n",
    "plt.show()"
   ]
  },
  {
   "cell_type": "markdown",
   "metadata": {},
   "source": [
    "<br>\n",
    "\n",
    "####  **4) Price average per year**\n",
    "\n",
    "\n",
    "Eco-friendly products can be more expensive due to some high cost production (such as bio product for example). So as we did before, we are going to analyse what we can extract from that. \n",
    "\n",
    "As we did in the second section, we compute for each item its released year in a new dataframe. Then when the price of the item if definine, we add it to the dataframe for each item’s id.\n",
    "And finally we count the mean of the prices for every year. Sometimes it can happend that some years do not have prices (either the price was set to null or there were no items). So we ad dit by a 0 price. \n",
    "As we said, eco-product is not a very old concept in our society and might not be present at the beginning of the sales or described as eco-product. \n",
    "\n",
    "What we expect : by the time goes, the importance and price of product over the time.\n"
   ]
  },
  {
   "cell_type": "markdown",
   "metadata": {},
   "source": [
    "**1) Grocery Food**"
   ]
  },
  {
   "cell_type": "code",
   "execution_count": 49,
   "metadata": {},
   "outputs": [],
   "source": [
    "grocery_products_bio_df = spark.createDataFrame(grocery_filter_products_bio)\n",
    "\n",
    "grocery_year_join = grocery_products_bio_df.join(grocerybio_firstrev, ['asin'])\n",
    "grocery_year_join_pd = grocery_year_join.toPandas()\n",
    "\n",
    "grocery_year_join_pd['Year'] = pd.to_datetime(grocery_year_join_pd['min(unixReviewTime)'],unit='s').map(lambda x: x.year)\n",
    "grocery_year_join_pd = grocery_year_join_pd[np.isfinite(grocery_year_join_pd['price'])]\n",
    "\n",
    "grocery_year_join_pd = grocery_year_join_pd[['price', 'Year']]\n",
    "\n",
    "grocery_year_join_pd_mean = grocery_year_join_pd.groupby(['Year']).mean()\n",
    "grocery_year_join_nb_products,_ = np.histogram(grocery_year_join_pd['Year'], bins=len(grocery_year_join_pd_mean))\n",
    "grocery_year_join_pd_mean.columns = ['price : Bio products']\n",
    "\n",
    "grocery_year_join_pd_error = grocery_year_join_pd.groupby(['Year']).std()\n",
    "for i in range(len(grocery_year_join_pd_mean)):\n",
    "    grocery_year_join_pd_error.iloc[i] = grocery_year_join_pd_error.iloc[i]/grocery_year_join_nb_products[i]\n"
   ]
  },
  {
   "cell_type": "code",
   "execution_count": 50,
   "metadata": {},
   "outputs": [],
   "source": [
    "grocery_year_join_pd_mean.loc[2000] = 0\n",
    "grocery_year_join_pd_mean.loc[2002] = 0\n",
    "grocery_year_join_pd_mean.loc[2003] = 0\n",
    "grocery_year_join_pd_mean = grocery_year_join_pd_mean.sort_index()"
   ]
  },
  {
   "cell_type": "code",
   "execution_count": 51,
   "metadata": {},
   "outputs": [],
   "source": [
    "# Mean of price per year of all products from Patio lawn and Garden\n",
    "grocery_all_year_join = grocery_food_datacleaned.join(groceryall_firstrev, ['asin'])\n",
    "grocery_all_year_join_pd = grocery_all_year_join.toPandas()\n",
    "\n",
    "grocery_all_year_join_pd['Year'] = pd.to_datetime(grocery_all_year_join_pd['min(unixReviewTime)'],unit='s').map(lambda x: x.year)\n",
    "\n",
    "grocery_all_year_join_pd = grocery_all_year_join_pd[np.isfinite(grocery_all_year_join_pd['price'])]\n",
    "grocery_all_year_join_pd = grocery_all_year_join_pd[['price', 'Year']]\n",
    "\n",
    "grocery_all_year_join_pd = grocery_all_year_join_pd.groupby(['Year']).mean()\n",
    "\n",
    "grocery_all_year_join_pd.columns =['price : all products']"
   ]
  },
  {
   "cell_type": "code",
   "execution_count": 52,
   "metadata": {},
   "outputs": [
    {
     "data": {
      "text/plain": [
       "Text(0.5,1,'Grocery : Mean price of products per year $')"
      ]
     },
     "execution_count": 52,
     "metadata": {},
     "output_type": "execute_result"
    },
    {
     "data": {
      "image/png": "[encoded data removed]",
      "text/plain": [
       "<Figure size 1152x360 with 1 Axes>"
      ]
     },
     "metadata": {
      "needs_background": "light"
     },
     "output_type": "display_data"
    }
   ],
   "source": [
    "fig, axes = plt.subplots(1,1); fig.set_size_inches(16,5)\n",
    "\n",
    "ax = grocery_year_join_pd_mean.plot(kind='bar', color='forestgreen', ax = axes, yerr=grocery_year_join_pd_error['price'])\n",
    "grocery_all_year_join_pd.plot(kind='bar', alpha=0.7, color='maroon', ax =ax)\n",
    "plt.title('Grocery : Mean price of products per year $')"
   ]
  },
  {
   "cell_type": "markdown",
   "metadata": {},
   "source": [
    "**2) Healthcare**"
   ]
  },
  {
   "cell_type": "code",
   "execution_count": 53,
   "metadata": {},
   "outputs": [],
   "source": [
    "healthcare_products_bio_df = spark.createDataFrame(healthcare_filter_products_bio)\n",
    "\n",
    "healthcarebio_year_join = healthcare_products_bio_df.join(healthcarebio_firstrev, ['asin'])\n",
    "healthcarebio_year_join_pd = healthcarebio_year_join.toPandas()\n",
    "\n",
    "healthcarebio_year_join_pd['Year'] = pd.to_datetime(healthcarebio_year_join_pd['min(unixReviewTime)'],unit='s').map(lambda x: x.year)\n",
    "healthcarebio_year_join_pd = healthcarebio_year_join_pd[np.isfinite(healthcarebio_year_join_pd['price'])]\n",
    "\n",
    "healthcarebio_year_join_pd = healthcarebio_year_join_pd[['price', 'Year']]\n",
    "\n",
    "healthcarebio_year_join_pd_mean = healthcarebio_year_join_pd.groupby(['Year']).mean()\n",
    "healthcarebio_year_join_nb_products,_ = np.histogram(healthcarebio_year_join_pd['Year'], bins=len(healthcarebio_year_join_pd_mean))\n",
    "\n",
    "healthcarebio_year_join_pd_mean.columns = ['price : Bio products']\n",
    "\n",
    "\n",
    "healthcarebio_year_join_pd_error = healthcarebio_year_join_pd.groupby(['Year']).std()\n",
    "for i in range(len(healthcarebio_year_join_pd_mean)):\n",
    "    healthcarebio_year_join_pd_error.iloc[i] = healthcarebio_year_join_pd_error.iloc[i]/healthcarebio_year_join_nb_products[i]\n"
   ]
  },
  {
   "cell_type": "code",
   "execution_count": 54,
   "metadata": {},
   "outputs": [],
   "source": [
    "healthcarebio_year_join_pd_mean.loc[1998] = 0\n",
    "healthcarebio_year_join_pd_mean.loc[1999] = 0\n",
    "healthcarebio_year_join_pd_mean.loc[2000] = 0\n",
    "healthcarebio_year_join_pd_mean.loc[2001] = 0\n",
    "healthcarebio_year_join_pd_mean.loc[2002] = 0\n",
    "healthcarebio_year_join_pd_mean = healthcarebio_year_join_pd_mean.sort_index()"
   ]
  },
  {
   "cell_type": "code",
   "execution_count": 55,
   "metadata": {},
   "outputs": [],
   "source": [
    "# Mean of price per year of all products from Patio lawn and Garden\n",
    "healthcare_all_year_join = healthcare_datacleaned.join(healthcareall_firstrev, ['asin'])\n",
    "healthcare_all_year_join_pd = healthcare_all_year_join.toPandas()\n",
    "\n",
    "healthcare_all_year_join_pd['Year'] = pd.to_datetime(healthcare_all_year_join_pd['min(unixReviewTime)'],unit='s').map(lambda x: x.year)\n",
    "\n",
    "healthcare_all_year_join_pd = healthcare_all_year_join_pd[np.isfinite(healthcare_all_year_join_pd['price'])]\n",
    "healthcare_all_year_join_pd = healthcare_all_year_join_pd[['price', 'Year']]\n",
    "\n",
    "healthcare_all_year_join_pd = healthcare_all_year_join_pd.groupby(['Year']).mean()\n",
    "\n",
    "healthcare_all_year_join_pd.columns =['price : all products']"
   ]
  },
  {
   "cell_type": "code",
   "execution_count": 56,
   "metadata": {},
   "outputs": [
    {
     "data": {
      "text/plain": [
       "Text(0.5,1,'Healthcare : Mean price of products per year $')"
      ]
     },
     "execution_count": 56,
     "metadata": {},
     "output_type": "execute_result"
    },
    {
     "data": {
      "image/png": "[encoded data removed]",
      "text/plain": [
       "<Figure size 1152x360 with 1 Axes>"
      ]
     },
     "metadata": {
      "needs_background": "light"
     },
     "output_type": "display_data"
    }
   ],
   "source": [
    "fig, axes = plt.subplots(1,1); fig.set_size_inches(16,5)\n",
    "\n",
    "ax = healthcarebio_year_join_pd_mean.plot(kind='bar', color='forestgreen', ax = axes, yerr=healthcarebio_year_join_pd_error['price'])\n",
    "healthcare_all_year_join_pd.plot(kind='bar', ax = ax, alpha=0.7, color='maroon')\n",
    "plt.title('Healthcare : Mean price of products per year $')"
   ]
  },
  {
   "cell_type": "markdown",
   "metadata": {},
   "source": [
    "**3) Patio Lawn Garden**"
   ]
  },
  {
   "cell_type": "code",
   "execution_count": 57,
   "metadata": {},
   "outputs": [],
   "source": [
    "DF_filter_products_bio = spark.createDataFrame(patiolawn_garden_filter_products_bio)\n",
    "\n",
    "garden_year_join = DF_filter_products_bio.join(gardenbio_firstrev, ['asin'])\n",
    "garden_year_join_pd = garden_year_join.toPandas()\n",
    "\n",
    "garden_year_join_pd['Year'] = pd.to_datetime(garden_year_join_pd['min(unixReviewTime)'],unit='s').map(lambda x: x.year)\n",
    "garden_year_join_pd = garden_year_join_pd[np.isfinite(garden_year_join_pd['price'])]\n",
    "\n",
    "garden_year_join_pd = garden_year_join_pd[['price', 'Year']]\n",
    "\n",
    "garden_year_join_pd_mean = garden_year_join_pd.groupby(['Year']).mean()\n",
    "garden_year_join_pd_nb_products,_ = np.histogram(garden_year_join_pd['Year'], bins=len(garden_year_join_pd_mean))\n",
    "\n",
    "garden_year_join_pd_mean.columns = ['price : Bio products']\n",
    "\n",
    "garden_year_join_pd_error = garden_year_join_pd.groupby(['Year']).std()\n",
    "for i in range(len(garden_year_join_pd_error)):\n",
    "    garden_year_join_pd_error.iloc[i] = garden_year_join_pd_error.iloc[i]/garden_year_join_pd_nb_products[i]\n"
   ]
  },
  {
   "cell_type": "code",
   "execution_count": 58,
   "metadata": {},
   "outputs": [],
   "source": [
    "# Mean of price per year of all products from Patio lawn and Garden\n",
    "garden_all_year_join = patiolawn_garden_datacleaned.join(gardeneall_firstrev, ['asin'])\n",
    "garden_all_year_join_pd = garden_all_year_join.toPandas()\n",
    "\n",
    "garden_all_year_join_pd['Year'] = pd.to_datetime(garden_all_year_join_pd['min(unixReviewTime)'],unit='s').map(lambda x: x.year)\n",
    "\n",
    "garden_all_year_join_pd = garden_all_year_join_pd[np.isfinite(garden_all_year_join_pd['price'])]\n",
    "garden_all_year_join_pd = garden_all_year_join_pd[['price', 'Year']]\n",
    "\n",
    "garden_all_year_join_pd = garden_all_year_join_pd.groupby(['Year']).mean()\n",
    "\n",
    "garden_all_year_join_pd.columns =['price : all products']"
   ]
  },
  {
   "cell_type": "code",
   "execution_count": 59,
   "metadata": {},
   "outputs": [],
   "source": [
    "garden_year_join_pd_mean.loc[1998] = 0\n",
    "garden_year_join_pd_mean.loc[1999] = 0\n",
    "garden_year_join_pd_mean = garden_year_join_pd_mean.sort_index()"
   ]
  },
  {
   "cell_type": "code",
   "execution_count": 60,
   "metadata": {
    "scrolled": false
   },
   "outputs": [
    {
     "data": {
      "text/plain": [
       "Text(0.5,1,'Patio Lawn - Garden : Mean price of products per year $')"
      ]
     },
     "execution_count": 60,
     "metadata": {},
     "output_type": "execute_result"
    },
    {
     "data": {
      "image/png": "[encoded data removed]",
      "text/plain": [
       "<Figure size 1152x360 with 1 Axes>"
      ]
     },
     "metadata": {
      "needs_background": "light"
     },
     "output_type": "display_data"
    }
   ],
   "source": [
    "fig, axes = plt.subplots(1,1); fig.set_size_inches(16,5)\n",
    "\n",
    "ax = garden_year_join_pd_mean.plot(kind='bar', color='forestgreen', ax = axes, yerr=garden_year_join_pd_error['price'])\n",
    "garden_all_year_join_pd.plot(kind='bar', ax = ax, alpha=0.7, color='maroon')\n",
    "plt.title('Patio Lawn - Garden : Mean price of products per year $')"
   ]
  },
  {
   "cell_type": "markdown",
   "metadata": {},
   "source": [
    "**4) Home and Kitchen**"
   ]
  },
  {
   "cell_type": "code",
   "execution_count": 61,
   "metadata": {},
   "outputs": [],
   "source": [
    "home_filter_products_bio = spark.createDataFrame(home_filter_eco)\n",
    "\n",
    "home_year_join = home_filter_products_bio.join(homeall_firstrev, ['asin'])\n",
    "home_year_join_pd = home_year_join.toPandas()\n",
    "\n",
    "home_year_join_pd['Year'] = pd.to_datetime(home_year_join_pd['min(unixReviewTime)'],unit='s').map(lambda x: x.year)\n",
    "home_year_join_pd = home_year_join_pd[np.isfinite(home_year_join_pd['price'])]\n",
    "\n",
    "home_year_join_pd = home_year_join_pd[['price', 'Year']]\n",
    "\n",
    "home_year_join_pd_mean = home_year_join_pd.groupby(['Year']).mean()\n",
    "home_year_join_pd_nb_products,_ = np.histogram(home_year_join_pd['Year'], bins=len(home_year_join_pd_mean))\n",
    "\n",
    "home_year_join_pd_mean.columns = ['price : Bio products']\n",
    "\n",
    "home_year_join_pd_error = home_year_join_pd.groupby(['Year']).std()\n",
    "for i in range(len(home_year_join_pd_error)):\n",
    "    home_year_join_pd_error.iloc[i] = home_year_join_pd_error.iloc[i]/home_year_join_pd_nb_products[i]\n"
   ]
  },
  {
   "cell_type": "code",
   "execution_count": 62,
   "metadata": {},
   "outputs": [],
   "source": [
    "# Mean of price per year of all products from Patio lawn and Garden\n",
    "home_all_year_join = home_datacleaned.join(homeall_firstrev, ['asin'])\n",
    "home_all_year_join_pd = home_all_year_join.toPandas()\n",
    "\n",
    "home_all_year_join_pd['Year'] = pd.to_datetime(home_all_year_join_pd['min(unixReviewTime)'],unit='s').map(lambda x: x.year)\n",
    "\n",
    "home_all_year_join_pd = home_all_year_join_pd[np.isfinite(home_all_year_join_pd['price'])]\n",
    "home_all_year_join_pd = home_all_year_join_pd[['price', 'Year']]\n",
    "\n",
    "home_all_year_join_pd = home_all_year_join_pd.groupby(['Year']).mean()\n",
    "\n",
    "home_all_year_join_pd.columns =['price : all products']"
   ]
  },
  {
   "cell_type": "code",
   "execution_count": 63,
   "metadata": {},
   "outputs": [],
   "source": [
    "home_year_join_pd_mean.loc[2000] = 0\n",
    "home_year_join_pd_mean = home_year_join_pd_mean.sort_index()"
   ]
  },
  {
   "cell_type": "code",
   "execution_count": 64,
   "metadata": {},
   "outputs": [
    {
     "data": {
      "text/plain": [
       "Text(0.5,1,'Home and Kitchen : Mean price of products per year $')"
      ]
     },
     "execution_count": 64,
     "metadata": {},
     "output_type": "execute_result"
    },
    {
     "data": {
      "image/png": "[encoded data removed]",
      "text/plain": [
       "<Figure size 1152x360 with 1 Axes>"
      ]
     },
     "metadata": {
      "needs_background": "light"
     },
     "output_type": "display_data"
    }
   ],
   "source": [
    "fig, axes = plt.subplots(1,1); fig.set_size_inches(16,5)\n",
    "\n",
    "ax = home_year_join_pd_mean.plot(kind='bar', color='forestgreen', ax = axes, yerr=home_year_join_pd_error['price'])\n",
    "home_all_year_join_pd.plot(kind='bar' , ax = ax,alpha=0.7, color='maroon')\n",
    "plt.title('Home and Kitchen : Mean price of products per year $')"
   ]
  },
  {
   "cell_type": "markdown",
   "metadata": {},
   "source": [
    "We can see in these graph above that the ecofriendy products are in average more expensive than the global products for each category. However we can not observe a growing trend in the price for these products. \n",
    "\n",
    "This field came in the market a bit late. We can see that the first years the ecofriendly products were really expensive."
   ]
  },
  {
   "cell_type": "markdown",
   "metadata": {},
   "source": [
    "__Global Price Information per Category__"
   ]
  },
  {
   "cell_type": "code",
   "execution_count": 65,
   "metadata": {},
   "outputs": [],
   "source": [
    "def price_difference_percentage(ecofriendly_series, all_series):\n",
    "    difference = ecofriendly_series.divide(all_series)*100\n",
    "    difference = difference.iloc[difference.nonzero()]\n",
    "    difference = difference.mean()-100\n",
    "    \n",
    "    return difference"
   ]
  },
  {
   "cell_type": "code",
   "execution_count": 66,
   "metadata": {},
   "outputs": [],
   "source": [
    "def price_difference_dollars(ecofriendly_series, all_series):\n",
    "    difference = ecofriendly_series.sub(all_series)\n",
    "    difference = difference.iloc[ecofriendly_series.nonzero()]\n",
    "    difference = difference.mean()\n",
    "    \n",
    "    return difference"
   ]
  },
  {
   "cell_type": "code",
   "execution_count": 67,
   "metadata": {},
   "outputs": [],
   "source": [
    "home_difference_perc = price_difference_percentage(home_year_join_pd_mean['price : Bio products'], \\\n",
    "                                                   home_all_year_join_pd['price : all products'])\n",
    "\n",
    "grocery_difference_perc = price_difference_percentage(grocery_year_join_pd_mean['price : Bio products'], \\\n",
    "                                                      grocery_all_year_join_pd['price : all products'])\n",
    "\n",
    "healthcare_difference_perc = price_difference_percentage(healthcarebio_year_join_pd_mean['price : Bio products'], \\\n",
    "                                                         healthcare_all_year_join_pd['price : all products'])\n",
    "\n",
    "garden_difference_perc = price_difference_percentage(garden_year_join_pd_mean['price : Bio products'], \\\n",
    "                                                     garden_all_year_join_pd['price : all products'])\n",
    "\n",
    "\n",
    "difference_perc_df = pd.DataFrame([home_difference_perc,grocery_difference_perc,healthcare_difference_perc,garden_difference_perc], \\\n",
    "                                  index=['home','grocery','healthcare','garden'], columns=[\"Difference Percentage %\"])\n"
   ]
  },
  {
   "cell_type": "code",
   "execution_count": 68,
   "metadata": {},
   "outputs": [],
   "source": [
    "home_difference_dollars = price_difference_dollars(home_year_join_pd_mean['price : Bio products'], \\\n",
    "                                                   home_all_year_join_pd['price : all products'])\n",
    "\n",
    "grocery_difference_dollars = price_difference_dollars(grocery_year_join_pd_mean['price : Bio products'], \\\n",
    "                                                      grocery_all_year_join_pd['price : all products'])\n",
    "\n",
    "healthcare_difference_dollars = price_difference_dollars(healthcarebio_year_join_pd_mean['price : Bio products'], \\\n",
    "                                                         healthcare_all_year_join_pd['price : all products'])\n",
    "\n",
    "garden_difference_dollars = price_difference_dollars(garden_year_join_pd_mean['price : Bio products'], \\\n",
    "                                                     garden_all_year_join_pd['price : all products'])\n",
    "\n",
    "difference_dollars_df = pd.DataFrame([home_difference_dollars,grocery_difference_dollars,healthcare_difference_dollars,garden_difference_dollars], \\\n",
    "                                     index=['home','grocery','healthcare','garden'], columns=[\"Diffrence Dollars $\"])"
   ]
  },
  {
   "cell_type": "code",
   "execution_count": 69,
   "metadata": {},
   "outputs": [],
   "source": [
    "homebio_mean_dollars = home_year_join_pd_mean['price : Bio products'].iloc[1:-1].mean()\n",
    "homeall_mean_dollars = home_all_year_join_pd['price : all products'].iloc[1:-1].mean()\n",
    "\n",
    "grocerybio_mean_dollars = grocery_year_join_pd_mean['price : Bio products'].iloc[3:-1].mean()\n",
    "groceryall_mean_dollars = grocery_all_year_join_pd['price : all products'].iloc[3:-1].mean()\n",
    "\n",
    "healthcarebio_mean_dollars = healthcarebio_year_join_pd_mean['price : Bio products'].iloc[5:-1].mean()\n",
    "healthcareall_mean_dollars = healthcare_all_year_join_pd['price : all products'].iloc[5:-1].mean()\n",
    "\n",
    "gardenbio_mean_dollars = garden_year_join_pd_mean['price : Bio products'].iloc[2:-1].mean()\n",
    "gardenall_mean_dollars = garden_all_year_join_pd['price : all products'].iloc[2:-1].mean()\n",
    "\n",
    "mean_price_df = pd.DataFrame([[homebio_mean_dollars,homeall_mean_dollars],\\\n",
    "                             [grocerybio_mean_dollars,groceryall_mean_dollars],\\\n",
    "                             [healthcarebio_mean_dollars,healthcareall_mean_dollars],\\\n",
    "                             [gardenbio_mean_dollars,gardenall_mean_dollars]],\\\n",
    "                             index=['home','grocery','healthcare','garden'], columns=[\"Ecofriendly Mean_Price\",\"All Mean_Price\"])\n"
   ]
  },
  {
   "cell_type": "code",
   "execution_count": 70,
   "metadata": {},
   "outputs": [
    {
     "data": {
      "text/plain": [
       "Text(0.5,1,'Average Price ($) per Category')"
      ]
     },
     "execution_count": 70,
     "metadata": {},
     "output_type": "execute_result"
    },
    {
     "data": {
      "image/png": "[encoded data removed]",
      "text/plain": [
       "<Figure size 1152x360 with 1 Axes>"
      ]
     },
     "metadata": {
      "needs_background": "light"
     },
     "output_type": "display_data"
    }
   ],
   "source": [
    "fig, axes = plt.subplots(1,1); fig.set_size_inches(16,5)\n",
    "\n",
    "mycolor = ['forestgreen','saddlebrown']\n",
    "mean_price_df.plot(kind='bar', ax=axes, color=mycolor,edgecolor='sienna')\n",
    "plt.ylabel(\"Mean Price $\")\n",
    "plt.title(\"Average Price ($) per Category\")"
   ]
  },
  {
   "cell_type": "code",
   "execution_count": 71,
   "metadata": {
    "scrolled": false
   },
   "outputs": [
    {
     "data": {
      "text/plain": [
       "Text(0.5,1,'Mean Price Difference ($) between Ecofriendly products VS All products')"
      ]
     },
     "execution_count": 71,
     "metadata": {},
     "output_type": "execute_result"
    },
    {
     "data": {
      "image/png": "[encoded data removed]",
      "text/plain": [
       "<Figure size 1152x360 with 2 Axes>"
      ]
     },
     "metadata": {
      "needs_background": "light"
     },
     "output_type": "display_data"
    }
   ],
   "source": [
    "fig, axes = plt.subplots(1,2); fig.set_size_inches(16,5)\n",
    "\n",
    "\n",
    "ax1 = sns.barplot(x=difference_perc_df.index,y=difference_perc_df['Difference Percentage %'], ax=axes[0])\n",
    "ax1.set_title(\"Mean Price Difference (%) between Ecofriendly products VS All products\")\n",
    "ax2 = sns.barplot(x=difference_dollars_df.index,y=difference_dollars_df['Diffrence Dollars $'], ax=axes[1])\n",
    "ax2.set_title(\"Mean Price Difference ($) between Ecofriendly products VS All products\")"
   ]
  },
  {
   "cell_type": "markdown",
   "metadata": {},
   "source": [
    "### Overall rating per Category"
   ]
  },
  {
   "cell_type": "markdown",
   "metadata": {},
   "source": [
    "**1) Grocery Food**"
   ]
  },
  {
   "cell_type": "code",
   "execution_count": 72,
   "metadata": {},
   "outputs": [],
   "source": [
    "grocerybio_overall =  grocery_food_review_product_join.rdd.map(lambda r: [r[8],1]) \\\n",
    "            .reduceByKey(lambda a,b: a+b)"
   ]
  },
  {
   "cell_type": "code",
   "execution_count": 73,
   "metadata": {},
   "outputs": [],
   "source": [
    "grocerybio_overall_DF = spark.createDataFrame(grocerybio_overall)\n",
    "\n",
    "grocerybio_overall_pd = grocerybio_overall_DF.toPandas()\n",
    "grocerybio_overall_pd.columns= ['overall','occurences']\n",
    "grocerybio_overall_pd = grocerybio_overall_pd.set_index('overall')\n",
    "\n",
    "grocerybio_sum_ratings = grocerybio_overall_pd['occurences'].sum()\n",
    "grocerybio_percentage = grocerybio_overall_pd['occurences'].divide(grocerybio_sum_ratings)"
   ]
  },
  {
   "cell_type": "code",
   "execution_count": 74,
   "metadata": {},
   "outputs": [],
   "source": [
    "groceryall_overall =  grocery_food_reviews.rdd.map(lambda r: [r[2],1]) \\\n",
    "            .reduceByKey(lambda a,b: a+b)"
   ]
  },
  {
   "cell_type": "code",
   "execution_count": 75,
   "metadata": {},
   "outputs": [],
   "source": [
    "groceryall_overall_df = spark.createDataFrame(groceryall_overall)\n",
    "\n",
    "groceryall_overall_pd = groceryall_overall_df.toPandas()\n",
    "groceryall_overall_pd.columns= ['overall','occurences']\n",
    "groceryall_overall_pd = groceryall_overall_pd.set_index('overall')\n",
    "\n",
    "groceryall_sum_ratings = groceryall_overall_pd['occurences'].sum()\n",
    "groceryall_percentage = groceryall_overall_pd['occurences'].divide(groceryall_sum_ratings)"
   ]
  },
  {
   "cell_type": "code",
   "execution_count": 76,
   "metadata": {},
   "outputs": [],
   "source": [
    "grocery_rating_proportion = pd.DataFrame()\n",
    "grocery_rating_proportion['All Products Proportion'] = groceryall_percentage*100\n",
    "grocery_rating_proportion['Ecofriendly Products Proportion'] = grocerybio_percentage*100"
   ]
  },
  {
   "cell_type": "code",
   "execution_count": 77,
   "metadata": {},
   "outputs": [
    {
     "data": {
      "text/plain": [
       "Text(0,0.5,'Pourcentage (%) of products')"
      ]
     },
     "execution_count": 77,
     "metadata": {},
     "output_type": "execute_result"
    },
    {
     "data": {
      "image/png": "[encoded data removed]",
      "text/plain": [
       "<Figure size 1152x360 with 1 Axes>"
      ]
     },
     "metadata": {
      "needs_background": "light"
     },
     "output_type": "display_data"
    }
   ],
   "source": [
    "fig, axes = plt.subplots(1,1); \n",
    "fig.set_size_inches(16,5)\n",
    "mycolor = ['darkgoldenrod','forestgreen']\n",
    "\n",
    "grocery_rating_proportion.plot(kind='bar', color=mycolor, edgecolor='gold', ax=axes)\n",
    "plt.title(\"Proportion (%) of products with associated rating\")\n",
    "plt.ylabel(\"Pourcentage (%) of products\")"
   ]
  },
  {
   "cell_type": "markdown",
   "metadata": {},
   "source": [
    "**2) Healthcare**"
   ]
  },
  {
   "cell_type": "code",
   "execution_count": 78,
   "metadata": {},
   "outputs": [],
   "source": [
    "healthcarebio_overall =  healthcare_review_product_join.rdd.map(lambda r: [r[8],1]) \\\n",
    "            .reduceByKey(lambda a,b: a+b)"
   ]
  },
  {
   "cell_type": "code",
   "execution_count": 79,
   "metadata": {},
   "outputs": [],
   "source": [
    "healthcarebio_overall_DF = spark.createDataFrame(healthcarebio_overall)\n",
    "\n",
    "healthcarebio_overall_pd = healthcarebio_overall_DF.toPandas()\n",
    "healthcarebio_overall_pd.columns= ['overall','occurences']\n",
    "healthcarebio_overall_pd = healthcarebio_overall_pd.set_index('overall')\n",
    "\n",
    "healthcarebio_sum_ratings = healthcarebio_overall_pd['occurences'].sum()\n",
    "healthcarebio_percentage = healthcarebio_overall_pd['occurences'].divide(healthcarebio_sum_ratings)"
   ]
  },
  {
   "cell_type": "code",
   "execution_count": 80,
   "metadata": {},
   "outputs": [],
   "source": [
    "healthcareall_overall =  healthcare_reviews.rdd.map(lambda r: [r[2],1]) \\\n",
    "            .reduceByKey(lambda a,b: a+b)"
   ]
  },
  {
   "cell_type": "code",
   "execution_count": 81,
   "metadata": {},
   "outputs": [],
   "source": [
    "healthcareall_overall_df = spark.createDataFrame(healthcareall_overall)\n",
    "\n",
    "healthcareall_overall_pd = healthcareall_overall_df.toPandas()\n",
    "healthcareall_overall_pd.columns= ['overall','occurences']\n",
    "healthcareall_overall_pd = healthcareall_overall_pd.set_index('overall')\n",
    "\n",
    "healthcareall_sum_ratings = healthcareall_overall_pd['occurences'].sum()\n",
    "healthcareall_percentage = healthcareall_overall_pd['occurences'].divide(healthcareall_sum_ratings)"
   ]
  },
  {
   "cell_type": "code",
   "execution_count": 82,
   "metadata": {},
   "outputs": [],
   "source": [
    "healthcare_rating_proportion = pd.DataFrame()\n",
    "healthcare_rating_proportion['All Products Proportion'] = healthcareall_percentage*100\n",
    "healthcare_rating_proportion['Ecofriendly Products Proportion'] = healthcarebio_percentage*100"
   ]
  },
  {
   "cell_type": "code",
   "execution_count": 83,
   "metadata": {},
   "outputs": [
    {
     "data": {
      "text/plain": [
       "Text(0,0.5,'Pourcentage (%) of products')"
      ]
     },
     "execution_count": 83,
     "metadata": {},
     "output_type": "execute_result"
    },
    {
     "data": {
      "image/png": "[encoded data removed]",
      "text/plain": [
       "<Figure size 1152x360 with 1 Axes>"
      ]
     },
     "metadata": {
      "needs_background": "light"
     },
     "output_type": "display_data"
    }
   ],
   "source": [
    "fig, axes = plt.subplots(1,1); \n",
    "fig.set_size_inches(16,5)\n",
    "mycolor = ['darkgoldenrod','forestgreen']\n",
    "\n",
    "healthcare_rating_proportion.plot(kind='bar', color=mycolor, edgecolor='gold', ax=axes)\n",
    "plt.title(\"Proportion (%) of products with associated rating\")\n",
    "plt.ylabel(\"Pourcentage (%) of products\")"
   ]
  },
  {
   "cell_type": "markdown",
   "metadata": {},
   "source": [
    "**3) Patio Garden**"
   ]
  },
  {
   "cell_type": "code",
   "execution_count": 84,
   "metadata": {},
   "outputs": [],
   "source": [
    "gardenbio_overall =  patiolawn_garden_review_product_join.rdd.map(lambda r: [r[8],1]) \\\n",
    "            .reduceByKey(lambda a,b: a+b)"
   ]
  },
  {
   "cell_type": "code",
   "execution_count": 85,
   "metadata": {},
   "outputs": [],
   "source": [
    "gardenbio_overall_DF = spark.createDataFrame(gardenbio_overall)\n",
    "\n",
    "gardenbio_overall_pd = gardenbio_overall_DF.toPandas()\n",
    "gardenbio_overall_pd.columns= ['overall','occurences']\n",
    "gardenbio_overall_pd = gardenbio_overall_pd.set_index('overall')\n",
    "\n",
    "gardenbio_sum_ratings = gardenbio_overall_pd['occurences'].sum()\n",
    "gardenbio_percentage = gardenbio_overall_pd['occurences'].divide(gardenbio_sum_ratings)"
   ]
  },
  {
   "cell_type": "code",
   "execution_count": 86,
   "metadata": {},
   "outputs": [],
   "source": [
    "gardenall_overall =  patiolawn_garden_reviews.rdd.map(lambda r: [r[2],1]) \\\n",
    "            .reduceByKey(lambda a,b: a+b)"
   ]
  },
  {
   "cell_type": "code",
   "execution_count": 87,
   "metadata": {},
   "outputs": [],
   "source": [
    "gardenall_overall_df = spark.createDataFrame(gardenall_overall)\n",
    "\n",
    "gardenall_overall_pd = gardenall_overall_df.toPandas()\n",
    "gardenall_overall_pd.columns= ['overall','occurences']\n",
    "gardenall_overall_pd = gardenall_overall_pd.set_index('overall')\n",
    "\n",
    "gardenall_sum_ratings = gardenall_overall_pd['occurences'].sum()\n",
    "gardenall_percentage = gardenall_overall_pd['occurences'].divide(gardenall_sum_ratings)"
   ]
  },
  {
   "cell_type": "code",
   "execution_count": 88,
   "metadata": {},
   "outputs": [],
   "source": [
    "garden_rating_proportion = pd.DataFrame()\n",
    "garden_rating_proportion['All Products Proportion'] = gardenall_percentage*100\n",
    "garden_rating_proportion['Ecofriendly Products Proportion'] = gardenbio_percentage*100"
   ]
  },
  {
   "cell_type": "code",
   "execution_count": 89,
   "metadata": {},
   "outputs": [
    {
     "data": {
      "text/plain": [
       "Text(0,0.5,'Pourcentage (%) of products')"
      ]
     },
     "execution_count": 89,
     "metadata": {},
     "output_type": "execute_result"
    },
    {
     "data": {
      "image/png": "[encoded data removed]",
      "text/plain": [
       "<Figure size 1152x360 with 1 Axes>"
      ]
     },
     "metadata": {
      "needs_background": "light"
     },
     "output_type": "display_data"
    }
   ],
   "source": [
    "fig, axes = plt.subplots(1,1); \n",
    "fig.set_size_inches(16,5)\n",
    "mycolor = ['darkgoldenrod','forestgreen']\n",
    "\n",
    "garden_rating_proportion.plot(kind='bar', color=mycolor, edgecolor='gold', ax=axes)\n",
    "plt.title(\"Proportion (%) of products with associated rating\")\n",
    "plt.ylabel(\"Pourcentage (%) of products\")"
   ]
  },
  {
   "cell_type": "markdown",
   "metadata": {},
   "source": [
    "**4) Home Kitchen**"
   ]
  },
  {
   "cell_type": "code",
   "execution_count": 90,
   "metadata": {},
   "outputs": [],
   "source": [
    "homebio_overall =  home_review_product_join.rdd.map(lambda r: [r[8],1]) \\\n",
    "            .reduceByKey(lambda a,b: a+b)"
   ]
  },
  {
   "cell_type": "code",
   "execution_count": 91,
   "metadata": {},
   "outputs": [],
   "source": [
    "homebio_overall_DF = spark.createDataFrame(homebio_overall)\n",
    "\n",
    "homebio_overall_pd = homebio_overall_DF.toPandas()\n",
    "homebio_overall_pd.columns= ['overall','occurences']\n",
    "homebio_overall_pd = homebio_overall_pd.set_index('overall')\n",
    "\n",
    "homebio_sum_ratings = homebio_overall_pd['occurences'].sum()\n",
    "homebio_percentage = homebio_overall_pd['occurences'].divide(homebio_sum_ratings)"
   ]
  },
  {
   "cell_type": "code",
   "execution_count": 92,
   "metadata": {},
   "outputs": [],
   "source": [
    "homeall_overall =  home_reviews.rdd.map(lambda r: [r[2],1]) \\\n",
    "            .reduceByKey(lambda a,b: a+b)"
   ]
  },
  {
   "cell_type": "code",
   "execution_count": 93,
   "metadata": {},
   "outputs": [],
   "source": [
    "homeall_overall_df = spark.createDataFrame(homeall_overall)\n",
    "\n",
    "homeall_overall_pd = homeall_overall_df.toPandas()\n",
    "homeall_overall_pd.columns= ['overall','occurences']\n",
    "homeall_overall_pd = homeall_overall_pd.set_index('overall')\n",
    "\n",
    "homeall_sum_ratings = homeall_overall_pd['occurences'].sum()\n",
    "homeall_percentage = homeall_overall_pd['occurences'].divide(homeall_sum_ratings)"
   ]
  },
  {
   "cell_type": "code",
   "execution_count": 94,
   "metadata": {},
   "outputs": [],
   "source": [
    "home_rating_proportion = pd.DataFrame()\n",
    "home_rating_proportion['All Products Proportion'] = homeall_percentage*100\n",
    "home_rating_proportion['Ecofriendly Products Proportion'] = homebio_percentage*100"
   ]
  },
  {
   "cell_type": "code",
   "execution_count": 95,
   "metadata": {
    "scrolled": false
   },
   "outputs": [
    {
     "data": {
      "text/plain": [
       "Text(0,0.5,'Pourcentage (%) of products')"
      ]
     },
     "execution_count": 95,
     "metadata": {},
     "output_type": "execute_result"
    },
    {
     "data": {
      "image/png": "[encoded data removed]",
      "text/plain": [
       "<Figure size 1152x360 with 1 Axes>"
      ]
     },
     "metadata": {
      "needs_background": "light"
     },
     "output_type": "display_data"
    }
   ],
   "source": [
    "fig, axes = plt.subplots(1,1)\n",
    "fig.set_size_inches(16,5)\n",
    "mycolor = ['darkgoldenrod','forestgreen']\n",
    "\n",
    "home_rating_proportion.plot(kind='bar', color=mycolor, edgecolor='gold', ax=axes)\n",
    "plt.title(\"Proportion (%) of products with associated rating\")\n",
    "plt.ylabel(\"Pourcentage (%) of products\")"
   ]
  },
  {
   "cell_type": "markdown",
   "metadata": {},
   "source": [
    "__Global Overall Rating Comparison__"
   ]
  },
  {
   "cell_type": "code",
   "execution_count": 96,
   "metadata": {},
   "outputs": [],
   "source": [
    "grocerybio_mean_rating = grocery_rating_proportion[\"Ecofriendly Products Proportion\"].multiply(grocery_rating_proportion.index).sum()/100\n",
    "groceryall_mean_rating = grocery_rating_proportion[\"All Products Proportion\"].multiply(grocery_rating_proportion.index).sum()/100\n",
    "\n",
    "healthcarebio_mean_rating= healthcare_rating_proportion[\"Ecofriendly Products Proportion\"].multiply(grocery_rating_proportion.index).sum()/100\n",
    "healthcareall_mean_rating = healthcare_rating_proportion[\"All Products Proportion\"].multiply(grocery_rating_proportion.index).sum()/100\n",
    "\n",
    "gardenbio_mean_rating = garden_rating_proportion[\"Ecofriendly Products Proportion\"].multiply(grocery_rating_proportion.index).sum()/100\n",
    "gardenall_mean_rating = garden_rating_proportion[\"All Products Proportion\"].multiply(grocery_rating_proportion.index).sum()/100\n",
    "\n",
    "homebio_mean_rating = home_rating_proportion[\"Ecofriendly Products Proportion\"].multiply(grocery_rating_proportion.index).sum()/100\n",
    "homeall_mean_rating = home_rating_proportion[\"All Products Proportion\"].multiply(grocery_rating_proportion.index).sum()/100\n"
   ]
  },
  {
   "cell_type": "code",
   "execution_count": 97,
   "metadata": {
    "scrolled": true
   },
   "outputs": [],
   "source": [
    "mean_rating = pd.DataFrame(index=['grocery','healthcare','garden','home'])\n",
    "mean_rating['Mean Bio Rating'] = [grocerybio_mean_rating,healthcarebio_mean_rating,gardenbio_mean_rating,homebio_mean_rating]\n",
    "mean_rating['Mean All Rating'] = [groceryall_mean_rating,healthcareall_mean_rating,gardenall_mean_rating,homeall_mean_rating]"
   ]
  },
  {
   "cell_type": "code",
   "execution_count": 98,
   "metadata": {
    "scrolled": true
   },
   "outputs": [
    {
     "data": {
      "text/plain": [
       "Text(0,0.5,'Overall rating')"
      ]
     },
     "execution_count": 98,
     "metadata": {},
     "output_type": "execute_result"
    },
    {
     "data": {
      "image/png": "[encoded data removed]",
      "text/plain": [
       "<Figure size 1152x360 with 1 Axes>"
      ]
     },
     "metadata": {
      "needs_background": "light"
     },
     "output_type": "display_data"
    }
   ],
   "source": [
    "fig, axes = plt.subplots()\n",
    "fig.set_size_inches(16,5)\n",
    "\n",
    "axes.plot(mean_rating.index,mean_rating['Mean Bio Rating'], label=\"Ecofriendly Products\", color='green')\n",
    "axes.plot(mean_rating.index,mean_rating['Mean All Rating'], label=\"All Products\", color='salmon')\n",
    "\n",
    "plt.title(\"Mean Rating per Category\")\n",
    "plt.legend(['Ecofriendly Products', 'All Products'])\n",
    "plt.ylabel(\"Overall rating\")"
   ]
  },
  {
   "cell_type": "markdown",
   "metadata": {},
   "source": [
    "### Correlation SalesRank and Rating Analysis\n",
    "We now want to analyze the correlations with the salerank.\n",
    "Indeed, is the salerank position related to the number of reviews or the overall rating of the products ?\n",
    "We will even add the publication year of each product."
   ]
  },
  {
   "cell_type": "code",
   "execution_count": 410,
   "metadata": {},
   "outputs": [],
   "source": [
    "# Average rating for each products\n",
    "# First, add every overall rating for each product (we will divide by the number of reviews after)\n",
    "gardenall_product_rating =  patiolawn_garden_reviews.rdd.map(lambda r: [r[0],r[2]]) \\\n",
    "            .reduceByKey(lambda a,b: a+b)\n",
    "\n",
    "gardenall_product_rating_df = spark.createDataFrame(gardenall_product_rating)\n",
    "\n",
    "gardenall_product_rating_pd = gardenall_product_rating_df.toPandas()\n",
    "gardenall_product_rating_pd.columns= ['productID','rating']\n",
    "\n",
    "# Join average rating per product with number of reviews per product\n",
    "# the index is productID\n",
    "gardenall_info_products = gardenall_nbreviews_pd.set_index('productID').join(gardenall_product_rating_pd.set_index('productID'))\n",
    "\n",
    "\n",
    "gardenall_info_products.columns = ['nb_reviews','rating']\n",
    "# Divide the rating by the number of overall ratings per product\n",
    "gardenall_info_products['rating'] = gardenall_info_products['rating'].divide(gardenall_info_products['nb_reviews'])\n"
   ]
  },
  {
   "cell_type": "code",
   "execution_count": 411,
   "metadata": {},
   "outputs": [],
   "source": [
    "# Extract the salesRank per product\n",
    "gardenall_salesrank = patiolawn_garden_datacleaned.rdd.flatMap(lambda r: [(r[0], r[5])])\n",
    "\n",
    "schema = StructType([\n",
    "    StructField(\"productID\", StringType(), True),\n",
    "    StructField(\"salesRank\", IntegerType(), True)\n",
    "])\n",
    "\n",
    "gardenall_salesrank_df = spark.createDataFrame(gardenall_salesrank, schema=schema)\n",
    "gardenall_salesrank_pd = gardenall_salesrank_df.toPandas()\n",
    "\n",
    "# Join the previous dataframe (rating + nb_reviews) with salesRank\n",
    "gardenall_info_products = gardenall_info_products.join(gardenall_salesrank_pd.set_index('productID'))\n",
    "gardenall_info_products = gardenall_info_products.dropna()\n",
    "\n",
    "# We will now add the Publication Year per product\n",
    "gardeneall_firstrev_pd.columns = ['productID','Year']\n",
    "gardenall_info_products = gardenall_info_products.join(gardeneall_firstrev_pd.set_index('productID'))"
   ]
  },
  {
   "cell_type": "code",
   "execution_count": 412,
   "metadata": {},
   "outputs": [
    {
     "data": {
      "text/html": [
       "<div>\n",
       "<style scoped>\n",
       "    .dataframe tbody tr th:only-of-type {\n",
       "        vertical-align: middle;\n",
       "    }\n",
       "\n",
       "    .dataframe tbody tr th {\n",
       "        vertical-align: top;\n",
       "    }\n",
       "\n",
       "    .dataframe thead th {\n",
       "        text-align: right;\n",
       "    }\n",
       "</style>\n",
       "<table border=\"1\" class=\"dataframe\">\n",
       "  <thead>\n",
       "    <tr style=\"text-align: right;\">\n",
       "      <th></th>\n",
       "      <th>nb_reviews</th>\n",
       "      <th>rating</th>\n",
       "      <th>salesRank</th>\n",
       "      <th>Year</th>\n",
       "    </tr>\n",
       "    <tr>\n",
       "      <th>productID</th>\n",
       "      <th></th>\n",
       "      <th></th>\n",
       "      <th></th>\n",
       "      <th></th>\n",
       "    </tr>\n",
       "  </thead>\n",
       "  <tbody>\n",
       "    <tr>\n",
       "      <th>B000HCLLMM</th>\n",
       "      <td>3180</td>\n",
       "      <td>4.545283</td>\n",
       "      <td>1081.0</td>\n",
       "      <td>2007</td>\n",
       "    </tr>\n",
       "    <tr>\n",
       "      <th>B000071NUS</th>\n",
       "      <td>2348</td>\n",
       "      <td>4.266610</td>\n",
       "      <td>41.0</td>\n",
       "      <td>2003</td>\n",
       "    </tr>\n",
       "    <tr>\n",
       "      <th>B00004R9VV</th>\n",
       "      <td>2091</td>\n",
       "      <td>4.130560</td>\n",
       "      <td>111.0</td>\n",
       "      <td>2001</td>\n",
       "    </tr>\n",
       "    <tr>\n",
       "      <th>B00004SD7B</th>\n",
       "      <td>1707</td>\n",
       "      <td>4.793790</td>\n",
       "      <td>3668.0</td>\n",
       "      <td>2002</td>\n",
       "    </tr>\n",
       "    <tr>\n",
       "      <th>B000WEOQV8</th>\n",
       "      <td>1466</td>\n",
       "      <td>4.854707</td>\n",
       "      <td>9.0</td>\n",
       "      <td>2008</td>\n",
       "    </tr>\n",
       "  </tbody>\n",
       "</table>\n",
       "</div>"
      ],
      "text/plain": [
       "            nb_reviews    rating  salesRank  Year\n",
       "productID                                        \n",
       "B000HCLLMM        3180  4.545283     1081.0  2007\n",
       "B000071NUS        2348  4.266610       41.0  2003\n",
       "B00004R9VV        2091  4.130560      111.0  2001\n",
       "B00004SD7B        1707  4.793790     3668.0  2002\n",
       "B000WEOQV8        1466  4.854707        9.0  2008"
      ]
     },
     "execution_count": 412,
     "metadata": {},
     "output_type": "execute_result"
    }
   ],
   "source": [
    "gardenall_info_products.sort_values('nb_reviews', ascending=False).head()"
   ]
  },
  {
   "cell_type": "markdown",
   "metadata": {},
   "source": [
    "We will now try to observe the correlations between the columns. "
   ]
  },
  {
   "cell_type": "code",
   "execution_count": 413,
   "metadata": {},
   "outputs": [],
   "source": [
    "gardenall_filtered_info_products = gardenall_info_products[gardenall_info_products['nb_reviews']>100]"
   ]
  },
  {
   "cell_type": "code",
   "execution_count": 414,
   "metadata": {
    "scrolled": true
   },
   "outputs": [
    {
     "data": {
      "text/html": [
       "<div>\n",
       "<style scoped>\n",
       "    .dataframe tbody tr th:only-of-type {\n",
       "        vertical-align: middle;\n",
       "    }\n",
       "\n",
       "    .dataframe tbody tr th {\n",
       "        vertical-align: top;\n",
       "    }\n",
       "\n",
       "    .dataframe thead th {\n",
       "        text-align: right;\n",
       "    }\n",
       "</style>\n",
       "<table border=\"1\" class=\"dataframe\">\n",
       "  <thead>\n",
       "    <tr style=\"text-align: right;\">\n",
       "      <th></th>\n",
       "      <th>nb_reviews</th>\n",
       "      <th>rating</th>\n",
       "      <th>salesRank</th>\n",
       "      <th>Year</th>\n",
       "    </tr>\n",
       "  </thead>\n",
       "  <tbody>\n",
       "    <tr>\n",
       "      <th>nb_reviews</th>\n",
       "      <td>1.000000</td>\n",
       "      <td>0.033764</td>\n",
       "      <td>-0.108203</td>\n",
       "      <td>-0.125247</td>\n",
       "    </tr>\n",
       "    <tr>\n",
       "      <th>rating</th>\n",
       "      <td>0.033764</td>\n",
       "      <td>1.000000</td>\n",
       "      <td>-0.090120</td>\n",
       "      <td>0.034341</td>\n",
       "    </tr>\n",
       "    <tr>\n",
       "      <th>salesRank</th>\n",
       "      <td>-0.108203</td>\n",
       "      <td>-0.090120</td>\n",
       "      <td>1.000000</td>\n",
       "      <td>-0.224840</td>\n",
       "    </tr>\n",
       "    <tr>\n",
       "      <th>Year</th>\n",
       "      <td>-0.125247</td>\n",
       "      <td>0.034341</td>\n",
       "      <td>-0.224840</td>\n",
       "      <td>1.000000</td>\n",
       "    </tr>\n",
       "  </tbody>\n",
       "</table>\n",
       "</div>"
      ],
      "text/plain": [
       "            nb_reviews    rating  salesRank      Year\n",
       "nb_reviews    1.000000  0.033764  -0.108203 -0.125247\n",
       "rating        0.033764  1.000000  -0.090120  0.034341\n",
       "salesRank    -0.108203 -0.090120   1.000000 -0.224840\n",
       "Year         -0.125247  0.034341  -0.224840  1.000000"
      ]
     },
     "execution_count": 414,
     "metadata": {},
     "output_type": "execute_result"
    }
   ],
   "source": [
    "gardenall_filtered_info_products.corr()"
   ]
  },
  {
   "cell_type": "markdown",
   "metadata": {},
   "source": [
    "The correlation between the column do not give any valuable information. Indeed it seems there is no correlation between the columns. \n",
    "We will explore a bit further by grouping the different products in clusters following the 'Year' and the 'nb_reviews'. Then in these clusters which will have equivalent popularity (and associated year) we will check if the rating is correlated with the salesrank. "
   ]
  },
  {
   "cell_type": "code",
   "execution_count": 415,
   "metadata": {},
   "outputs": [],
   "source": [
    "#X = filtered['nb_reviews'].values\n",
    "X = gardenall_filtered_info_products[['nb_reviews','Year']].values\n",
    "numb_clusters = 80\n",
    "kmeans = KMeans(n_clusters=numb_clusters, random_state=0).fit(X)\n",
    "\n",
    "correlation_list = []\n",
    "for i in range(numb_clusters):\n",
    "    myind = kmeans.labels_ == i\n",
    "    clustered_info_product = filtered.iloc[myind]\n",
    "    if(len(clustered_info_product)>1):\n",
    "        current_correlation = clustered_info_product['rating'].corr(clustered_info_product['salesRank'])\n",
    "        correlation_list.append(current_correlation)"
   ]
  },
  {
   "cell_type": "code",
   "execution_count": 416,
   "metadata": {
    "scrolled": false
   },
   "outputs": [
    {
     "name": "stdout",
     "output_type": "stream",
     "text": [
      "Average correlation (in clusters) between Rating and Salesrank : -0.04410063744041425\n"
     ]
    }
   ],
   "source": [
    "# Compute the average correlation between rating and salesrank\n",
    "print(\"Average correlation (in clusters) between Rating and Salesrank : \"+str(np.sum(correlation_list)/len(correlation_list)))"
   ]
  },
  {
   "cell_type": "markdown",
   "metadata": {},
   "source": [
    "It seems that there is no correlation between the rating and the salesrank.\n",
    "We can observe a cluster to understand why."
   ]
  },
  {
   "cell_type": "code",
   "execution_count": 417,
   "metadata": {},
   "outputs": [
    {
     "name": "stdout",
     "output_type": "stream",
     "text": [
      "Correlation between Rating & salesRank for last cluster : 0.477247346073349\n"
     ]
    },
    {
     "data": {
      "text/html": [
       "<div>\n",
       "<style scoped>\n",
       "    .dataframe tbody tr th:only-of-type {\n",
       "        vertical-align: middle;\n",
       "    }\n",
       "\n",
       "    .dataframe tbody tr th {\n",
       "        vertical-align: top;\n",
       "    }\n",
       "\n",
       "    .dataframe thead th {\n",
       "        text-align: right;\n",
       "    }\n",
       "</style>\n",
       "<table border=\"1\" class=\"dataframe\">\n",
       "  <thead>\n",
       "    <tr style=\"text-align: right;\">\n",
       "      <th></th>\n",
       "      <th>nb_reviews</th>\n",
       "      <th>rating</th>\n",
       "      <th>salesRank</th>\n",
       "      <th>Year</th>\n",
       "    </tr>\n",
       "    <tr>\n",
       "      <th>productID</th>\n",
       "      <th></th>\n",
       "      <th></th>\n",
       "      <th></th>\n",
       "      <th></th>\n",
       "    </tr>\n",
       "  </thead>\n",
       "  <tbody>\n",
       "    <tr>\n",
       "      <th>B002DM1Z5C</th>\n",
       "      <td>471</td>\n",
       "      <td>3.934183</td>\n",
       "      <td>588.0</td>\n",
       "      <td>2010</td>\n",
       "    </tr>\n",
       "    <tr>\n",
       "      <th>B00005AKZE</th>\n",
       "      <td>473</td>\n",
       "      <td>4.357294</td>\n",
       "      <td>2064.0</td>\n",
       "      <td>2002</td>\n",
       "    </tr>\n",
       "    <tr>\n",
       "      <th>B0000DINGG</th>\n",
       "      <td>477</td>\n",
       "      <td>3.784067</td>\n",
       "      <td>224.0</td>\n",
       "      <td>2007</td>\n",
       "    </tr>\n",
       "    <tr>\n",
       "      <th>B000NZZG3S</th>\n",
       "      <td>475</td>\n",
       "      <td>4.526316</td>\n",
       "      <td>564.0</td>\n",
       "      <td>2007</td>\n",
       "    </tr>\n",
       "    <tr>\n",
       "      <th>B0001WV010</th>\n",
       "      <td>477</td>\n",
       "      <td>4.584906</td>\n",
       "      <td>2728.0</td>\n",
       "      <td>2006</td>\n",
       "    </tr>\n",
       "    <tr>\n",
       "      <th>B002ZVOLY8</th>\n",
       "      <td>479</td>\n",
       "      <td>3.757829</td>\n",
       "      <td>1691.0</td>\n",
       "      <td>2010</td>\n",
       "    </tr>\n",
       "  </tbody>\n",
       "</table>\n",
       "</div>"
      ],
      "text/plain": [
       "            nb_reviews    rating  salesRank  Year\n",
       "productID                                        \n",
       "B002DM1Z5C         471  3.934183      588.0  2010\n",
       "B00005AKZE         473  4.357294     2064.0  2002\n",
       "B0000DINGG         477  3.784067      224.0  2007\n",
       "B000NZZG3S         475  4.526316      564.0  2007\n",
       "B0001WV010         477  4.584906     2728.0  2006\n",
       "B002ZVOLY8         479  3.757829     1691.0  2010"
      ]
     },
     "execution_count": 417,
     "metadata": {},
     "output_type": "execute_result"
    }
   ],
   "source": [
    "# This will show the last cluster computed\n",
    "print(\"Correlation between Rating & salesRank for last cluster : \"+str(current_correlation))\n",
    "clustered_info_product"
   ]
  },
  {
   "cell_type": "markdown",
   "metadata": {},
   "source": [
    "The pearson correlation coefficient goes from -1 to 1. We could expect the correlation to be -1, if we think that if the rating is really high then the salesRank is really low (top position).\n",
    "\n",
    "We can observe that the clustering is here well performed where the values in nb_reviews and year are equivalent.\n",
    "Then, observing the rating feature, we can say that there is no correlation by hand.\n",
    "Indeed taking the product 'B0000DINGG' with a rating of 3.78 which is low, has the best salesRank position. Whereas the product 'B0001WV010' with a rating of 4.584 which is the best of this cluster, possess the worst salesRank. \n",
    "\n",
    "After trying with different clusters numbers, different categories and using products eco-friendly or not, the behavior was remaining the same, there is __no correlation__. That is why we only showed the analysis for one case, avoiding the repetition leading to the same conclusion."
   ]
  },
  {
   "cell_type": "markdown",
   "metadata": {},
   "source": [
    "### Top Ecofriendly Products Analysis\n",
    "> Patio Lawn Garden case analysis\n",
    "\n",
    "__Extraction of top product__"
   ]
  },
  {
   "cell_type": "code",
   "execution_count": 449,
   "metadata": {},
   "outputs": [],
   "source": [
    "# Average rating for each products\n",
    "# First, add every overall rating for each product (we will divide by the number of reviews after)\n",
    "gardenbio_product_rating =  patiolawn_garden_review_product_join.rdd.map(lambda r: [r[0],r[8]]) \\\n",
    "            .reduceByKey(lambda a,b: a+b)\n",
    "\n",
    "gardenbio_product_rating_df = spark.createDataFrame(gardenbio_product_rating)\n",
    "\n",
    "gardenbio_product_rating_pd = gardenbio_product_rating_df.toPandas()\n",
    "gardenbio_product_rating_pd.columns= ['productID','rating']\n",
    "\n",
    "# Join average rating per product with number of reviews per product\n",
    "# the index is productID\n",
    "gardenbio_info_products = gardenbio_nbreviews_pd.set_index('productID').join(gardenbio_product_rating_pd.set_index('productID'))\n",
    "\n",
    "\n",
    "gardenbio_info_products.columns = ['nb_reviews','rating']\n",
    "# Divide the rating by the number of overall ratings per product\n",
    "gardenbio_info_products['rating'] = gardenbio_info_products['rating'].divide(gardenbio_info_products['nb_reviews'])\n"
   ]
  },
  {
   "cell_type": "code",
   "execution_count": 450,
   "metadata": {},
   "outputs": [],
   "source": [
    "# Extract the salesRank per product\n",
    "gardenbio_salesrank = patiolawn_garden_filter_products_bio.flatMap(lambda r: [(r[0], r[5])])\n",
    "\n",
    "schema = StructType([\n",
    "    StructField(\"productID\", StringType(), True),\n",
    "    StructField(\"salesRank\", IntegerType(), True)\n",
    "])\n",
    "\n",
    "gardenbio_salesrank_df = spark.createDataFrame(gardenbio_salesrank, schema=schema)\n",
    "gardenbio_salesrank_pd = gardenbio_salesrank_df.toPandas()\n",
    "\n",
    "# Join the previous dataframe (rating + nb_reviews) with salesRank\n",
    "gardenbio_info_products = gardenbio_info_products.join(gardenbio_salesrank_pd.set_index('productID'))\n",
    "gardenbio_info_products = gardenbio_info_products.dropna()\n",
    "\n",
    "# We will now add the Publication Year per product\n",
    "gardenbio_firstrev_pd.columns = ['productID','Year']\n",
    "gardenbio_info_products = gardenbio_info_products.join(gardenbio_firstrev_pd.set_index('productID'))"
   ]
  },
  {
   "cell_type": "code",
   "execution_count": 455,
   "metadata": {},
   "outputs": [
    {
     "data": {
      "text/html": [
       "<div>\n",
       "<style scoped>\n",
       "    .dataframe tbody tr th:only-of-type {\n",
       "        vertical-align: middle;\n",
       "    }\n",
       "\n",
       "    .dataframe tbody tr th {\n",
       "        vertical-align: top;\n",
       "    }\n",
       "\n",
       "    .dataframe thead th {\n",
       "        text-align: right;\n",
       "    }\n",
       "</style>\n",
       "<table border=\"1\" class=\"dataframe\">\n",
       "  <thead>\n",
       "    <tr style=\"text-align: right;\">\n",
       "      <th></th>\n",
       "      <th>nb_reviews</th>\n",
       "      <th>rating</th>\n",
       "      <th>salesRank</th>\n",
       "      <th>Year</th>\n",
       "    </tr>\n",
       "    <tr>\n",
       "      <th>productID</th>\n",
       "      <th></th>\n",
       "      <th></th>\n",
       "      <th></th>\n",
       "      <th></th>\n",
       "    </tr>\n",
       "  </thead>\n",
       "  <tbody>\n",
       "    <tr>\n",
       "      <th>B001AN7RGG</th>\n",
       "      <td>346</td>\n",
       "      <td>4.664740</td>\n",
       "      <td>21.0</td>\n",
       "      <td>2009</td>\n",
       "    </tr>\n",
       "    <tr>\n",
       "      <th>B0006OIZO8</th>\n",
       "      <td>166</td>\n",
       "      <td>4.409639</td>\n",
       "      <td>61.0</td>\n",
       "      <td>2009</td>\n",
       "    </tr>\n",
       "    <tr>\n",
       "      <th>B0030GEXUO</th>\n",
       "      <td>821</td>\n",
       "      <td>3.856273</td>\n",
       "      <td>96.0</td>\n",
       "      <td>2010</td>\n",
       "    </tr>\n",
       "    <tr>\n",
       "      <th>B000FOKXBW</th>\n",
       "      <td>50</td>\n",
       "      <td>4.080000</td>\n",
       "      <td>285.0</td>\n",
       "      <td>2010</td>\n",
       "    </tr>\n",
       "    <tr>\n",
       "      <th>B000NZZG3S</th>\n",
       "      <td>475</td>\n",
       "      <td>4.526316</td>\n",
       "      <td>564.0</td>\n",
       "      <td>2007</td>\n",
       "    </tr>\n",
       "  </tbody>\n",
       "</table>\n",
       "</div>"
      ],
      "text/plain": [
       "            nb_reviews    rating  salesRank  Year\n",
       "productID                                        \n",
       "B001AN7RGG         346  4.664740       21.0  2009\n",
       "B0006OIZO8         166  4.409639       61.0  2009\n",
       "B0030GEXUO         821  3.856273       96.0  2010\n",
       "B000FOKXBW          50  4.080000      285.0  2010\n",
       "B000NZZG3S         475  4.526316      564.0  2007"
      ]
     },
     "execution_count": 455,
     "metadata": {},
     "output_type": "execute_result"
    }
   ],
   "source": [
    "gardenbio_info_products.sort_values('salesRank').head()"
   ]
  },
  {
   "cell_type": "markdown",
   "metadata": {},
   "source": [
    "We observe that the best ecofriendly product for the category 'Patio Lawn Garden' is the 'B001AN7RGG' with a salesRank of 21 and nb_reviews = 346 and the publication year = 2009.\n",
    "\n",
    "\n",
    "Let's take a look on this product"
   ]
  },
  {
   "cell_type": "code",
   "execution_count": 477,
   "metadata": {
    "scrolled": true
   },
   "outputs": [
    {
     "data": {
      "text/plain": [
       "[Row(asin='B001AN7RGG', brand='Weber', category='Patio, Lawn & Garden', description='Get grilling sooner with our odorless, non-toxic fuel cubes that light easily, even when wet. This is the ideal companion for any charcoal grill. Box of 24 cubes. Fast lighting, environmentally safe and smokeless. Can also be used in any well-ventilated indoor or outdoor wood-burning fireplace.', price=7.449999809265137, salesRank=21, title='Weber 7417 FireStarters Lighter Cubes, 24 Count')]"
      ]
     },
     "execution_count": 477,
     "metadata": {},
     "output_type": "execute_result"
    }
   ],
   "source": [
    "patiolawn_garden_filter_products_bio.filter(lambda r: (r[0] == \"B001AN7RGG\")).take(1)"
   ]
  },
  {
   "cell_type": "markdown",
   "metadata": {},
   "source": [
    "Now we can see that the top ecofriendly product of the Garden category is a pack of environmentally friendly firestarters. Let's observe the other firestarters to draw a comparison.\n",
    "\n",
    "__Equivalent product comparison__"
   ]
  },
  {
   "cell_type": "code",
   "execution_count": 491,
   "metadata": {},
   "outputs": [],
   "source": [
    "firestarters = patiolawn_garden_datacleaned.rdd.filter(lambda r: (r[6] != None)) \\\n",
    "    .filter(lambda r: (any(word in r[6].lower() for word in ['firestarters', 'fire starters'])) )"
   ]
  },
  {
   "cell_type": "code",
   "execution_count": 497,
   "metadata": {},
   "outputs": [],
   "source": [
    "firestarters_df = spark.createDataFrame(firestarters)\n",
    "\n",
    "firestarters_pd = firestarters_df.toPandas()\n",
    "firestarters_pd = firestarters_pd.drop(['brand','category'], axis=1)"
   ]
  },
  {
   "cell_type": "code",
   "execution_count": 498,
   "metadata": {},
   "outputs": [
    {
     "data": {
      "text/html": [
       "<div>\n",
       "<style scoped>\n",
       "    .dataframe tbody tr th:only-of-type {\n",
       "        vertical-align: middle;\n",
       "    }\n",
       "\n",
       "    .dataframe tbody tr th {\n",
       "        vertical-align: top;\n",
       "    }\n",
       "\n",
       "    .dataframe thead th {\n",
       "        text-align: right;\n",
       "    }\n",
       "</style>\n",
       "<table border=\"1\" class=\"dataframe\">\n",
       "  <thead>\n",
       "    <tr style=\"text-align: right;\">\n",
       "      <th></th>\n",
       "      <th>asin</th>\n",
       "      <th>description</th>\n",
       "      <th>price</th>\n",
       "      <th>salesRank</th>\n",
       "      <th>title</th>\n",
       "    </tr>\n",
       "  </thead>\n",
       "  <tbody>\n",
       "    <tr>\n",
       "      <th>0</th>\n",
       "      <td>B000F62ZAC</td>\n",
       "      <td>Our Fire Starters are made from sawdust and pa...</td>\n",
       "      <td>9.89</td>\n",
       "      <td>2591</td>\n",
       "      <td>Big Green Egg Fire Starters</td>\n",
       "    </tr>\n",
       "    <tr>\n",
       "      <th>1</th>\n",
       "      <td>B001AN7RGG</td>\n",
       "      <td>Get grilling sooner with our odorless, non-tox...</td>\n",
       "      <td>7.45</td>\n",
       "      <td>21</td>\n",
       "      <td>Weber 7417 FireStarters Lighter Cubes, 24 Count</td>\n",
       "    </tr>\n",
       "    <tr>\n",
       "      <th>2</th>\n",
       "      <td>B00C4ZDYTS</td>\n",
       "      <td>WESTERN Red Hot Fire Starters are made from hi...</td>\n",
       "      <td>22.91</td>\n",
       "      <td>75882</td>\n",
       "      <td>WESTERN 02418 24-Pack Red Hot Fire Starters</td>\n",
       "    </tr>\n",
       "    <tr>\n",
       "      <th>3</th>\n",
       "      <td>B00CXPMBAW</td>\n",
       "      <td>Fire &amp; Flavor&amp;#x2019;s story began years ago i...</td>\n",
       "      <td>5.99</td>\n",
       "      <td>6521</td>\n",
       "      <td>Fire &amp;amp; Flavor 24-Piece Fire Starters</td>\n",
       "    </tr>\n",
       "    <tr>\n",
       "      <th>4</th>\n",
       "      <td>B00DMXK9P8</td>\n",
       "      <td>Grate Chef 6pk Fire Starters. A Noncombustible...</td>\n",
       "      <td>1.99</td>\n",
       "      <td>134174</td>\n",
       "      <td>Grate Chef 601-1200 6-Pack Fire Starters</td>\n",
       "    </tr>\n",
       "  </tbody>\n",
       "</table>\n",
       "</div>"
      ],
      "text/plain": [
       "         asin                                        description  price  \\\n",
       "0  B000F62ZAC  Our Fire Starters are made from sawdust and pa...   9.89   \n",
       "1  B001AN7RGG  Get grilling sooner with our odorless, non-tox...   7.45   \n",
       "2  B00C4ZDYTS  WESTERN Red Hot Fire Starters are made from hi...  22.91   \n",
       "3  B00CXPMBAW  Fire & Flavor&#x2019;s story began years ago i...   5.99   \n",
       "4  B00DMXK9P8  Grate Chef 6pk Fire Starters. A Noncombustible...   1.99   \n",
       "\n",
       "   salesRank                                            title  \n",
       "0       2591                      Big Green Egg Fire Starters  \n",
       "1         21  Weber 7417 FireStarters Lighter Cubes, 24 Count  \n",
       "2      75882      WESTERN 02418 24-Pack Red Hot Fire Starters  \n",
       "3       6521         Fire &amp; Flavor 24-Piece Fire Starters  \n",
       "4     134174         Grate Chef 601-1200 6-Pack Fire Starters  "
      ]
     },
     "execution_count": 498,
     "metadata": {},
     "output_type": "execute_result"
    }
   ],
   "source": [
    "firestarters_pd"
   ]
  },
  {
   "cell_type": "markdown",
   "metadata": {},
   "source": [
    "We will now observe the description for each product."
   ]
  },
  {
   "cell_type": "code",
   "execution_count": 500,
   "metadata": {
    "scrolled": true
   },
   "outputs": [
    {
     "data": {
      "text/plain": [
       "'Our Fire Starters are made from sawdust and paraffin and are very effective for quickly and easily lighting lump charcoal without imparting a chemical taste. A box contains 24 cubes. The Electric Starter, if you prefer that method of lighting, will light the charcoal in about eight minutes.\\n\\nDirections:\\n\\n~Fill the fire box with lump charcoal to at least 1 inch above the air holes.\\n~With the lid open, slide the draft door completely open.\\n~Nestle 1 or 2 Big Green Egg Starters into the charcoal and light. After approximately 10 mins, or whenever several coals are burning, close the lid.\\n~When the temperature gauge reaches the desired cooking temperature, reduce the airflow by adjusting the dual function metal top and draft door.\\n\\n** Do not hold Fire Starter in hand to light.'"
      ]
     },
     "execution_count": 500,
     "metadata": {},
     "output_type": "execute_result"
    }
   ],
   "source": [
    "firestarters_pd.iloc[0]['description']"
   ]
  },
  {
   "cell_type": "markdown",
   "metadata": {},
   "source": [
    ">Product 0 : Not ecofriendly"
   ]
  },
  {
   "cell_type": "code",
   "execution_count": 503,
   "metadata": {},
   "outputs": [
    {
     "data": {
      "text/plain": [
       "'Get grilling sooner with our odorless, non-toxic fuel cubes that light easily, even when wet. This is the ideal companion for any charcoal grill. Box of 24 cubes. Fast lighting, environmentally safe and smokeless. Can also be used in any well-ventilated indoor or outdoor wood-burning fireplace.'"
      ]
     },
     "execution_count": 503,
     "metadata": {},
     "output_type": "execute_result"
    }
   ],
   "source": [
    "firestarters_pd.iloc[1]['description']"
   ]
  },
  {
   "cell_type": "markdown",
   "metadata": {},
   "source": [
    ">Product 1 : Ecofriendly (our top product)"
   ]
  },
  {
   "cell_type": "code",
   "execution_count": 513,
   "metadata": {
    "scrolled": true
   },
   "outputs": [
    {
     "data": {
      "text/plain": [
       "'WESTERN Red Hot Fire Starters are made from high quality wax and dried hardwood sawdust to create a fast-starting, clean burning, safe way to quickly and easily light your BBQ fire. They are waterproof and environmentally friendly to give you the finest quality possible.'"
      ]
     },
     "execution_count": 513,
     "metadata": {},
     "output_type": "execute_result"
    }
   ],
   "source": [
    "firestarters_pd.iloc[2]['description']"
   ]
  },
  {
   "cell_type": "markdown",
   "metadata": {},
   "source": [
    ">Product 2 : Ecofriendly"
   ]
  },
  {
   "cell_type": "code",
   "execution_count": 515,
   "metadata": {
    "scrolled": true
   },
   "outputs": [
    {
     "data": {
      "text/plain": [
       "'Fire & Flavor&#x2019;s story began years ago in a busy kitchen in Reynolds, Georgia. It began with a love of family, friends, and Southern cuisine. Today Fire & Flavor shares all kinds of ways to make food more delicious, more nutritious, and with less work. Sharing food at the table is a time when many memories are created. Laugher, love and happiness make our world a better place, and at Fire & Flavor we are glad to be able to contribute to your family&#x2019;s culinary experience.'"
      ]
     },
     "execution_count": 515,
     "metadata": {},
     "output_type": "execute_result"
    }
   ],
   "source": [
    "firestarters_pd.iloc[3]['description']"
   ]
  },
  {
   "cell_type": "markdown",
   "metadata": {},
   "source": [
    ">Product 3 : Not ecofriendly"
   ]
  },
  {
   "cell_type": "code",
   "execution_count": 517,
   "metadata": {
    "scrolled": true
   },
   "outputs": [
    {
     "data": {
      "text/plain": [
       "'Grate Chef 6pk Fire Starters. A Noncombustible Fire Starter that is non toxic and lights any woos or charcoal fire without the use or taste of lighter fluid. Our Fire Starters are waterproof and are also a great product to use when camping.'"
      ]
     },
     "execution_count": 517,
     "metadata": {},
     "output_type": "execute_result"
    }
   ],
   "source": [
    "firestarters_pd.iloc[4]['description']"
   ]
  },
  {
   "cell_type": "markdown",
   "metadata": {},
   "source": [
    ">Product 4 : Not ecofriendly"
   ]
  },
  {
   "cell_type": "markdown",
   "metadata": {},
   "source": [
    "Let's update the dataframe with our findings.\n",
    "\n",
    "Remark : We could have classified the Ecofriendly/Or Not products using our preselected dataframe but we wanted to analyze the different type of text and description for this specific case."
   ]
  },
  {
   "cell_type": "code",
   "execution_count": 518,
   "metadata": {},
   "outputs": [],
   "source": [
    "firestarters_pd['Ecofriendly'] = [False,True,True,False,False]"
   ]
  },
  {
   "cell_type": "code",
   "execution_count": 519,
   "metadata": {},
   "outputs": [
    {
     "data": {
      "text/html": [
       "<div>\n",
       "<style scoped>\n",
       "    .dataframe tbody tr th:only-of-type {\n",
       "        vertical-align: middle;\n",
       "    }\n",
       "\n",
       "    .dataframe tbody tr th {\n",
       "        vertical-align: top;\n",
       "    }\n",
       "\n",
       "    .dataframe thead th {\n",
       "        text-align: right;\n",
       "    }\n",
       "</style>\n",
       "<table border=\"1\" class=\"dataframe\">\n",
       "  <thead>\n",
       "    <tr style=\"text-align: right;\">\n",
       "      <th></th>\n",
       "      <th>asin</th>\n",
       "      <th>description</th>\n",
       "      <th>price</th>\n",
       "      <th>salesRank</th>\n",
       "      <th>title</th>\n",
       "      <th>Ecofriendly</th>\n",
       "    </tr>\n",
       "  </thead>\n",
       "  <tbody>\n",
       "    <tr>\n",
       "      <th>0</th>\n",
       "      <td>B000F62ZAC</td>\n",
       "      <td>Our Fire Starters are made from sawdust and pa...</td>\n",
       "      <td>9.89</td>\n",
       "      <td>2591</td>\n",
       "      <td>Big Green Egg Fire Starters</td>\n",
       "      <td>False</td>\n",
       "    </tr>\n",
       "    <tr>\n",
       "      <th>1</th>\n",
       "      <td>B001AN7RGG</td>\n",
       "      <td>Get grilling sooner with our odorless, non-tox...</td>\n",
       "      <td>7.45</td>\n",
       "      <td>21</td>\n",
       "      <td>Weber 7417 FireStarters Lighter Cubes, 24 Count</td>\n",
       "      <td>True</td>\n",
       "    </tr>\n",
       "    <tr>\n",
       "      <th>2</th>\n",
       "      <td>B00C4ZDYTS</td>\n",
       "      <td>WESTERN Red Hot Fire Starters are made from hi...</td>\n",
       "      <td>22.91</td>\n",
       "      <td>75882</td>\n",
       "      <td>WESTERN 02418 24-Pack Red Hot Fire Starters</td>\n",
       "      <td>True</td>\n",
       "    </tr>\n",
       "    <tr>\n",
       "      <th>3</th>\n",
       "      <td>B00CXPMBAW</td>\n",
       "      <td>Fire &amp; Flavor&amp;#x2019;s story began years ago i...</td>\n",
       "      <td>5.99</td>\n",
       "      <td>6521</td>\n",
       "      <td>Fire &amp;amp; Flavor 24-Piece Fire Starters</td>\n",
       "      <td>False</td>\n",
       "    </tr>\n",
       "    <tr>\n",
       "      <th>4</th>\n",
       "      <td>B00DMXK9P8</td>\n",
       "      <td>Grate Chef 6pk Fire Starters. A Noncombustible...</td>\n",
       "      <td>1.99</td>\n",
       "      <td>134174</td>\n",
       "      <td>Grate Chef 601-1200 6-Pack Fire Starters</td>\n",
       "      <td>False</td>\n",
       "    </tr>\n",
       "  </tbody>\n",
       "</table>\n",
       "</div>"
      ],
      "text/plain": [
       "         asin                                        description  price  \\\n",
       "0  B000F62ZAC  Our Fire Starters are made from sawdust and pa...   9.89   \n",
       "1  B001AN7RGG  Get grilling sooner with our odorless, non-tox...   7.45   \n",
       "2  B00C4ZDYTS  WESTERN Red Hot Fire Starters are made from hi...  22.91   \n",
       "3  B00CXPMBAW  Fire & Flavor&#x2019;s story began years ago i...   5.99   \n",
       "4  B00DMXK9P8  Grate Chef 6pk Fire Starters. A Noncombustible...   1.99   \n",
       "\n",
       "   salesRank                                            title  Ecofriendly  \n",
       "0       2591                      Big Green Egg Fire Starters        False  \n",
       "1         21  Weber 7417 FireStarters Lighter Cubes, 24 Count         True  \n",
       "2      75882      WESTERN 02418 24-Pack Red Hot Fire Starters         True  \n",
       "3       6521         Fire &amp; Flavor 24-Piece Fire Starters        False  \n",
       "4     134174         Grate Chef 601-1200 6-Pack Fire Starters        False  "
      ]
     },
     "execution_count": 519,
     "metadata": {},
     "output_type": "execute_result"
    }
   ],
   "source": [
    "firestarters_pd"
   ]
  },
  {
   "cell_type": "markdown",
   "metadata": {},
   "source": [
    "We can now draw some conclusion after analyzing the different descriptions and the other features.\n",
    "The salesRank of our top product seems now more obvious. Indeed compared to the others this one is envorionmentally safe and is not too expensive. The last one seems to be a bit polluting and toxic, explaining his really low price.\n",
    "Then comparing the 2 ecofriendly firestarters, our top product is highly cheaper."
   ]
  },
  {
   "cell_type": "markdown",
   "metadata": {},
   "source": [
    "__Comparison with products from equivalent cluster class (K-means)__\n",
    "\n",
    "We now want to analyze the products with the same popularity, by number of reviews and the publication year. We will use the previously implemented K-means model of the 'Garden' category to see the equivalent products. \n",
    "\n",
    "Our top product has the following features :\n",
    "- Number of reviews = 346\n",
    "- Year = 2009\n",
    "- Rating = 4.6647"
   ]
  },
  {
   "cell_type": "code",
   "execution_count": 520,
   "metadata": {},
   "outputs": [],
   "source": [
    "index_cluster = (kmeans.labels_ == kmeans.predict([[346, 2009]])[0])\n",
    "clustered_info_product = filtered.iloc[index_cluster]"
   ]
  },
  {
   "cell_type": "code",
   "execution_count": 521,
   "metadata": {
    "scrolled": false
   },
   "outputs": [
    {
     "data": {
      "text/html": [
       "<div>\n",
       "<style scoped>\n",
       "    .dataframe tbody tr th:only-of-type {\n",
       "        vertical-align: middle;\n",
       "    }\n",
       "\n",
       "    .dataframe tbody tr th {\n",
       "        vertical-align: top;\n",
       "    }\n",
       "\n",
       "    .dataframe thead th {\n",
       "        text-align: right;\n",
       "    }\n",
       "</style>\n",
       "<table border=\"1\" class=\"dataframe\">\n",
       "  <thead>\n",
       "    <tr style=\"text-align: right;\">\n",
       "      <th></th>\n",
       "      <th>nb_reviews</th>\n",
       "      <th>rating</th>\n",
       "      <th>salesRank</th>\n",
       "      <th>Year</th>\n",
       "    </tr>\n",
       "    <tr>\n",
       "      <th>productID</th>\n",
       "      <th></th>\n",
       "      <th></th>\n",
       "      <th></th>\n",
       "      <th></th>\n",
       "    </tr>\n",
       "  </thead>\n",
       "  <tbody>\n",
       "    <tr>\n",
       "      <th>B001AN7RGG</th>\n",
       "      <td>346</td>\n",
       "      <td>4.664740</td>\n",
       "      <td>21.0</td>\n",
       "      <td>2009</td>\n",
       "    </tr>\n",
       "    <tr>\n",
       "      <th>B000H5SZ1Y</th>\n",
       "      <td>349</td>\n",
       "      <td>4.739255</td>\n",
       "      <td>775.0</td>\n",
       "      <td>2008</td>\n",
       "    </tr>\n",
       "    <tr>\n",
       "      <th>B000WEKNYW</th>\n",
       "      <td>353</td>\n",
       "      <td>4.065156</td>\n",
       "      <td>320.0</td>\n",
       "      <td>2008</td>\n",
       "    </tr>\n",
       "    <tr>\n",
       "      <th>B002UP0R2O</th>\n",
       "      <td>349</td>\n",
       "      <td>4.570201</td>\n",
       "      <td>433.0</td>\n",
       "      <td>2009</td>\n",
       "    </tr>\n",
       "    <tr>\n",
       "      <th>B005QIYL7E</th>\n",
       "      <td>353</td>\n",
       "      <td>4.070822</td>\n",
       "      <td>16.0</td>\n",
       "      <td>2012</td>\n",
       "    </tr>\n",
       "    <tr>\n",
       "      <th>B004L3AQ1U</th>\n",
       "      <td>353</td>\n",
       "      <td>4.580737</td>\n",
       "      <td>4187.0</td>\n",
       "      <td>2011</td>\n",
       "    </tr>\n",
       "    <tr>\n",
       "      <th>B0000AH849</th>\n",
       "      <td>349</td>\n",
       "      <td>4.501433</td>\n",
       "      <td>2049.0</td>\n",
       "      <td>2005</td>\n",
       "    </tr>\n",
       "    <tr>\n",
       "      <th>B003B6KQZE</th>\n",
       "      <td>351</td>\n",
       "      <td>4.056980</td>\n",
       "      <td>440.0</td>\n",
       "      <td>2010</td>\n",
       "    </tr>\n",
       "    <tr>\n",
       "      <th>B00004RALU</th>\n",
       "      <td>346</td>\n",
       "      <td>4.627168</td>\n",
       "      <td>658.0</td>\n",
       "      <td>2001</td>\n",
       "    </tr>\n",
       "  </tbody>\n",
       "</table>\n",
       "</div>"
      ],
      "text/plain": [
       "            nb_reviews    rating  salesRank  Year\n",
       "productID                                        \n",
       "B001AN7RGG         346  4.664740       21.0  2009\n",
       "B000H5SZ1Y         349  4.739255      775.0  2008\n",
       "B000WEKNYW         353  4.065156      320.0  2008\n",
       "B002UP0R2O         349  4.570201      433.0  2009\n",
       "B005QIYL7E         353  4.070822       16.0  2012\n",
       "B004L3AQ1U         353  4.580737     4187.0  2011\n",
       "B0000AH849         349  4.501433     2049.0  2005\n",
       "B003B6KQZE         351  4.056980      440.0  2010\n",
       "B00004RALU         346  4.627168      658.0  2001"
      ]
     },
     "execution_count": 521,
     "metadata": {},
     "output_type": "execute_result"
    }
   ],
   "source": [
    "clustered_info_product"
   ]
  },
  {
   "cell_type": "code",
   "execution_count": 483,
   "metadata": {},
   "outputs": [],
   "source": [
    "index_same_cluster = clustered_info_product.index"
   ]
  },
  {
   "cell_type": "code",
   "execution_count": 523,
   "metadata": {
    "scrolled": true
   },
   "outputs": [],
   "source": [
    "garden_products_from_cluster = patiolawn_garden_datacleaned.rdd.filter(lambda r: (any(word in r[0].upper() for word in index_same_cluster)))"
   ]
  },
  {
   "cell_type": "code",
   "execution_count": 527,
   "metadata": {},
   "outputs": [],
   "source": [
    "garden_products_from_cluster_df = spark.createDataFrame(garden_products_from_cluster)\n",
    "\n",
    "garden_products_from_cluster_pd = garden_products_from_cluster_df.toPandas()\n",
    "garden_products_from_cluster_pd = garden_products_from_cluster_pd.drop(['category','description'], axis=1)"
   ]
  },
  {
   "cell_type": "code",
   "execution_count": 528,
   "metadata": {},
   "outputs": [
    {
     "data": {
      "text/html": [
       "<div>\n",
       "<style scoped>\n",
       "    .dataframe tbody tr th:only-of-type {\n",
       "        vertical-align: middle;\n",
       "    }\n",
       "\n",
       "    .dataframe tbody tr th {\n",
       "        vertical-align: top;\n",
       "    }\n",
       "\n",
       "    .dataframe thead th {\n",
       "        text-align: right;\n",
       "    }\n",
       "</style>\n",
       "<table border=\"1\" class=\"dataframe\">\n",
       "  <thead>\n",
       "    <tr style=\"text-align: right;\">\n",
       "      <th></th>\n",
       "      <th>asin</th>\n",
       "      <th>brand</th>\n",
       "      <th>price</th>\n",
       "      <th>salesRank</th>\n",
       "      <th>title</th>\n",
       "    </tr>\n",
       "  </thead>\n",
       "  <tbody>\n",
       "    <tr>\n",
       "      <th>0</th>\n",
       "      <td>B00004RALU</td>\n",
       "      <td>Weber</td>\n",
       "      <td>54.500000</td>\n",
       "      <td>658</td>\n",
       "      <td>Weber 741001 Silver One-Touch 22-1/2-Inch Kett...</td>\n",
       "    </tr>\n",
       "    <tr>\n",
       "      <th>1</th>\n",
       "      <td>B0000AH849</td>\n",
       "      <td>Summit Chemical Co.</td>\n",
       "      <td>3.700000</td>\n",
       "      <td>2049</td>\n",
       "      <td>Summit 110-12 Mosquito Dunks, 6-Pack</td>\n",
       "    </tr>\n",
       "    <tr>\n",
       "      <th>2</th>\n",
       "      <td>B000H5SZ1Y</td>\n",
       "      <td>Gardex</td>\n",
       "      <td>7.590000</td>\n",
       "      <td>775</td>\n",
       "      <td>Gardex Leaf Scoops</td>\n",
       "    </tr>\n",
       "    <tr>\n",
       "      <th>3</th>\n",
       "      <td>B003B6KQZE</td>\n",
       "      <td>AR North America</td>\n",
       "      <td>94.989998</td>\n",
       "      <td>440</td>\n",
       "      <td>AR Blue Clean AR118 1,500 PSI 1.5 GPM Hand Car...</td>\n",
       "    </tr>\n",
       "    <tr>\n",
       "      <th>4</th>\n",
       "      <td>B004L3AQ1U</td>\n",
       "      <td>None</td>\n",
       "      <td>141.750000</td>\n",
       "      <td>4187</td>\n",
       "      <td>Apollo Horticulture GLK600GW19 600 Watt Grow L...</td>\n",
       "    </tr>\n",
       "    <tr>\n",
       "      <th>5</th>\n",
       "      <td>B000WEKNYW</td>\n",
       "      <td>Weber</td>\n",
       "      <td>21.240000</td>\n",
       "      <td>320</td>\n",
       "      <td>Weber 7516 Grill Out Handle Light</td>\n",
       "    </tr>\n",
       "    <tr>\n",
       "      <th>6</th>\n",
       "      <td>B001AN7RGG</td>\n",
       "      <td>Weber</td>\n",
       "      <td>7.450000</td>\n",
       "      <td>21</td>\n",
       "      <td>Weber 7417 FireStarters Lighter Cubes, 24 Count</td>\n",
       "    </tr>\n",
       "    <tr>\n",
       "      <th>7</th>\n",
       "      <td>B005QIYL7E</td>\n",
       "      <td>Intex</td>\n",
       "      <td>37.250000</td>\n",
       "      <td>16</td>\n",
       "      <td>Intex 1000-Gallon Filter Pump AC 110 to 120-Volt</td>\n",
       "    </tr>\n",
       "    <tr>\n",
       "      <th>8</th>\n",
       "      <td>B002UP0R2O</td>\n",
       "      <td>Hammocks Rada</td>\n",
       "      <td>63.990002</td>\n",
       "      <td>433</td>\n",
       "      <td>Hammocks Rada Handmade Yucatan Hammock Matrimo...</td>\n",
       "    </tr>\n",
       "  </tbody>\n",
       "</table>\n",
       "</div>"
      ],
      "text/plain": [
       "         asin                brand       price  salesRank  \\\n",
       "0  B00004RALU                Weber   54.500000        658   \n",
       "1  B0000AH849  Summit Chemical Co.    3.700000       2049   \n",
       "2  B000H5SZ1Y               Gardex    7.590000        775   \n",
       "3  B003B6KQZE     AR North America   94.989998        440   \n",
       "4  B004L3AQ1U                 None  141.750000       4187   \n",
       "5  B000WEKNYW                Weber   21.240000        320   \n",
       "6  B001AN7RGG                Weber    7.450000         21   \n",
       "7  B005QIYL7E                Intex   37.250000         16   \n",
       "8  B002UP0R2O        Hammocks Rada   63.990002        433   \n",
       "\n",
       "                                               title  \n",
       "0  Weber 741001 Silver One-Touch 22-1/2-Inch Kett...  \n",
       "1               Summit 110-12 Mosquito Dunks, 6-Pack  \n",
       "2                                 Gardex Leaf Scoops  \n",
       "3  AR Blue Clean AR118 1,500 PSI 1.5 GPM Hand Car...  \n",
       "4  Apollo Horticulture GLK600GW19 600 Watt Grow L...  \n",
       "5                  Weber 7516 Grill Out Handle Light  \n",
       "6    Weber 7417 FireStarters Lighter Cubes, 24 Count  \n",
       "7   Intex 1000-Gallon Filter Pump AC 110 to 120-Volt  \n",
       "8  Hammocks Rada Handmade Yucatan Hammock Matrimo...  "
      ]
     },
     "execution_count": 528,
     "metadata": {},
     "output_type": "execute_result"
    }
   ],
   "source": [
    "garden_products_from_cluster_pd"
   ]
  },
  {
   "cell_type": "markdown",
   "metadata": {},
   "source": [
    "The resulting dataframe showing the products contained in the same cluster as the top product (firestarters from Weber) do not present the same kind of products. It is composed of multiple objects, from some Mosquito Dunks to Filter Pump. However we can observe that the brand from our top product is represented 3 times in this cluster : 'Weber'. The salesRank associated with these products are approximately in the first 10% of the salesrank. The K-means interestingly grouped some products which have undirect similarities (Brand, salesRank) in addition to the number of reviews. "
   ]
  },
  {
   "cell_type": "code",
   "execution_count": null,
   "metadata": {},
   "outputs": [],
   "source": []
  },
  {
   "cell_type": "code",
   "execution_count": null,
   "metadata": {},
   "outputs": [],
   "source": []
  },
  {
   "cell_type": "code",
   "execution_count": null,
   "metadata": {},
   "outputs": [],
   "source": []
  },
  {
   "cell_type": "code",
   "execution_count": null,
   "metadata": {},
   "outputs": [],
   "source": []
  },
  {
   "cell_type": "code",
   "execution_count": 76,
   "metadata": {},
   "outputs": [],
   "source": [
    "def custom_round(val):\n",
    "    return (np.ceil(val * 100)/100)"
   ]
  },
  {
   "cell_type": "code",
   "execution_count": 77,
   "metadata": {},
   "outputs": [],
   "source": [
    "def compute_helpful(positive, total):\n",
    "    if(total == 0):\n",
    "        res = -1\n",
    "    else:\n",
    "        res = positive/total\n",
    "        res = custom_round(res)\n",
    "    return str(res)"
   ]
  },
  {
   "cell_type": "code",
   "execution_count": 78,
   "metadata": {},
   "outputs": [],
   "source": [
    "gardenbio_helpful =  patiolawn_garden_review_product_join.rdd.map(lambda r: [compute_helpful(r[7][0],r[7][1]),1]) \\\n",
    "            .reduceByKey(lambda a,b: a+b)"
   ]
  },
  {
   "cell_type": "code",
   "execution_count": 79,
   "metadata": {},
   "outputs": [],
   "source": [
    "gardenbio_helpful_df = spark.createDataFrame(gardenbio_helpful)\n",
    "\n",
    "gardenbio_helpful_pd = gardenbio_helpful_df.toPandas()"
   ]
  },
  {
   "cell_type": "code",
   "execution_count": 80,
   "metadata": {},
   "outputs": [
    {
     "ename": "IndexError",
     "evalue": "list index out of range",
     "output_type": "error",
     "traceback": [
      "\u001b[1;31m---------------------------------------------------------------------------\u001b[0m",
      "\u001b[1;31mIndexError\u001b[0m                                Traceback (most recent call last)",
      "\u001b[1;32m<ipython-input-80-d7726a951ff6>\u001b[0m in \u001b[0;36m<module>\u001b[1;34m()\u001b[0m\n\u001b[0;32m      3\u001b[0m     \u001b[0msplitted\u001b[0m \u001b[1;33m=\u001b[0m \u001b[0mhelpful\u001b[0m\u001b[1;33m.\u001b[0m\u001b[0msplit\u001b[0m\u001b[1;33m(\u001b[0m\u001b[1;34m'/'\u001b[0m\u001b[1;33m)\u001b[0m\u001b[1;33m\u001b[0m\u001b[0m\n\u001b[0;32m      4\u001b[0m \u001b[1;33m\u001b[0m\u001b[0m\n\u001b[1;32m----> 5\u001b[1;33m     \u001b[1;32mif\u001b[0m\u001b[1;33m(\u001b[0m\u001b[0mint\u001b[0m\u001b[1;33m(\u001b[0m\u001b[0msplitted\u001b[0m\u001b[1;33m[\u001b[0m\u001b[1;36m1\u001b[0m\u001b[1;33m]\u001b[0m\u001b[1;33m)\u001b[0m \u001b[1;33m==\u001b[0m \u001b[1;36m0\u001b[0m\u001b[1;33m)\u001b[0m\u001b[1;33m:\u001b[0m\u001b[1;33m\u001b[0m\u001b[0m\n\u001b[0m\u001b[0;32m      6\u001b[0m         \u001b[0mres\u001b[0m \u001b[1;33m=\u001b[0m \u001b[1;33m-\u001b[0m\u001b[1;36m1\u001b[0m\u001b[1;33m\u001b[0m\u001b[0m\n\u001b[0;32m      7\u001b[0m     \u001b[1;32melse\u001b[0m\u001b[1;33m:\u001b[0m\u001b[1;33m\u001b[0m\u001b[0m\n",
      "\u001b[1;31mIndexError\u001b[0m: list index out of range"
     ]
    }
   ],
   "source": [
    "i=0\n",
    "for helpful in gardenbio_helpful_pd['_1']:\n",
    "    splitted = helpful.split('/')\n",
    "    \n",
    "    if(int(splitted[1]) == 0):\n",
    "        res = -1\n",
    "    else:\n",
    "        res = int(splitted[0])/int(splitted[1])\n",
    "        res = custom_round(res)\n",
    "    i= i+1\n",
    "    gardenbio_helpful_pd.loc[i,'newind'] = res"
   ]
  },
  {
   "cell_type": "code",
   "execution_count": null,
   "metadata": {},
   "outputs": [],
   "source": [
    "gardenbio_helpful_pd = gardenbio_helpful_pd.set_index('newind')"
   ]
  },
  {
   "cell_type": "code",
   "execution_count": null,
   "metadata": {},
   "outputs": [],
   "source": [
    "gardenbio_helpful_pd = gardenbio_helpful_pd.set_index('_1')"
   ]
  },
  {
   "cell_type": "code",
   "execution_count": null,
   "metadata": {},
   "outputs": [],
   "source": [
    "gardenbio_helpful_pd = gardenbio_helpful_pd.sort_index()"
   ]
  },
  {
   "cell_type": "code",
   "execution_count": null,
   "metadata": {
    "scrolled": true
   },
   "outputs": [],
   "source": [
    "gardenbio_helpful_pd.plot(kind='bar', log=True)"
   ]
  },
  {
   "cell_type": "code",
   "execution_count": null,
   "metadata": {},
   "outputs": [],
   "source": []
  },
  {
   "cell_type": "code",
   "execution_count": null,
   "metadata": {},
   "outputs": [],
   "source": []
  }
 ],
 "metadata": {
  "kernelspec": {
   "display_name": "Python [default]",
   "language": "python",
   "name": "python3"
  },
  "language_info": {
   "codemirror_mode": {
    "name": "ipython",
    "version": 3
   },
   "file_extension": ".py",
   "mimetype": "text/x-python",
   "name": "python",
   "nbconvert_exporter": "python",
   "pygments_lexer": "ipython3",
   "version": "3.5.6"
  }
 },
 "nbformat": 4,
 "nbformat_minor": 2
}
