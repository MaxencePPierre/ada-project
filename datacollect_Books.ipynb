{
 "cells": [
  {
   "cell_type": "code",
   "execution_count": 1,
   "metadata": {},
   "outputs": [],
   "source": [
    "import pandas as pd\n",
    "import numpy as np\n",
    "import scipy as sp\n",
    "\n",
    "import matplotlib.pyplot as plt\n",
    "\n",
    "from datetime import datetime\n",
    "\n",
    "%matplotlib inline"
   ]
  },
  {
   "cell_type": "code",
   "execution_count": 2,
   "metadata": {},
   "outputs": [],
   "source": [
    "import findspark\n",
    "findspark.init()\n",
    "import pyspark\n",
    "\n",
    "from pyspark.sql.types import DateType\n",
    "from pyspark.sql.types import TimestampType\n",
    "from pyspark.sql.functions import *\n",
    "import pyspark.sql.functions as fn\n",
    "from pyspark.sql import Window\n",
    "from pyspark.sql.types import *\n",
    "from pyspark.sql import *\n",
    "from pyspark.sql import SQLContext\n",
    "\n",
    "spark = SparkSession.builder.getOrCreate()\n",
    "sc = spark.sparkContext\n",
    "sqlContext = SQLContext(sc)"
   ]
  },
  {
   "cell_type": "markdown",
   "metadata": {},
   "source": [
    "<h1>Data Collection</h1>\n",
    "\n",
    "Amazon Data : Collection/Analysis of data from Amazon (Reviews and Metadata of products) associated to the thema : ecology, bio, renewable etc... (see keywords vector)\n",
    "\n",
    "__Review data__ : \n",
    "Download http://jmcauley.ucsd.edu/data/amazon/links.html go to 'Per Category Files' section and DL 'reviews' file for a \n",
    "chosen category. (Or the Complete Review Data 18GB) It is better to not take the 5-core data as it contains only 5 reviews for each products (we're missing data)\n",
    "\n",
    "Features:\n",
    "\n",
    "- reviewerID - ID of the reviewer, e.g. A2SUAM1J3GNN3B\n",
    "- asin - ID of the product, e.g. 0000013714\n",
    "- reviewerName - name of the reviewer\n",
    "- helpful - helpfulness rating of the review, e.g. 2/3\n",
    "- reviewText - text of the review\n",
    "- overall - rating of the product\n",
    "- summary - summary of the review\n",
    "- unixReviewTime - time of the review (unix time)\n",
    "- reviewTime - time of the review (raw)\n",
    "\n",
    "__Metadata (Product)__ : \n",
    "Download http://jmcauley.ucsd.edu/data/amazon/links.html go to 'Per Category Files' section and DL 'metadata' file for a chosen category. (Or the Complete Review Data 18GB) It is better to not take the 5-core data as it contains only 5 reviews for each products (we're missing data)\n",
    "\n",
    "\n",
    "Features:\n",
    "\n",
    "- asin - ID of the product, e.g. 0000031852\n",
    "- title - name of the product\n",
    "- price - price in US dollars (at time of crawl)\n",
    "- imUrl - url of the product image\n",
    "- related - related products (also bought, also viewed, bought together, buy after viewing)\n",
    "- salesRank - sales rank information\n",
    "- brand - brand name\n",
    "- categories - list of categories the product belongs to\n",
    "\n"
   ]
  },
  {
   "cell_type": "markdown",
   "metadata": {},
   "source": [
    "<h3> TO DO LIST </h3>\n",
    "\n",
    "In the followings statements, 'extracted' means filtered with the thema : products/reviews associated to bio/ecology/renewable etc...\n",
    "\n",
    "- Choose category to focus on : Books ? / Health Care ....\n",
    "- Show Proportion of extracted data compared to the full data (of the category)\n",
    "- Comparison of extracted data between categories (which one contains the most related products/review interest)\n",
    "- Distribution Price of extracted data (per category) --> Compare between category and with not extracted data in the same category\n",
    "- Distribution salesRank of extracted data (best per category, mean, proportion of 10% first, 20%first etc...) --> Compare between category and with not extracted data in the same category\n",
    "\n",
    "- __Keywords__ : How to efficiently implement the selection of related data ? Currently with a list of key words, can use regexp, better writing of keywords etc.. ?\n",
    "\n",
    "- Associate Metadata with Reviews : __Join__\n",
    "> - Extract year of 1st review (which will give the publication year of the product -approximately-)\n",
    "> - Histograms number of extracted products per year \n",
    "> - Histograms number of extracted reviews per year\n",
    "> - Nb of reviews per product per category --> Distribution, compare between categories and with not extracted data to see if reviewers are more inerested/active with our thema products compared to others\n",
    "> - Helplful note : Compare between categories / Overall\n",
    "> - Mean rating product : Compare with other products\n",
    "\n",
    "\n",
    "- __Prediction__\n",
    "> - Nb of products for following years (Linear Regression)\n",
    "> - Sentiment Analysis on Reviews (Experiment ?)\n",
    "> - Prediction overall on price for following years ? (LR)\n"
   ]
  },
  {
   "cell_type": "markdown",
   "metadata": {},
   "source": [
    "Create a folder named 'data' and store the downloaded json zip file. Then unzip in there to get the json file."
   ]
  },
  {
   "cell_type": "code",
   "execution_count": 3,
   "metadata": {},
   "outputs": [],
   "source": [
    "DATA_DIR = 'data/'"
   ]
  },
  {
   "cell_type": "code",
   "execution_count": 4,
   "metadata": {},
   "outputs": [],
   "source": [
    "keywords = [\" global warming\", \" solar energy\", \" recycling \", \" pollution \", \"solar power\", \" endangered species\", \"air pollution\", \\\n",
    "\" water pollution\", \" wind energy\", \" climate change\", \" wind power\", \" recycle \", \" deforestation\", \" greenhouse effect\", \"environment\", \\\n",
    "\" sustainability \", \" natural resources\", \"alternative energy\", \" climate \", \"global warming\", \"renewable energy\", \" ecology\", \"composting\", \\\n",
    "\" carbon footprint\", \" bio \", \" biosphere \", \" renewable \"]"
   ]
  },
  {
   "cell_type": "markdown",
   "metadata": {},
   "source": [
    "Need to load once the global json. You probably won't be able to store it in parquet directly because some features ('related' or 'categories' e.g) can't be written in a file as it is a specific array with weird names. \n",
    "You then to clean first the data and store it to parquet. If you want next to retrieve some deleted features ('related' for example) you better do the filtering and extraction on the cleaned dataset and then merge or filter the global dataset using the new one."
   ]
  },
  {
   "cell_type": "markdown",
   "metadata": {},
   "source": [
    "> __SAMPLE WITH THE CATEGORY HEALTH AND PERSONAL CARE METADATA__\n",
    "\n",
    "Download the meta_Health_and_Personal_Care.json file"
   ]
  },
  {
   "cell_type": "code",
   "execution_count": 5,
   "metadata": {},
   "outputs": [],
   "source": [
    "meta_products = spark.read.json(DATA_DIR+\"meta_Books.json\")"
   ]
  },
  {
   "cell_type": "code",
   "execution_count": 6,
   "metadata": {},
   "outputs": [
    {
     "data": {
      "text/plain": [
       "[Row(_corrupt_record=None, asin='0001048791', brand=None, categories=[['Books']], description=None, imUrl='http://ecx.images-amazon.com/images/I/51MKP0T4DBL.jpg', price=None, related=None, salesRank=Row(Arts, Crafts & Sewing=None, Books=6334800, Cell Phones & Accessories=None, Clothing=None, Electronics=None, Health & Personal Care=None, Home &amp; Kitchen=None, Industrial & Scientific=None, Jewelry=None, Kitchen & Dining=None, Movies & TV=None, Music=None, Musical Instruments=None, Office Products=None, Shoes=None, Sports &amp; Outdoors=None, Toys & Games=None), title='The Crucible: Performed by Stuart Pankin, Jerome Dempsey &amp; Cast')]"
      ]
     },
     "execution_count": 6,
     "metadata": {},
     "output_type": "execute_result"
    }
   ],
   "source": [
    "# To see an example of the data\n",
    "meta_products.take(1)"
   ]
  },
  {
   "cell_type": "markdown",
   "metadata": {},
   "source": [
    "These are the IDs for each feature in order to extract them in some filtering/flatmap functions with spark\n",
    "\n",
    "Example: lambda r: r[0], r[1] etc...\n",
    "\n",
    "- _corrupt_record 0\n",
    "- asin 1\n",
    "- brand 2\n",
    "- categories 3\n",
    "- description 4\n",
    "- imUrl 5\n",
    "- price 6 \n",
    "- related 7 \n",
    "- salesRank 8\n",
    "- title 9"
   ]
  },
  {
   "cell_type": "markdown",
   "metadata": {},
   "source": [
    "> The next code will extract the relevant and writtable features. It will then store it into parquet "
   ]
  },
  {
   "cell_type": "code",
   "execution_count": 7,
   "metadata": {},
   "outputs": [],
   "source": [
    "# This will extract only the features and turn them into more readable features.\n",
    "# Filter salesRank = None because this will lead to problems for the writing in parquet\n",
    "# Features removed : corruptRecord, imURL, related\n",
    "data_cleaned = meta_products.rdd.flatMap(lambda r: [(r[1], r[2], 'Books', r[4], r[6],  r[9] )]) \n",
    "\n",
    "\n",
    "#"
   ]
  },
  {
   "cell_type": "code",
   "execution_count": 8,
   "metadata": {},
   "outputs": [],
   "source": [
    "# Define the StructType to define the DataFrame that we'll create with the previously extracted rdd table\n",
    "\n",
    "schema = StructType([\n",
    "    StructField(\"asin\", StringType(), True),\n",
    "    StructField(\"brand\", StringType(), True),\n",
    "    StructField(\"category\", StringType(), True),\n",
    "    StructField(\"description\", StringType(), True),\n",
    "    StructField(\"price\", FloatType(), True),\n",
    "    #StructField(\"salesRank\", IntegerType(), True),\n",
    "    StructField(\"title\", StringType(), True)\n",
    "])"
   ]
  },
  {
   "cell_type": "code",
   "execution_count": 9,
   "metadata": {
    "scrolled": true
   },
   "outputs": [],
   "source": [
    "# Transform the RDD data into DataFrame (we'll then be able to store it in Parquet)\n",
    "datacleaned_DF = spark.createDataFrame(data_cleaned, schema=schema)"
   ]
  },
  {
   "cell_type": "code",
   "execution_count": 10,
   "metadata": {
    "scrolled": true
   },
   "outputs": [
    {
     "name": "stdout",
     "output_type": "stream",
     "text": [
      "+----------+-----+--------+--------------------+-----+--------------------+\n",
      "|      asin|brand|category|         description|price|               title|\n",
      "+----------+-----+--------+--------------------+-----+--------------------+\n",
      "|0001048791| null|   Books|                null| null|The Crucible: Per...|\n",
      "|0001048775| null|   Books|William Shakespea...| null|Measure for Measu...|\n",
      "|0001048236| null|   Books|&#34;One thing is...| 9.26|The Sherlock Holm...|\n",
      "+----------+-----+--------+--------------------+-----+--------------------+\n",
      "only showing top 3 rows\n",
      "\n"
     ]
    }
   ],
   "source": [
    "# Example of the cleaned data (and association with the created StrucType schema)\n",
    "datacleaned_DF.show(3)"
   ]
  },
  {
   "cell_type": "code",
   "execution_count": 11,
   "metadata": {},
   "outputs": [],
   "source": [
    "#Save into parquet to save time in the next times\n",
    "datacleaned_DF.write.mode('overwrite').parquet(\"meta_Books.parquet\")"
   ]
  },
  {
   "cell_type": "code",
   "execution_count": 12,
   "metadata": {},
   "outputs": [],
   "source": [
    "# Read from the parquet data\n",
    "datacleaned_DF = spark.read.parquet(\"meta_Books.parquet\")"
   ]
  },
  {
   "cell_type": "code",
   "execution_count": 13,
   "metadata": {
    "scrolled": true
   },
   "outputs": [
    {
     "data": {
      "text/plain": [
       "[Row(asin='1453610596', brand=None, category='Books', description=None, price=1.9900000095367432, title='The Complete Works of Ralph Waldo Emerson &amp; Henry David Thoreau')]"
      ]
     },
     "execution_count": 13,
     "metadata": {},
     "output_type": "execute_result"
    }
   ],
   "source": [
    "# Example to see the structure of data (The StrucType schema is indeed there)\n",
    "datacleaned_DF.take(1)"
   ]
  },
  {
   "cell_type": "markdown",
   "metadata": {},
   "source": [
    "Now that we created the new dataset here are the features ID of this new one.\n",
    "\n",
    "These are the IDs for each feature in order to extract them in some filtering/flatmap functions with spark\n",
    "Example: lambda r: r[0], r[1] etc...\n",
    "\n",
    "- asin 0\n",
    "- brand 1\n",
    "- category 2\n",
    "- description 3\n",
    "- price 4 \n",
    "- title 5"
   ]
  },
  {
   "cell_type": "code",
   "execution_count": 14,
   "metadata": {},
   "outputs": [
    {
     "name": "stdout",
     "output_type": "stream",
     "text": [
      "Number of data samples : 2370585\n"
     ]
    }
   ],
   "source": [
    "print(\"Number of data samples : \" + str(datacleaned_DF.rdd.count()) )"
   ]
  },
  {
   "cell_type": "markdown",
   "metadata": {},
   "source": [
    "> We will now extract the data related to our thema : Ecology, Bio, Renewable etc..."
   ]
  },
  {
   "cell_type": "code",
   "execution_count": 15,
   "metadata": {},
   "outputs": [],
   "source": [
    "# Filter with title and description not equal to None\n",
    "# We will then be able to test if those features contains words defined in the keyword vector \n",
    "# The keyword vector represents the thema that we want : ecology, bio etc...\n",
    "filter_products_bio = datacleaned_DF.rdd.filter(lambda r: (r[5] != None) &  (r[3] != None)) \\\n",
    "                    .filter(lambda r: (any(word in r[5].lower() for word in keywords)) | (any(word in r[3].lower() for word in keywords)) ) \n",
    "\n"
   ]
  },
  {
   "cell_type": "code",
   "execution_count": 16,
   "metadata": {
    "scrolled": true
   },
   "outputs": [
    {
     "name": "stdout",
     "output_type": "stream",
     "text": [
      "Number of data samples related to ecology/bio/renewable etc... : 20723\n"
     ]
    }
   ],
   "source": [
    "print(\"Number of data samples related to ecology/bio/renewable etc... : \" + str(filter_products_bio.count()) )"
   ]
  },
  {
   "cell_type": "code",
   "execution_count": 17,
   "metadata": {
    "scrolled": true
   },
   "outputs": [
    {
     "data": {
      "text/plain": [
       "[Row(asin='1453618805', brand=None, category='Books', description=\"Edmund Kealoha Parker Sr. was born on March 19, 1931, in Honolulu, Hawaii.  Growing up in the harsh Honolulu environment, young Ed had many opportunities to defend himself, his principles, and his honor. Ed attended Kamehameha High School, he excelled in sports, becoming an accomplished athlete. He became a judo black belt by the age of fifteen, as well as an amateur boxing champion. He competed in track and field, and became a member of the Junior Varsity Football Team.  Ed was born and raised in a devout Mormon household. He graduated from Kamehameha High School served his country in the Coast Guard for three years. He worked hard to achieve his Black Belt Certificate from Professor William K. S. Chow June 5, 1953. During his high school and young adult years he dated Marguerite Leilani Bertelmann Yap. He graduated from Brigham Young University and married Marguerite Leilani Bertelmann Yap in December 28, 1954 in the Church of Jesus Christ of  Latter-day Saints, Salt Lake, Utah Temple. Edmund opened the first Karate Studio in Pasadena, California in 1956. Karate was unknown in California. Terry Robinson a close friend who owned a private health club in Beverly Hills, the Beverly Wilshire Health Club. Introduce Ed to many celebrities whom Ed taught, Bob Wagner, Natalie Word, Mac Donald Carey, Elkie Sommers, Blake Edwards, Frank Lovejoy, Audy Murphy, Nick Adams, Gary Cooper and Elvis Presley.  Ed when meeting and becoming close friends with Bruce Lee introduced Bruce to the directors who eventually cast Bruce Lee in the TV show the Green Hornet. Ed appeared in many movies and television shows, including Revenge of the Pink Panther and The Curse of the Pink Panther. He also was on The Lucy Show where he taught Lucille Ball and Ethel Mertz. He was in The Courtship of Eddie's Father and I Spy.  Ed taught many thousands all over the World. He frequently put on Seminars and Demonstrations in Australia, England, Ireland, Spain, Chile, Venezuela, Sweden, Holland and Greece. For many years Mr. Parker authored many books which still sell very well all over the World. Basic Booklet on Karate, Kenpo Karate Law of the Fist, The Women's Guide to Self Defense, Secrets of Chinese Karate, Infinite Insights into Kenpo 1-5 volumes, The Zen of Kenpo, The Encyclopedia of Kenpo, & Guide to the Nunchaku. Ed Parker's true Aloha spirit is truly missed all over the world. Please check out his website at: www.edparkersr.com\", price=13.5, title='Kenpo Karate: Law of the Fist and the Empty Hand'),\n",
       " Row(asin='1453626751', brand=None, category='Books', description=\"What I tried to accomplish in this book is to show that one's life is affected as much by circumstances as by emotions. My professional books dealt with the ways the social environment affected behavior.&#xA0; By this, I mean if you pay someone to look the other way, there is a good chance they will look the other way. But in my own life I found that I was affected by many more factors: chance encounters, whims, love, uncertain feelings and convictions. Rewards, pay, gain yes, I paid some attention to them but love and sex was as crucial. Sometimes I did not understand why I was doing what I was doing.From Paris to Berkeleyattempts to tell you that slowly, amusingly and persuasively.\", price=9.989999771118164, title='From Paris to Berkeley: Memoir'),\n",
       " Row(asin='1453636196', brand=None, category='Books', description='West Australian born Judith Evered received a BA with honors from the University of West Australia and did research on accident proneness in children at Perth Children&#x2019;s Hospital. As a student, she played competitive tennis and crossed the Australian desert, Nullarbor, to play intervarsity and interstate hockey.  In 1951, she moved to London and continued to live communally while at the Women&#x2019;s International Crosby Hall. She met American, German, Finish and other folk as she explored Europe and interviewed for public opinion around the English countryside. After enrolling in the University of London&#x2019;s School of Economics, she met her future husband Roger Evered. In 1961, Roger accepted a research teaching position at the University of Michigan Ann Arbor and the family moved to the U.S. In 1963, they relocated to Newport Beach, California when Roger took a job in Long Beach. At this time, Judith co-led a course entitled developing personal potential through the UCLA extension and studied practical media production at Long Beach Community College as well as early childhood development at Orange Coast College. After moving to Santa Barabra, Judith completed an MA in confluent education at UCSB. She has been involved in community organizing for peace and freedom since the early 1970&#x2019;s and participated in marches for peace and justice in several U.S. cities. As a member of the Isla Vista Recreation and Park Board for three terms, she helped procure $1 million for new parks in Isla Vista. She also initiated the non-profit organization POISE (People for Open, Informal Self -directed Education) with a group of parents who petitioned the Goleta School Board to begin an open classroom. Judith has performed in street theater as Judge Judy in a trial of George Bush for murder and other related crimes. The 80 jurists formed by the audience unanimously voted him guilty.  Judith, a psychologist and educator by nature has a strong sense of solidarity with the Women&#x2019;s International League for Peace and Freedom, the Mothers for Peace and the Vandenberg Action Coalition. Sustainability is close to Judith&#x2019;s heart. She is qualified to teach Permaculture and enjoys sharing information for healthy habits, exercise and eating locally grown, organic foods. Her strength and passion will be forever in the memories of those fortunate enough to have made her acquaintance. She is blessed with three sons, their wives, five granddaughters and one grandson.', price=13.5, title='Protest Diablo: Living and Dying Under the Shadow of a Nuclear Power Plant')]"
      ]
     },
     "execution_count": 17,
     "metadata": {},
     "output_type": "execute_result"
    }
   ],
   "source": [
    "filter_products_bio.take(3)"
   ]
  },
  {
   "cell_type": "code",
   "execution_count": 18,
   "metadata": {},
   "outputs": [],
   "source": [
    "schema = StructType([\n",
    "    StructField(\"asin\", StringType(), True),\n",
    "    StructField(\"brand\", StringType(), True),\n",
    "    StructField(\"category\", StringType(), True),\n",
    "    StructField(\"description\", StringType(), True),\n",
    "    StructField(\"price\", FloatType(), True),\n",
    "    #StructField(\"salesRank\", IntegerType(), True),\n",
    "    StructField(\"title\", StringType(), True)\n",
    "])"
   ]
  },
  {
   "cell_type": "code",
   "execution_count": 19,
   "metadata": {},
   "outputs": [],
   "source": [
    "# Transform the RDD data into DataFrame (we'll then be able work and join with review data)\n",
    "DF_filter_products_bio = spark.createDataFrame(filter_products_bio, schema=schema)"
   ]
  },
  {
   "cell_type": "markdown",
   "metadata": {},
   "source": [
    "> __SAMPLE WITH THE CATEGORY HEALTH AND PERSONAL CARE REVIEWS__\n",
    "\n",
    "Download the reviews_Health_and_Personal_Care.json file"
   ]
  },
  {
   "cell_type": "code",
   "execution_count": 20,
   "metadata": {},
   "outputs": [],
   "source": [
    "reviews = spark.read.json(DATA_DIR+\"reviews_Books.json\")"
   ]
  },
  {
   "cell_type": "code",
   "execution_count": 21,
   "metadata": {},
   "outputs": [
    {
     "data": {
      "text/plain": [
       "[Row(asin='0000000116', helpful=[5, 5], overall=4.0, reviewText=\"Interesting Grisham tale of a lawyer that takes millions of dollars from his firm after faking his own death. Grisham usually is able to hook his readers early and ,in this case, doesn't play his hand to soon. The usually reliable Frank Mueller makes this story even an even better bet on Audiobook.\", reviewTime='04 27, 2002', reviewerID='AH2L9G3DQHHAJ', reviewerName='chris', summary='Show me the money!', unixReviewTime=1019865600)]"
      ]
     },
     "execution_count": 21,
     "metadata": {},
     "output_type": "execute_result"
    }
   ],
   "source": [
    "# To see an example of the data\n",
    "reviews.take(1)"
   ]
  },
  {
   "cell_type": "markdown",
   "metadata": {},
   "source": [
    "These are the IDs for each feature in order to extract them in some filtering/flatmap functions with spark\n",
    "\n",
    "Example: lambda r: r[0], r[1] etc...\n",
    "\n",
    "- asin 0\n",
    "- helpful 1\n",
    "- overall 2\n",
    "- reviewText 3\n",
    "- reviewTime 4\n",
    "- reviewerID 5\n",
    "- reviewerName 6 \n",
    "- summary 7 \n",
    "- unixReviewTime 8"
   ]
  },
  {
   "cell_type": "code",
   "execution_count": 22,
   "metadata": {},
   "outputs": [],
   "source": [
    "#Save into parquet to save time in the next times\n",
    "reviews.write.mode('overwrite').parquet(\"reviews_Books.parquet\")"
   ]
  },
  {
   "cell_type": "code",
   "execution_count": 23,
   "metadata": {},
   "outputs": [],
   "source": [
    "# Read from the parquet data\n",
    "reviews = spark.read.parquet(\"reviews_Books.parquet\")"
   ]
  },
  {
   "cell_type": "code",
   "execution_count": 24,
   "metadata": {},
   "outputs": [
    {
     "name": "stdout",
     "output_type": "stream",
     "text": [
      "Number of reviews : 22507155\n"
     ]
    }
   ],
   "source": [
    "print(\"Number of reviews : \" + str(reviews.rdd.count()) )"
   ]
  },
  {
   "cell_type": "markdown",
   "metadata": {},
   "source": [
    "__Join Reviews and Metadata__ \n",
    "\n",
    "We will now join the metadata and review dataset using the product ID. Then we'll have the reviews for all products concerned. Here we will join with the filtered data containing the products related to the thema 'bio,recycle,ecology' etc... \n",
    "\n",
    "Then in each row we will have the product description and the reviews associated"
   ]
  },
  {
   "cell_type": "code",
   "execution_count": 25,
   "metadata": {},
   "outputs": [],
   "source": [
    "# This way allows no duplicate\n",
    "review_product_join = DF_filter_products_bio.join(reviews, ['asin'])"
   ]
  },
  {
   "cell_type": "code",
   "execution_count": 26,
   "metadata": {},
   "outputs": [
    {
     "name": "stdout",
     "output_type": "stream",
     "text": [
      "Number of reviews related to bio/renewable/ecology etc... : 207836\n"
     ]
    }
   ],
   "source": [
    "print(\"Number of reviews related to bio/renewable/ecology etc... : \" + str(review_product_join.rdd.count()) )"
   ]
  },
  {
   "cell_type": "code",
   "execution_count": 27,
   "metadata": {
    "scrolled": true
   },
   "outputs": [
    {
     "data": {
      "text/plain": [
       "[Row(asin='0061866121', brand=None, category='Books', description=\"From bestselling author Simon Winchester comes the immense and thrilling story of the world's most mysterious and breathtaking natural wonder: the Atlantic Ocean.Atlanticis a biography of a tremendous space that has been central to the ambitions of explorers, scientists, and warriors, and continues profoundly to affect our character, attitudes, and dreams.  Spanning the ocean's story, from its geological origins to the age of exploration, from World War II battles to today's struggles with pollution and overfishing, Winchester's narrative is epic, intimate, and awe inspiring.Until a thousand years ago, few humans ventured into the Atlantic or imagined traversing its vast infinity. But once the first daring mariners successfully navigated to its far shores&#8212;whether they were Vikings, the Irish, the Basques, John Cabot, or Christopher Columbus in the north, or the Portuguese and the Spanish in the south&#8212;the Atlantic swiftly evolved in the world's growing consciousness of itself as an enclosed body of water. Soon it became the fulcrum of Western civilization. More than a mere history,Atlanticis an unforgettable journey of unprecedented scope by one of the most gifted writers in the English language.\", price=25.979999542236328, title='Atlantic', helpful=[2, 2], overall=5.0, reviewText=\"This is a monumental work on the Atlantic Ocean, covering its geography; the geological forces that produced and  continue to shape it; its currents; the rivers, glaciers and icebergs that feed it; its biota; its chemistry; its direct and indirect impacts on peoples, places, ideas, activities, and events; and man's changing relationship with it. Winchester weaves science, history, and personal experiences into an intellectually and artistically satisfying whole. The book educates, enlightens, fascinates, delights, awes, and gives pause. Highly recommended.\", reviewTime='05 6, 2013', reviewerID='A13F8VO3WGWOD1', reviewerName='Graybeard', summary='Monumental', unixReviewTime=1367798400)]"
      ]
     },
     "execution_count": 27,
     "metadata": {},
     "output_type": "execute_result"
    }
   ],
   "source": [
    "# Example of joined data\n",
    "review_product_join.take(1)"
   ]
  },
  {
   "cell_type": "code",
   "execution_count": 28,
   "metadata": {},
   "outputs": [],
   "source": [
    "review_product_join.write.mode('overwrite').parquet(\"joined_Books.parquet\")"
   ]
  },
  {
   "cell_type": "code",
   "execution_count": 29,
   "metadata": {},
   "outputs": [],
   "source": [
    "import pyspark.sql.functions as sqlf"
   ]
  },
  {
   "cell_type": "code",
   "execution_count": 30,
   "metadata": {},
   "outputs": [],
   "source": [
    "firstreview = review_product_join.groupBy(\"asin\").agg(sqlf.min(\"unixReviewTime\"))\n",
    "#.min('unixReviewTime')"
   ]
  },
  {
   "cell_type": "code",
   "execution_count": 31,
   "metadata": {},
   "outputs": [
    {
     "data": {
      "text/plain": [
       "[Row(asin='0061866121', min(unixReviewTime)=1346112000),\n",
       " Row(asin='0062506498', min(unixReviewTime)=1079308800),\n",
       " Row(asin='0070152829', min(unixReviewTime)=1245715200),\n",
       " Row(asin='0071402594', min(unixReviewTime)=1269129600),\n",
       " Row(asin='0071823654', min(unixReviewTime)=1388966400)]"
      ]
     },
     "execution_count": 31,
     "metadata": {},
     "output_type": "execute_result"
    }
   ],
   "source": [
    "firstreview.take(5)"
   ]
  },
  {
   "cell_type": "code",
   "execution_count": 32,
   "metadata": {},
   "outputs": [],
   "source": [
    "year_reviews_Pandas = firstreview.toPandas()"
   ]
  },
  {
   "cell_type": "code",
   "execution_count": 33,
   "metadata": {
    "scrolled": true
   },
   "outputs": [
    {
     "data": {
      "text/html": [
       "<div>\n",
       "<style scoped>\n",
       "    .dataframe tbody tr th:only-of-type {\n",
       "        vertical-align: middle;\n",
       "    }\n",
       "\n",
       "    .dataframe tbody tr th {\n",
       "        vertical-align: top;\n",
       "    }\n",
       "\n",
       "    .dataframe thead th {\n",
       "        text-align: right;\n",
       "    }\n",
       "</style>\n",
       "<table border=\"1\" class=\"dataframe\">\n",
       "  <thead>\n",
       "    <tr style=\"text-align: right;\">\n",
       "      <th></th>\n",
       "      <th>asin</th>\n",
       "      <th>min(unixReviewTime)</th>\n",
       "    </tr>\n",
       "  </thead>\n",
       "  <tbody>\n",
       "    <tr>\n",
       "      <th>0</th>\n",
       "      <td>0061866121</td>\n",
       "      <td>1346112000</td>\n",
       "    </tr>\n",
       "    <tr>\n",
       "      <th>1</th>\n",
       "      <td>0062506498</td>\n",
       "      <td>1079308800</td>\n",
       "    </tr>\n",
       "    <tr>\n",
       "      <th>2</th>\n",
       "      <td>0070152829</td>\n",
       "      <td>1245715200</td>\n",
       "    </tr>\n",
       "    <tr>\n",
       "      <th>3</th>\n",
       "      <td>0071402594</td>\n",
       "      <td>1269129600</td>\n",
       "    </tr>\n",
       "    <tr>\n",
       "      <th>4</th>\n",
       "      <td>0071823654</td>\n",
       "      <td>1388966400</td>\n",
       "    </tr>\n",
       "  </tbody>\n",
       "</table>\n",
       "</div>"
      ],
      "text/plain": [
       "         asin  min(unixReviewTime)\n",
       "0  0061866121           1346112000\n",
       "1  0062506498           1079308800\n",
       "2  0070152829           1245715200\n",
       "3  0071402594           1269129600\n",
       "4  0071823654           1388966400"
      ]
     },
     "execution_count": 33,
     "metadata": {},
     "output_type": "execute_result"
    }
   ],
   "source": [
    "year_reviews_Pandas.head()"
   ]
  },
  {
   "cell_type": "code",
   "execution_count": 34,
   "metadata": {},
   "outputs": [],
   "source": [
    "year_reviews_Pandas['Year'] = pd.to_datetime(year_reviews_Pandas['min(unixReviewTime)'],unit='s').map(lambda x: x.year)"
   ]
  },
  {
   "cell_type": "code",
   "execution_count": 35,
   "metadata": {
    "scrolled": false
   },
   "outputs": [
    {
     "data": {
      "text/plain": [
       "array([[<matplotlib.axes._subplots.AxesSubplot object at 0x1102b9ba8>]],\n",
       "      dtype=object)"
      ]
     },
     "execution_count": 35,
     "metadata": {},
     "output_type": "execute_result"
    },
    {
     "data": {
      "image/png": "[encoded data removed]",
      "text/plain": [
       "<Figure size 432x288 with 1 Axes>"
      ]
     },
     "metadata": {},
     "output_type": "display_data"
    }
   ],
   "source": [
    "year_reviews_Pandas.hist(\"Year\", color=\"lime\", log=True,bins=14)"
   ]
  },
  {
   "cell_type": "markdown",
   "metadata": {},
   "source": [
    "Evolution of nb of reviews /year linked to products bio/renwable etc..."
   ]
  },
  {
   "cell_type": "code",
   "execution_count": 36,
   "metadata": {},
   "outputs": [],
   "source": [
    "globalfirstreview = reviews.groupBy(\"asin\").agg(sqlf.min(\"unixReviewTime\"))"
   ]
  },
  {
   "cell_type": "code",
   "execution_count": 37,
   "metadata": {},
   "outputs": [
    {
     "data": {
      "text/plain": [
       "[Row(asin='0153157356', min(unixReviewTime)=1379980800),\n",
       " Row(asin='0153348518', min(unixReviewTime)=1262131200),\n",
       " Row(asin='0153375256', min(unixReviewTime)=1284249600),\n",
       " Row(asin='0153396245', min(unixReviewTime)=1241395200),\n",
       " Row(asin='0153820608', min(unixReviewTime)=1401840000)]"
      ]
     },
     "execution_count": 37,
     "metadata": {},
     "output_type": "execute_result"
    }
   ],
   "source": [
    "globalfirstreview.take(5)"
   ]
  },
  {
   "cell_type": "code",
   "execution_count": 38,
   "metadata": {},
   "outputs": [],
   "source": [
    "globalyear_reviews_Pandas = globalfirstreview.toPandas()"
   ]
  },
  {
   "cell_type": "code",
   "execution_count": 39,
   "metadata": {},
   "outputs": [],
   "source": [
    "globalyear_reviews_Pandas['Year'] = pd.to_datetime(globalyear_reviews_Pandas['min(unixReviewTime)'],unit='s').map(lambda x: x.year)"
   ]
  },
  {
   "cell_type": "code",
   "execution_count": 40,
   "metadata": {},
   "outputs": [
    {
     "data": {
      "text/plain": [
       "array([[<matplotlib.axes._subplots.AxesSubplot object at 0x1101dd320>]],\n",
       "      dtype=object)"
      ]
     },
     "execution_count": 40,
     "metadata": {},
     "output_type": "execute_result"
    },
    {
     "data": {
      "image/png": "[encoded data removed]",
      "text/plain": [
       "<Figure size 432x288 with 1 Axes>"
      ]
     },
     "metadata": {},
     "output_type": "display_data"
    }
   ],
   "source": [
    "globalyear_reviews_Pandas.hist(\"Year\", log=True, color=\"sienna\", bins = 14)"
   ]
  },
  {
   "cell_type": "markdown",
   "metadata": {},
   "source": [
    "We can see in the merged dataframe that there is the features from metadata about the products, and the features about the reviews. We will then describe the features ID : \n",
    "\n",
    "Example: lambda r: r[0], r[1] etc...\n",
    "\n",
    "- asin 0\n",
    "- brand 1\n",
    "- category 2\n",
    "- description 3\n",
    "- price 4\n",
    "- salesRank 5\n",
    "- title 6\n",
    "- helpful 7 \n",
    "- overall 8\n",
    "- reviewText 9\n",
    "- reviewTime 10\n",
    "- reviewerID 11\n",
    "- reviewerName 12\n",
    "- summary 13\n",
    "- unixReviewTime 14\n",
    "\n"
   ]
  },
  {
   "cell_type": "code",
   "execution_count": 41,
   "metadata": {},
   "outputs": [],
   "source": [
    "nbreviews_perproduct=  review_product_join.rdd.map(lambda r: [r[0],1]) \\\n",
    "            .reduceByKey(lambda a,b: a+b)"
   ]
  },
  {
   "cell_type": "code",
   "execution_count": 42,
   "metadata": {},
   "outputs": [],
   "source": [
    "nbreviews_DF = spark.createDataFrame(nbreviews_perproduct, ['productID','freq'])"
   ]
  },
  {
   "cell_type": "code",
   "execution_count": 43,
   "metadata": {},
   "outputs": [],
   "source": [
    "nbreviews_Pandas = nbreviews_DF.toPandas()"
   ]
  },
  {
   "cell_type": "code",
   "execution_count": 44,
   "metadata": {},
   "outputs": [
    {
     "data": {
      "text/plain": [
       "Text(0.5,1,'Nb of reviews/ Product Distribution Associated to Ecology/Bio etc..')"
      ]
     },
     "execution_count": 44,
     "metadata": {},
     "output_type": "execute_result"
    },
    {
     "data": {
      "image/png": "[encoded data removed]",
      "text/plain": [
       "<Figure size 1152x288 with 1 Axes>"
      ]
     },
     "metadata": {},
     "output_type": "display_data"
    }
   ],
   "source": [
    "fig, axes = plt.subplots(nrows=1, ncols=1, sharex=True, sharey=True)\n",
    "fig.set_size_inches(16,4)\n",
    "\n",
    "nbreviews_Pandas.hist(log=True, bins = 100, color=\"coral\", cumulative=-1,figsize =(16,4), ax=axes)\n",
    "\n",
    "axes.set_xlabel(\"Nb of reviews/ Product\")\n",
    "axes.set_ylabel(\"Frequency\")\n",
    "axes.set_title(\"Nb of reviews/ Product Distribution Associated to Ecology/Bio etc..\")"
   ]
  },
  {
   "cell_type": "code",
   "execution_count": null,
   "metadata": {},
   "outputs": [],
   "source": []
  }
 ],
 "metadata": {
  "kernelspec": {
   "display_name": "Python 3",
   "language": "python",
   "name": "python3"
  },
  "language_info": {
   "codemirror_mode": {
    "name": "ipython",
    "version": 3
   },
   "file_extension": ".py",
   "mimetype": "text/x-python",
   "name": "python",
   "nbconvert_exporter": "python",
   "pygments_lexer": "ipython3",
   "version": "3.6.5"
  }
 },
 "nbformat": 4,
 "nbformat_minor": 2
}
